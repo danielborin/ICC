{
  "cells": [
    {
      "cell_type": "markdown",
      "metadata": {
        "id": "VN9rNzkfaDss"
      },
      "source": [
        "# Exercicios: Sympy"
      ]
    },
    {
      "cell_type": "code",
      "execution_count": null,
      "metadata": {
        "id": "xcuSzzRraDsy"
      },
      "outputs": [],
      "source": [
        "import sympy as sym\n",
        "from sympy import init_session\n",
        "init_session()"
      ]
    },
    {
      "cell_type": "markdown",
      "metadata": {
        "id": "TPfdCuD0aDs1"
      },
      "source": [
        "1. Crie a expressão:\n",
        "\n",
        "    $$f = x e^{-x} + x (1-x)$$\n",
        "\n",
        "    Em seguida, avalie-a para\n",
        "\n",
        "    $$x = 0, 0.1, 0.2, 0.4, 0.8$$"
      ]
    },
    {
      "cell_type": "code",
      "execution_count": null,
      "metadata": {
        "colab": {
          "base_uri": "https://localhost:8080/"
        },
        "id": "_rP60s4KaDs2",
        "outputId": "f260bdcd-cd65-4cce-e6fa-19b71c2a1663"
      },
      "outputs": [
        {
          "output_type": "stream",
          "name": "stdout",
          "text": [
            "IPython console for SymPy 1.13.1 (Python 3.11.12-64-bit) (ground types: python)\n",
            "\n",
            "These commands were executed:\n",
            ">>> from sympy import *\n",
            ">>> x, y, z, t = symbols('x y z t')\n",
            ">>> k, m, n = symbols('k m n', integer=True)\n",
            ">>> f, g, h = symbols('f g h', cls=Function)\n",
            ">>> init_printing()\n",
            "\n",
            "Documentation can be found at https://docs.sympy.org/1.13.1/\n",
            "\n",
            "f(0) = 0\n",
            "f(0.1) = 0.180483741803596\n",
            "f(0.2) = 0.323746150615596\n",
            "f(0.4) = 0.508128018414256\n",
            "f(0.8) = 0.519463171293777\n"
          ]
        }
      ],
      "source": [
        "import sympy as sym\n",
        "from sympy import init_session\n",
        "init_session()\n",
        "\n",
        "#declarar a variável simbólica\n",
        "x = sym.Symbol('x')\n",
        "\n",
        "#criar a expressão\n",
        "f = x * sym.exp(-x) + x * (1 - x)\n",
        "\n",
        "#avaliar f para x = 0, 0.1, 0.2, 0.4, 0.8\n",
        "valores = [0, 0.1, 0.2, 0.4, 0.8]\n",
        "avaliacoes = [f.subs(x, valor) for valor in valores]\n",
        "\n",
        "#mostrar resultados\n",
        "for valor, avaliacao in zip(valores, avaliacoes):\n",
        "    print(f\"f({valor}) = {avaliacao}\")"
      ]
    },
    {
      "cell_type": "markdown",
      "metadata": {
        "id": "k5b9zTNeaDs3"
      },
      "source": [
        "2. Fatore o seguinte polinômio\n",
        "\n",
        "    $$x^{4} - 6 x^{3} + x^{2} + 24 x + 16$$\n",
        "\n",
        "    Em seguida, encontre suas raízes."
      ]
    },
    {
      "cell_type": "code",
      "execution_count": null,
      "metadata": {
        "colab": {
          "base_uri": "https://localhost:8080/"
        },
        "id": "39vFFeA2aDs5",
        "outputId": "394bee11-70f8-4a63-bcfd-7fe491852333"
      },
      "outputs": [
        {
          "output_type": "stream",
          "name": "stdout",
          "text": [
            "Polinômio fatorado:\n",
            "(x - 4)**2*(x + 1)**2\n",
            "Raízes:\n",
            "[-1, 4]\n"
          ]
        }
      ],
      "source": [
        "#definir o polinômio\n",
        "p = x**4 - 6*x**3 + x**2 + 24*x + 16\n",
        "\n",
        "#fatorar o polinômio\n",
        "fatorado = sym.factor(p)\n",
        "\n",
        "#mostrar o polinômio fatorado\n",
        "print(\"Polinômio fatorado:\")\n",
        "print(fatorado)\n",
        "\n",
        "#raízes\n",
        "raizes = sym.solve(fatorado)\n",
        "\n",
        "#mostrar as raízes\n",
        "print(\"Raízes:\")\n",
        "print(raizes)"
      ]
    },
    {
      "cell_type": "markdown",
      "metadata": {
        "id": "eQs8JATtaDs6"
      },
      "source": [
        "3. Integre a função:\n",
        "\n",
        "    $$f = \\sin(x) e^{-x}$$\n",
        "\n",
        "    Em seguida, diferencie o resultado para verificar se você retorna à função original."
      ]
    },
    {
      "cell_type": "code",
      "execution_count": null,
      "metadata": {
        "id": "XJS1PjbBaDs7"
      },
      "outputs": [],
      "source": []
    },
    {
      "cell_type": "markdown",
      "metadata": {
        "id": "HTmQUjGUaDs8"
      },
      "source": [
        "4. Escreva um programa que leia uma expressão matemática como uma string (por exemplo, `\"sin(2*pi*x)\"`), converta-a para uma expressão do sympy e então avalie conforme necessário.\n",
        "\n",
        "    Faça com que seu programa gere um gráfico da função inserida.\n",
        "    \n",
        "    Dica, utilize a função `parse_expr()` converte uma string em uma expressão do SymPy e a função `sympy.lambdify()` converte uma expressão do SymPy em uma função que pode ser chamada pelo Python(Você também pode torná-la compatível com o numpy, o que significa, por exemplo, que qualquer `sin()` na sua expressão do SymPy será avaliada usando `np.sin()`)."
      ]
    },
    {
      "cell_type": "code",
      "execution_count": null,
      "metadata": {
        "id": "zJn9WcLSaDs8"
      },
      "outputs": [],
      "source": [
        "from sympy.parsing.sympy_parser import parse_expr\n",
        "from sympy import lambdify"
      ]
    },
    {
      "cell_type": "code",
      "execution_count": null,
      "metadata": {
        "id": "A84VbC12aDs9",
        "outputId": "e863c7b1-ab85-4dfb-fb0f-02dcf2421e20"
      },
      "outputs": [
        {
          "data": {
            "text/latex": [
              "$\\displaystyle \\sin{\\left(2 \\pi x \\right)}$"
            ],
            "text/plain": [
              "sin(2⋅π⋅x)"
            ]
          },
          "metadata": {},
          "output_type": "display_data"
        }
      ],
      "source": [
        "s = \"sin(2*pi*x)\"\n",
        "a = parse_expr(s) # Converte uma string em uma expressão do SymPy\n",
        "print(a)\n",
        "\n",
        "f = lambdify(x, a, \"numpy\") # Converte uma expressão do SymPy em uma função\n",
        "print(f(1.0))"
      ]
    },
    {
      "cell_type": "code",
      "execution_count": null,
      "metadata": {
        "id": "4EQb9R71aDtA"
      },
      "outputs": [],
      "source": []
    },
    {
      "cell_type": "markdown",
      "source": [
        "5. Crie os símbolos x e y, e mostre o resultado das expressões x + y, x*y e (x + y) ** 2."
      ],
      "metadata": {
        "id": "hu65nv7ddM0T"
      }
    },
    {
      "cell_type": "code",
      "source": [
        "pass"
      ],
      "metadata": {
        "id": "UPFAaSGJeCEa"
      },
      "execution_count": null,
      "outputs": []
    },
    {
      "cell_type": "markdown",
      "source": [
        "6. Simplifique a expressão abaixo:\n",
        "$$\\frac{xˆ2-1}{x-1}$$"
      ],
      "metadata": {
        "id": "i2AROEySeDDC"
      }
    },
    {
      "cell_type": "code",
      "source": [
        "pass"
      ],
      "metadata": {
        "id": "jGksGlpcelKj"
      },
      "execution_count": null,
      "outputs": []
    },
    {
      "cell_type": "markdown",
      "source": [
        "7. Considere a função:\n",
        "$$f(x) = \\sin(x)\\cdot eˆ{-xˆ2}$$\n",
        "\n",
        "a) Calcule a derivada simbólica de f(x);\n",
        "\n",
        "b) Avalie f(x) e sua derivada em x=1."
      ],
      "metadata": {
        "id": "XGIbo-8UemZ4"
      }
    },
    {
      "cell_type": "code",
      "source": [
        "pass"
      ],
      "metadata": {
        "id": "nYxLSIZ5fOJL"
      },
      "execution_count": null,
      "outputs": []
    },
    {
      "cell_type": "markdown",
      "source": [
        "8. Escreva um programa que leia uma expressão matemática como uma string (por exemplo, \"sin(2*pi*x)\"), converta-a para uma expressão do SymPy e então avalie conforme necessário.\n",
        "\n",
        "Dica: utilize parse_expr e lambdify."
      ],
      "metadata": {
        "id": "CPjCcm_PfPJV"
      }
    },
    {
      "cell_type": "code",
      "source": [
        "pass"
      ],
      "metadata": {
        "id": "RuPoRFjJf3Cd"
      },
      "execution_count": null,
      "outputs": []
    },
    {
      "cell_type": "markdown",
      "source": [
        "9. Calcule a derivada de:\n",
        "\n",
        "$$f(x) = xˆ3 - 2xˆ2 + x - 5$$"
      ],
      "metadata": {
        "id": "pCcHavrvf4LA"
      }
    },
    {
      "cell_type": "code",
      "source": [
        "pass"
      ],
      "metadata": {
        "id": "BphqOewFgHcr"
      },
      "execution_count": null,
      "outputs": []
    },
    {
      "cell_type": "markdown",
      "source": [
        "10. Calcule a derivada de:\n",
        "\n",
        "$$f(x) = \\cos(x)\\cdot\\sin(x)$$"
      ],
      "metadata": {
        "id": "Z2d-EZYdgIao"
      }
    },
    {
      "cell_type": "code",
      "source": [
        "pass"
      ],
      "metadata": {
        "id": "25XnIF5QgVQ7"
      },
      "execution_count": null,
      "outputs": []
    },
    {
      "cell_type": "markdown",
      "source": [
        "11. Dada a expressão:\n",
        "\n",
        "$$(x + 2)ˆ2\\cdot (x-3)$$\n",
        "\n",
        "a) Expanda a expressão;\n",
        "\n",
        "b) Em seguida, fatore o resultando da expansão."
      ],
      "metadata": {
        "id": "aMCF0K0egWTH"
      }
    },
    {
      "cell_type": "code",
      "source": [
        "pass"
      ],
      "metadata": {
        "id": "q5IgBHaLgxBl"
      },
      "execution_count": null,
      "outputs": []
    },
    {
      "cell_type": "markdown",
      "source": [
        "12. Resolva a equação:\n",
        "\n",
        "$$xˆ2 - 5x + 6= 0$$"
      ],
      "metadata": {
        "id": "WOlNISQmgyFq"
      }
    },
    {
      "cell_type": "code",
      "source": [
        "pass"
      ],
      "metadata": {
        "id": "hRoc9zqZg-0h"
      },
      "execution_count": null,
      "outputs": []
    },
    {
      "cell_type": "markdown",
      "source": [
        "13. Dada a expressão:\n",
        "$$f(x, y) = xˆ2 + yˆ2$$\n",
        "\n",
        "Substitua x = 3 e y = 4 e avalie."
      ],
      "metadata": {
        "id": "5F3i9E07hAW7"
      }
    },
    {
      "cell_type": "code",
      "source": [
        "pass"
      ],
      "metadata": {
        "id": "JmVfdyvWhPsD"
      },
      "execution_count": null,
      "outputs": []
    },
    {
      "cell_type": "markdown",
      "source": [
        "14. Calcule a soma simbólica:\n",
        "\n",
        "$$\\sum_{i=1}ˆ{n}iˆ2$$"
      ],
      "metadata": {
        "id": "BbY0bhl4hQdN"
      }
    },
    {
      "cell_type": "code",
      "source": [
        "pass"
      ],
      "metadata": {
        "id": "7z-QyxfPhdY6"
      },
      "execution_count": null,
      "outputs": []
    },
    {
      "cell_type": "markdown",
      "source": [
        "15. Resolva o seguinte sistema:\n",
        "\n",
        "$$\n",
        "\\begin{cases}\n",
        "x + y = 5\\\n",
        "x - y = 1\n",
        "\\end{cases}\n",
        "$$"
      ],
      "metadata": {
        "id": "lWD8tLo9heso"
      }
    },
    {
      "cell_type": "code",
      "source": [
        "pass"
      ],
      "metadata": {
        "id": "_1dhMBNthvfb"
      },
      "execution_count": null,
      "outputs": []
    },
    {
      "cell_type": "markdown",
      "source": [],
      "metadata": {
        "id": "NzsuxLs0hwwU"
      }
    }
  ],
  "metadata": {
    "kernelspec": {
      "display_name": "base",
      "language": "python",
      "name": "python3"
    },
    "language_info": {
      "codemirror_mode": {
        "name": "ipython",
        "version": 3
      },
      "file_extension": ".py",
      "mimetype": "text/x-python",
      "name": "python",
      "nbconvert_exporter": "python",
      "pygments_lexer": "ipython3",
      "version": "3.11.7"
    },
    "colab": {
      "provenance": []
    }
  },
  "nbformat": 4,
  "nbformat_minor": 0
}