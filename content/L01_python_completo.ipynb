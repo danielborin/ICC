{
   "cell_type": "markdown",
   "metadata": {},
   "source": [
    "# Jupyter"
   ]
},
{
   "cell_type": "markdown",
   "metadata": {},
   "source": [
    "Vamos usar o Jupyter para todos os nossos exemplos -- isso nos permite rodar Python em um notebook baseado na web, mantendo um histórico de entradas e saídas, juntamente com texto e imagens.\n",
    "\n",
    "Para ajuda sobre o Jupyter, visite:\n",
    "https://jupyter.readthedocs.io/en/latest/content-quickstart.html"
   ]
},
{
   "cell_type": "markdown",
   "metadata": {},
   "source": [
    "Interagimos com o Python digitando nas _células_ do notebook. Por padrão, uma célula é uma célula _de código_, o que significa que você pode digitar qualquer código Python válido e executá-lo. Outro tipo importante de célula é a célula _markdown_. Isso permite adicionar texto, com diferentes formatações (itálico, negrito, etc.), que descreve o que o notebook está fazendo.\n",
    "\n",
    "Você pode alterar o tipo de célula através do menu na parte superior ou usando os atalhos:\n",
    "\n",
    "  * ctrl-m m : célula markdown\n",
    "  * ctrl-m y : célula de código"
   ]
},
{
   "cell_type": "markdown",
   "metadata": {},
   "source": [
    "Alguns atalhos úteis:\n",
    "\n",
    " * shift+enter = executar célula e pular para a próxima (criando uma nova célula, caso não haja outra nova)\n",
    " * ctrl+enter = executar célula no local\n",
    " * alt+enter = executar célula e inserir uma nova abaixo\n",
    "\n",
    "ctrl+m h lista outros comandos"
   ]
},
{
   "cell_type": "markdown",
   "metadata": {},
   "source": [
    "Uma \"célula markdown\" permite que você insira equações em LaTeX diretamente no seu notebook. Basta colocá-las em `$` ou `$$`:\n",
    "\n",
    "$$\\frac{\\partial \\rho}{\\partial t} + \\nabla \\cdot (\\rho U) = 0$$"
   ]
},
{
   "cell_type": "markdown",
   "metadata": {},
   "source": [
    "<div class=\"alert alert-block alert-danger\">\n",
    "    \n",
    "**Importante**: quando você trabalha em um notebook, tudo o que foi feito nas células anteriores ainda está na memória e _conhecido_ pelo Python, então você pode se referir a funções e variáveis que foram definidas anteriormente. Mesmo que você suba para o topo do notebook e insira uma célula, toda a informação feita anteriormente na sessão do notebook ainda estará definida -- não importa onde você esteja fisicamente no notebook. Se você quiser resetar as coisas, pode usar as opções no menu _Kernel_.\n",
    "</div>"
   ]
},
{
   "cell_type": "markdown",
   "metadata": {},
   "source": [
    "<div class=\"alert alert-block alert-warning\">\n",
    "    \n",
    "<span class=\"fa fa-flash\"></span> Exercício rápido:\n",
    "\n",
    "Crie uma nova célula abaixo desta. Certifique-se de que seja uma célula _de código_, e insira o seguinte código e execute-o:\n",
    "    \n",
    "```\n",
    "\n",
    " print(\"Olá, Mundo\")\n",
    " \n",
    "```\n",
    "</div>"
   ]
},
{
   "cell_type": "markdown",
   "metadata": {},
   "source": [
    "`print()` é uma _função_ no Python que recebe argumentos (dentro dos `()`) e exibe na tela. Você pode imprimir múltiplas quantidades de uma vez, como:"
   ]
},
{
   "cell_type": "code",
   "execution_count": 3,
   "metadata": {},
   "outputs": [
    {
     "name": "stdout",
     "output_type": "stream",
     "text": [
      "1 2 3\n"
     ]
    }
   ],
   "source": [
    "print(1, 2, 3)"
   ]
},
{
   "cell_type": "code",
   "execution_count": 4,
   "metadata": {},
   "outputs": [
    {
     "data": {
      "text/plain": [
       "1"
      ]
     },
     "execution_count": 4,
     "metadata": {},
     "output_type": "execute_result"
    }
   ],
   "source": [
    "1"
   ]
},
{
   "cell_type": "markdown",
   "metadata": {},
   "source": [
    "Observe que o comportamento padrão no Jupyter é imprimir o valor retornado pela última instrução em uma célula, então não precisamos usar o `print` se quisermos apenas o valor de algo como:"
   ]
},
{
   "cell_type": "code",
   "execution_count": 5,
   "metadata": {
    "tags": []
   },
   "outputs": [
    {
     "data": {
      "text/plain": [
       "10"
      ]
     },
     "execution_count": 5,
     "metadata": {},
     "output_type": "execute_result"
    }
   ],
   "source": [
    "a = 10\n",
    "a"
   ]
},
{
   "cell_type": "markdown",
   "metadata": {},
   "source": [
    "# Tipos básicos de dados em Python\n",
    "\n",
    "Python é uma linguagem de tipagem dinâmica -- isso significa que você não\n",
    "precisa especificar com antecedência que tipo de dado você vai armazenar\n",
    "em uma variável. No entanto, existem alguns tipos básicos de dados que\n",
    "precisamos nos familiarizar à medida que usamos a linguagem.\n",
    "\n",
    "O primeiro conjunto de tipos de dados são semelhantes aos encontrados em outras\n",
    "linguagens (como C/C++ e Fortran): números de ponto flutuante, inteiros,\n",
    "e strings.\n",
    "\n",
    "Ponto flutuante é essencial para a ciência computacional. Uma ótima\n",
    "introdução ao ponto flutuante e suas limitações é: [O que todo\n",
    "cientista da computação deve saber sobre aritmética de ponto flutuante](http://dl.acm.org/citation.cfm?id=103163) por\n",
    "D. Goldberg.\n",
    "\n",
    "O próximo conjunto de tipos de dados são contêineres. Em python, ao contrário de algumas\n",
    "linguagens, esses tipos estão incorporados na linguagem e tornam muito fácil realizar\n",
    "operações complexas. Vamos ver esses tipos mais adiante.\n",
    "\n",
    "\n",
    "Alguns exemplos podem ser encontrados no tutorial do python:\n",
    "http://docs.python.org/3/tutorial/"
   ]
},
{
   "cell_type": "markdown",
   "metadata": {},
   "source": [
    "## Inteiros"
   ]
},
{
   "cell_type": "markdown",
   "metadata": {},
   "source": [
    "Inteiros são números sem ponto decimal. Eles podem ser positivos ou negativos. A maioria das linguagens de programação usa uma quantidade finita de memória para armazenar um único inteiro, mas em Python, a quantidade de memória será expandida conforme necessário para armazenar inteiros grandes.\n",
    "\n",
    "Os operadores básicos, `+`, `-`, `*`, e `/` funcionam com inteiros."
   ]
},
{
   "cell_type": "code",
   "execution_count": 7,
   "metadata": {
    "tags": []
   },
   "outputs": [
    {
     "data": {
      "text/plain": [
       "7"
      ]
     },
     "execution_count": 7,
     "metadata": {},
     "output_type": "execute_result"
    }
   ],
   "source": [
    "2+2+3"
   ]
},
{
   "cell_type": "code",
   "execution_count": 8,
   "metadata": {
    "tags": []
   },
   "outputs": [
    {
     "data": {
      "text/plain": [
       "-8"
      ]
     },
     "execution_count": 8,
     "metadata": {},
     "output_type": "execute_result"
    }
   ],
   "source": [
    "2*-4"
   ]
},
{
   "cell_type": "markdown",
   "metadata": {},
   "source": [
    "Nota: a divisão inteira é um ponto em que Python 2 e Python 3 se diferenciam\n",
    "    \n",
    "No Python 3.x, dividir 2 inteiros resulta em um ponto flutuante. No Python 2.x, dividir 2 inteiros resulta em um inteiro. O último é consistente com muitas linguagens de programação fortemente tipadas (como Fortran ou C), pois o tipo de dado do resultado é o mesmo dos inputs, mas o primeiro está mais alinhado com as nossas expectativas."
   ]
},
{
   "cell_type": "code",
   "execution_count": 9,
   "metadata": {
    "tags": []
   },
   "outputs": [
    {
     "data": {
      "text/plain": [
       "1.5"
      ]
     },
     "execution_count": 9,
     "metadata": {},
     "output_type": "execute_result"
    }
   ],
   "source": [
    "3/2"
   ]
},
{
   "cell_type": "markdown",
   "metadata": {},
   "source": [
    "Para obter um resultado inteiro, podemos usar o operador `//`."
   ]
},
{
   "cell_type": "code",
   "execution_count": 10,
   "metadata": {
    "tags": []
   },
   "outputs": [
    {
     "data": {
      "text/plain": [
       "1"
      ]
     },
     "execution_count": 10,
     "metadata": {},
     "output_type": "execute_result"
    }
   ],
   "source": [
    "3//2"
   ]
},
{
   "cell_type": "markdown",
   "metadata": {},
   "source": [
    "Python é uma linguagem _dinamicamente tipada_&mdash;isso significa que não precisamos declarar o tipo de dado de uma variável antes de inicializá-la.  \n",
    "\n",
    "Aqui, vamos criar uma variável (pense nela como uma etiqueta descritiva que pode se referir a um dado). O operador `=` atribui um valor a uma variável."
   ]
},
{
   "cell_type": "code",
   "execution_count": 13,
   "metadata": {},
   "outputs": [],
   "source": [
    "a = 1.4\n",
    "b = 2"
   ]
},
{
   "cell_type": "markdown",
   "metadata": {},
   "source": [
    "Funções operam sobre variáveis e retornam um resultado. Aqui, `print()` exibirá no tela."
   ]
  },
  {
   "cell_type": "code",
   "execution_count": 9,
   "metadata": {
    "tags": []
   },
   "outputs": [
    {
     "data": {
      "text/plain": [
       "3"
      ]
     },
     "execution_count": 9,
     "metadata": {},
     "output_type": "execute_result"
    }
   ],
   "source": [
    "a + b"
   ]
  },
  {
   "cell_type": "code",
   "execution_count": 10,
   "metadata": {
    "tags": []
   },
   "outputs": [
    {
     "data": {
      "text/plain": [
       "2"
      ]
     },
     "execution_count": 10,
     "metadata": {},
     "output_type": "execute_result"
    }
   ],
   "source": [
    "a * b"
   ]
  },
  {
   "cell_type": "markdown",
   "metadata": {},
   "source": [
    "Observe que os nomes das variáveis são sensíveis a maiúsculas, então `a` e `A` são diferentes."
   ]
  },
  {
   "cell_type": "code",
   "execution_count": 15,
   "metadata": {},
   "outputs": [],
   "source": [
    "A = 2048"
   ]
  },
  {
   "cell_type": "code",
   "execution_count": 16,
   "metadata": {
    "tags": []
   },
   "outputs": [
    {
     "name": "stdout",
     "output_type": "stream",
     "text": [
      "1.4 2048\n"
     ]
    }
   ],
   "source": [
    "print(a, A)"
   ]
  },
  {
   "cell_type": "markdown",
   "metadata": {},
   "source": [
    "Aqui, inicializamos 3 variáveis todas com `0`, mas estas ainda são variáveis distintas, então podemos mudar uma sem afetar as outras."
   ]
  },
  {
   "cell_type": "code",
   "execution_count": 17,
   "metadata": {},
   "outputs": [],
   "source": [
    "x = y = z = 0"
   ]
  },
  {
   "cell_type": "code",
   "execution_count": 18,
   "metadata": {
    "tags": []
   },
   "outputs": [
    {
     "name": "stdout",
     "output_type": "stream",
     "text": [
      "0 0 0\n"
     ]
    }
   ],
   "source": [
    "print(x, y, z)"
   ]
  },
  {
   "cell_type": "code",
   "execution_count": 19,
   "metadata": {},
   "outputs": [],
   "source": [
    "z = 1"
   ]
  },
  {
   "cell_type": "code",
   "execution_count": 20,
   "metadata": {
    "tags": []
   },
   "outputs": [
    {
     "data": {
      "text/plain": [
       "1"
      ]
     },
     "execution_count": 20,
     "metadata": {},
     "output_type": "execute_result"
    }
   ],
   "source": [
    "z"
   ]
  },
    "execution_count": 20,
     "metadata": {},
     "output_type": "execute_result"
    }
   ],
   "source": [
    "z"
   ]
  },
{
   "cell_type": "markdown",
   "metadata": {},
   "source": [
    "Outra função, `type()` retorna o tipo de dado de uma variável."
   ]
  },
  {
   "cell_type": "code",
   "execution_count": 22,
   "metadata": {},
   "outputs": [],
   "source": [
    "?z"
   ]
  },
  {
   "cell_type": "code",
   "execution_count": 18,
   "metadata": {
    "tags": []
   },
   "outputs": [
    {
     "data": {
      "text/plain": [
       "int"
      ]
     },
     "execution_count": 18,
     "metadata": {},
     "output_type": "execute_result"
    }
   ],
   "source": [
    "type(x)"
   ]
  },
  {
   "cell_type": "markdown",
   "metadata": {},
   "source": [
    "Observe que em linguagens como Fortran e C, você especifica a quantidade de memória que um inteiro pode ocupar (geralmente 2 ou 4 bytes). Isso impõe uma restrição sobre o maior tamanho de inteiro que pode ser representado. O Python adapta o tamanho do inteiro para evitar *overflow*."
   ]
  },
  {
   "cell_type": "code",
   "execution_count": 23,
   "metadata": {
    "tags": []
   },
   "outputs": [
    {
     "name": "stdout",
     "output_type": "stream",
     "text": [
      "12345678901234567890123456789012345123456789012345678901234567890\n",
      "213\n",
      "<class 'int'>\n"
     ]
    }
   ],
   "source": [
    "a = 12345678901234567890123456789012345123456789012345678901234567890\n",
    "print(a)\n",
    "print(a.bit_length())\n",
    "print(type(a))"
   ]
  },
  {
   "cell_type": "markdown",
   "metadata": {},
   "source": [
    "## Ponto flutuante"
   ]
  },
  {
   "cell_type": "markdown",
   "metadata": {},
   "source": [
    "Quando operamos com números de ponto flutuante e inteiros, o resultado é promovido a um float."
   ]
  },
  {
   "cell_type": "code",
   "execution_count": 24,
   "metadata": {
    "tags": []
   },
   "outputs": [
    {
     "data": {
      "text/plain": [
       "3.0"
      ]
     },
     "execution_count": 24,
     "metadata": {},
     "output_type": "execute_result"
    }
   ],
   "source": [
    "1. + 2"
   ]
  },
{
   "cell_type": "markdown",
   "metadata": {},
   "source": [
    "Mas note o operador especial de divisão inteira"
   ]
  },
  {
   "cell_type": "code",
   "execution_count": 25,
   "metadata": {
    "tags": []
   },
   "outputs": [
    {
     "data": {
      "text/plain": [
       "0.0"
      ]
     },
     "execution_count": 25,
     "metadata": {},
     "output_type": "execute_result"
    }
   ],
   "source": [
    "1.//2"
   ]
  },
  {
   "cell_type": "markdown",
   "metadata": {},
   "source": [
    "É importante entender que, como existem infinitos números reais entre quaisquer dois limites, em um computador precisamos aproximar isso com um número finito. Existe um padrão IEEE para ponto flutuante que é seguido praticamente por todas as linguagens e processadores.\n",
    "\n",
    "Isso significa duas coisas:\n",
    "\n",
    "* nem todo número real terá uma representação exata em ponto flutuante\n",
    "* há uma precisão finita nos números -- abaixo disso, perdemos as diferenças (isso é geralmente chamado de erro de *arredondamento*)\n",
    "\n",
    "Este artigo é uma referência incrível para entender como um computador armazena números:\n",
    "\n",
    "[Goldberg 1991: O que todo cientista da computação deveria saber sobre aritmética de ponto flutuante](https://docs.oracle.com/cd/E19957-01/806-3568/ncg_goldberg.html)\n",
    "\n",
    "Considere a seguinte expressão, por exemplo:"
   ]
  },
  {
   "cell_type": "code",
   "execution_count": 26,
   "metadata": {
    "tags": []
   },
   "outputs": [
    {
     "data": {
      "text/plain": [
       "-4.440892098500626e-16"
      ]
     },
     "execution_count": 26,
     "metadata": {},
     "output_type": "execute_result"
    }
   ],
   "source": [
    "0.3/0.1 - 3"
   ]
  },
  {
   "cell_type": "code",
   "execution_count": 27,
   "metadata": {},
   "outputs": [
    {
     "data": {
      "text/plain": [
       "False"
      ]
     },
     "execution_count": 27,
     "metadata": {},
     "output_type": "execute_result"
    }
   ],
   "source": [
    "0.3/0.1 == 3"
   ]
  },
  {
   "cell_type": "markdown",
   "metadata": {},
   "source": [
    "Aqui está outro exemplo: O número 0.1 não pode ser representado exatamente em um computador. Em nossa impressão, usamos um especificador de formato (o que está dentro de {}) para pedir mais precisão para ser exibida:"
   ]
  },
  {
   "cell_type": "code",
   "execution_count": 28,
   "metadata": {
    "tags": []
   },
   "outputs": [
    {
     "name": "stdout",
     "output_type": "stream",
     "text": [
      "        0.10000000000000000555\n"
     ]
    }
   ],
   "source": [
    "a = 0.1\n",
    "print(\"{:30.20}\".format(a))"
   ]
  },
  {
   "cell_type": "markdown",
   "metadata": {},
   "source": [
    "Podemos pedir ao Python para relatar os limites do ponto flutuante."
   ]
  },
  {
   "cell_type": "code",
   "execution_count": 29,
   "metadata": {
    "tags": []
   },
   "outputs": [
    {
     "data": {
      "text/plain": [
       "sys.float_info(max=1.7976931348623157e+308, max_exp=1024, max_10_exp=308, min=2.2250738585072014e-308, min_exp=-1021, min_10_exp=-307, dig=15, mant_dig=53, epsilon=2.220446049250313e-16, radix=2, rounds=1)"
      ]
     },
     "execution_count": 29,
     "metadata": {},
     "output_type": "execute_result"
    }
   ],
   "source": [
    "import sys\n",
    "sys.float_info"
   ]
  },
{
   "cell_type": "markdown",
   "metadata": {},
   "source": [
    "Observe que isso diz que podemos armazenar apenas números entre 2.2250738585072014e-308 e 1.7976931348623157e+308.\n",
    "\n",
    "Também vemos que a precisão é 2.220446049250313e-16 (isso é comumente chamado de _epsilon de máquina_). Para ver isso, considere adicionar um número pequeno a 1.0. Usaremos o operador de igualdade (`==`) para testar se dois números são iguais:"
   ]
  },
  {
   "cell_type": "markdown",
   "metadata": {},
   "source": [
    "<div class=\"alert alert-block alert-warning\">\n",
    "    \n",
    "<span class=\"fa fa-flash\"></span> Exercício rápido:\n",
    "\n",
    "Defina duas variáveis, $a = 1$, e $e = 10^{-16}$.\n",
    "\n",
    "Agora defina uma terceira variável, `b = a + e`\n",
    "\n",
    "Podemos usar o operador `==` do Python para testar a igualdade. O que você espera que `b == a` retorne? Execute e veja se concorda com sua suposição.\n",
    "</div>"
   ]
  },
  {
   "cell_type": "markdown",
   "metadata": {},
   "source": [
    "## Módulos e namespaces\n",
    "\n",
    "A linguagem Python é relativamente pequena. A maior parte da funcionalidade vem de módulos. Alguns módulos são parte de uma biblioteca padrão que fornece funcionalidades adicionais. Esses módulos podem ser _importados_ para nossa sessão Python (ou programa).\n",
    "\n",
    "O módulo `math` fornece funções para realizar operações matemáticas básicas, bem como fornecer constantes (note que existe um módulo separado `cmath` para números complexos).\n",
    "\n",
    "No Python, você `importa` um módulo. As funções então são definidas em um _namespace_ separado — uma região separada que define nomes, variáveis, etc. Uma variável em um namespace pode ter o mesmo nome que uma variável em outro namespace, e elas não entram em conflito. Você usa o operador \"`.`\" para acessar um membro de um namespace.\n",
    "\n",
    "Por padrão, quando você digita algo no interpretador Python ou aqui no notebook Jupyter, ou em um script, ele está em seu próprio namespace padrão, e você não precisa prefixar nenhuma das variáveis com um indicador de namespace."
   ]
  },
  {
   "cell_type": "code",
   "execution_count": 30,
   "metadata": {
    "tags": []
   },
   "outputs": [],
   "source": [
    "import math"
   ]
  },
  {
   "cell_type": "markdown",
   "metadata": {},
   "source": [
    "`math` fornece o valor de pi"
   ]
  },
  {
   "cell_type": "code",
   "execution_count": 31,
   "metadata": {
    "tags": []
   },
   "outputs": [
    {
     "data": {
      "text/plain": [
       "3.141592653589793"
      ]
     },
     "execution_count": 31,
     "metadata": {},
     "output_type": "execute_result"
    }
   ],
   "source": [
    "math.pi"
   ]
  },
  {
   "cell_type": "markdown",
   "metadata": {},
   "source": [
    "Isso é distinto de qualquer variável `pi` que possamos definir aqui."
   ]
  },
  {
   "cell_type": "code",
   "execution_count": 32,
   "metadata": {
    "tags": []
   },
   "outputs": [],
   "source": [
    "pi = 3"
   ]
  },
  {
   "cell_type": "code",
   "execution_count": 33,
   "metadata": {
    "tags": []
   },
   "outputs": [
    {
     "name": "stdout",
     "output_type": "stream",
     "text": [
      "3 3.141592653589793\n"
     ]
    }
   ],
   "source": [
    "print(pi, math.pi)"
   ]
  },
  {
   "cell_type": "markdown",
   "metadata": {},
   "source": [
    "Note aqui que `pi` e `math.pi` são distintos entre si — eles estão em namespaces diferentes."
   ]
  },
  {
   "cell_type": "markdown",
   "metadata": {},
   "source": [
    "### Operações com ponto flutuante"
   ]
  },
  {
   "cell_type": "markdown",
   "metadata": {},
   "source": [
    "Os mesmos operadores, `+`, `-`, `*`, `/` funcionam como de costume para números de ponto flutuante. Para elevar um número a uma potência, usamos o operador `**` (isso é o mesmo que em Fortran)."
   ]
  },
  {
   "cell_type": "code",
   "execution_count": 34,
   "metadata": {
    "tags": []
   },
   "outputs": [],
   "source": [
    "R = 2.0"
   ]
  },
  {
   "cell_type": "code",
   "execution_count": 35,
   "metadata": {
    "tags": []
   },
   "outputs": [
    {
     "data": {
      "text/plain": [
       "12.566370614359172"
      ]
     },
     "execution_count": 35,
     "metadata": {},
     "output_type": "execute_result"
    }
   ],
   "source": [
    "math.pi * R**2"
   ]
  },
  {
   "cell_type": "markdown",
   "metadata": {},
   "source": [
    "A precedência dos operadores segue a mesma lógica da maioria das linguagens. Veja em\n",
    "\n",
    "https://docs.python.org/3/reference/expressions.html#operator-precedence\n",
    "    \n",
    "Na ordem de precedência:\n",
    "* quantidades em `()`\n",
    "* slicing, chamadas, subscritos\n",
    "* exponenciação (`**`)\n",
    "* `+x`, `-x`, `~x`\n",
    "* `*`, `@`, `/`, `//`, `%`\n",
    "* `+`, `-`\n",
    "\n",
    "(depois disso, vêm as operações bitwise e comparações)\n",
    "\n",
    "Parênteses podem ser usados para sobrepor a precedência."
   ]
  },
  {
   "cell_type": "markdown",
   "metadata": {},
   "source": [
    "<div class=\"alert alert-block alert-warning\">\n",
    "    \n",
    "<span class=\"fa fa-flash\"></span> Exercício rápido:\n",
    "\n",
    "Considere as seguintes expressões. Usando as ideias de precedência, pense sobre qual valor será o resultado e depois tente no código abaixo para ver se você estava certo.\n",
    "\n",
    "  * `1 + 3*2**2`\n",
    "  * `1 + (3*2)**2`\n",
    "  * `2**3**2`\n",
    "\n",
    "</div>"
   ]
  },
  {
   "cell_type": "markdown",
   "metadata": {},
   "source": [
    "O módulo `math` fornece muitas das funções matemáticas padrão. Muitas delas estão repetidas no `numpy`, então na prática, eu pessoalmente quase nunca uso o `math`.\n",
    "\n",
    "Para as funções trigonométricas, a expectativa é que o argumento da função seja em radianos — você pode usar `math.radians()` para converter de graus para radianos, por exemplo:"
   ]
  },
  {
   "cell_type": "code",
   "execution_count": 37,
   "metadata": {
    "tags": []
   },
   "outputs": [
    {
     "data": {
      "text/plain": [
       "0.7071067811865476"
      ]
     },
     "execution_count": 37,
     "metadata": {},
     "output_type": "execute_result"
    }
   ],
   "source": [
    "math.cos(math.radians(45))"
   ]
  },
  {
   "cell_type": "markdown",
   "metadata": {},
   "source": [
    "Observe que nessa expressão estamos alimentando a saída de uma função (`math.radians()`) em uma segunda função, `math.cos()`.\n",
    "\n",
    "Quando tiver dúvidas, peça ajuda para descobrir todas as funções que um módulo oferece:"
   ]
  },
  {
   "cell_type": "code",
   "execution_count": 38,
   "metadata": {
    "tags": []
   },
   "outputs": [
    {
     "name": "stdout",
     "output_type": "stream",
     "text": [
      "Help on built-in function sin in module math:\n",
      "\n",
      "sin(x, /)\n",
      "    Return the sine of x (measured in radians).\n",
      "\n"
     ]
    }
   ],
   "source": [
    "help(math.sin)"
   ]
  },
  {
   "cell_type": "markdown",
   "metadata": {},
   "source": [
    "## Números Complexos"
   ]
  },
{
   "cell_type": "markdown",
   "metadata": {},
   "source": [
    "o Python usa '`j`' para denotar a unidade imaginária"
   ]
},
{
   "cell_type": "code",
   "execution_count": 34,
   "metadata": {
    "tags": []
   },
   "outputs": [
    {
     "data": {
      "text/plain": [
       "(1+2j)"
      ]
     },
     "execution_count": 34,
     "metadata": {},
     "output_type": "execute_result"
    }
   ],
   "source": [
    "1.0 + 2j"
   ]
},
{
   "cell_type": "code",
   "execution_count": 35,
   "metadata": {
    "tags": []
   },
   "outputs": [
    {
     "name": "stdout",
     "output_type": "stream",
     "text": [
      "(3+3j)\n",
      "(-2+3j)\n"
     ]
    }
   ],
   "source": [
    "a = 1j\n",
    "b = 3.0 + 2.0j\n",
    "print(a + b)\n",
    "print(a * b)"
   ]
},
{
   "cell_type": "markdown",
   "metadata": {},
   "source": [
    "podemos usar `abs()` para obter a magnitude e separar as partes real ou imaginária"
   ]
},
{
   "cell_type": "code",
   "execution_count": 39,
   "metadata": {
    "tags": []
   },
   "outputs": [
    {
     "name": "stdout",
     "output_type": "stream",
     "text": [
      "magnitude:  2\n",
      "parte real:  0.1\n",
      "parte imaginária:  0.0\n"
     ]
    }
   ],
   "source": [
    "print(\"magnitude: \", abs(b))\n",
    "print(\"parte real: \", a.real)\n",
    "print(\"parte imaginária: \", a.imag)"
   ]
},
{
   "cell_type": "markdown",
   "metadata": {},
   "source": [
    "## Strings"
   ]
},
{
   "cell_type": "markdown",
   "metadata": {},
   "source": [
    "O Python não se importa se você usa aspas simples ou duplas para strings:"
   ]
},
{
   "cell_type": "code",
   "execution_count": 40,
   "metadata": {
    "tags": []
   },
   "outputs": [],
   "source": [
    "a = \"esta é a minha string\"\n",
    "b = 'outra string'"
   ]
},
{
   "cell_type": "code",
   "execution_count": 41,
   "metadata": {
    "tags": []
   },
   "outputs": [
    {
     "name": "stdout",
     "output_type": "stream",
     "text": [
      "esta é a minha string\n",
      "outra string\n"
     ]
    }
   ],
   "source": [
    "print(a)\n",
    "print(b)"
   ]
},
{
   "cell_type": "markdown",
   "metadata": {},
   "source": [
    "Muitos dos operadores matemáticos usuais também são definidos para strings. Por exemplo, para concatenar ou duplicar:"
   ]
},
{
   "cell_type": "code",
   "execution_count": 42,
   "metadata": {
    "tags": []
   },
   "outputs": [
    {
     "data": {
      "text/plain": [
       "'esta é a minha stringoutra string'"
      ]
     },
     "execution_count": 42,
     "metadata": {},
     "output_type": "execute_result"
    }
   ],
   "source": [
    "a + b"
   ]
},
{
   "cell_type": "code",
   "execution_count": 43,
   "metadata": {
    "tags": []
   },
   "outputs": [
    {
     "data": {
      "text/plain": [
       "'esta é a minha string. outra string'"
      ]
     },
     "execution_count": 43,
     "metadata": {},
     "output_type": "execute_result"
    }
   ],
   "source": [
    "a + \". \" + b"
   ]
},
{
   "cell_type": "code",
   "execution_count": 45,
   "metadata": {
    "tags": []
   },
   "outputs": [
    {
     "data": {
      "text/plain": [
       "'esta é a minha stringesta é a minha stringesta é a minha string'"
      ]
     },
     "execution_count": 45,
     "metadata": {},
     "output_type": "execute_result"
    }
   ],
   "source": [
    "a * 3"
   ]
},
{
   "cell_type": "markdown",
   "metadata": {},
   "source": [
    "Existem vários códigos de escape que são interpretados nas strings. Eles começam com uma barra invertida, `\\`. Por exemplo, você pode usar `\\n` para nova linha"
   ]
},
{
   "cell_type": "code",
   "execution_count": 46,
   "metadata": {
    "tags": []
   },
   "outputs": [
    {
     "name": "stdout",
     "output_type": "stream",
     "text": [
      "esta é a minha string\n",
      "olá\n"
     ]
    }
   ],
   "source": [
    "a = a + \"\\n\" + \"olá\"\n",
    "print(a)"
   ]
},
{
   "cell_type": "markdown",
   "metadata": {},
   "source": [
    "<div class=\"alert alert-block alert-warning\">\n",
    "    \n",
    "<span class=\"fa fa-flash\"></span> Exercício Rápido:\n",
    "    \n",
    "A função `input()` pode ser usada para solicitar uma entrada do usuário.\n",
    "\n",
    "  * Use `help(input)` para ver como ela funciona.  \n",
    "  * Escreva um código para pedir uma entrada e armazenar o resultado em uma variável. `input()` retornará uma string.\n",
    "\n",
    "  * Use a função `float()` para converter um número inserido como entrada para uma variável de ponto flutuante.  \n",
    "  * Verifique se a conversão funcionou usando a função `type()`.\n",
    "</div>"
},
{
   "cell_type": "code",
   "execution_count": null,
   "metadata": {},
   "outputs": [],
   "source": []
},
{
   "cell_type": "markdown",
   "metadata": {},
   "source": [
    "As aspas triplas \"\"\" podem ser usadas para strings multilinha. Isso é útil para docstrings no início de funções (mais sobre isso mais tarde...)"
   ]
},
{
   "cell_type": "code",
   "execution_count": 47,
   "metadata": {
    "tags": []
   },
   "outputs": [],
   "source": [
    "c = \"\"\"\n",
    "É um período de guerra civil. Naves rebeldes, \n",
    "atacando a partir de uma base escondida, conquistaram sua primeira \n",
    "vitória contra o malvado Império Galáctico.\n",
    "\n",
    "Durante a batalha, espiões rebeldes conseguiram roubar \n",
    "planos secretos para a arma mais poderosa do Império, a \n",
    "Estrela da Morte, uma estação espacial blindada com poder suficiente \n",
    "para destruir um planeta inteiro.\n",
    "\n",
    "Perseguida pelos agentes sinistros do Império, a Princesa \n",
    "Leia corre para casa a bordo de sua nave estelar, guardiã dos \n",
    "planos roubados que podem salvar seu povo e \n",
    "restaurar a liberdade para a galáxia...\"\"\""
   ]
},
{
   "cell_type": "code",
   "execution_count": 2,
   "metadata": {
    "tags": []
   },
   "outputs": [
    {
     "name": "stdout",
     "output_type": "stream",
     "text": [
      "\n",
      "É um período de guerra civil. Naves rebeldes, \n",
      "atacando de uma base secreta, conquistaram sua primeira \n",
      "vitória contra o malvado Império Galáctico.\n",
      "\n",
      "Durante a batalha, espiões rebeldes conseguiram roubar \n",
      "os planos secretos para a arma definitiva do Império, a \n",
      "Estrela da Morte, uma estação espacial blindada com poder \n",
      "suficiente para destruir um planeta inteiro.\n",
      "\n",
      "Perseguida pelos agentes sinistros do Império, a Princesa \n",
      "Leia corre para casa a bordo de sua nave, guardiã dos \n",
      "planos roubados que podem salvar seu povo e \n",
      "restaurar a liberdade na galáxia...\n"
     ]
    }
   ],
   "source": [
    "print(c)"
   ]
},
{
   "cell_type": "markdown",
   "metadata": {},
   "source": [
    "Uma string crua não substitui sequências de escape (como \\n).  Basta colocar um `r` antes da primeira aspa:"
   ]
},
{
   "cell_type": "code",
   "execution_count": 48,
   "metadata": {
    "tags": []
   },
   "outputs": [
    {
     "data": {
      "text/plain": [
       "'esta é uma string crua\\\\n olá'"
      ]
     },
     "execution_count": 48,
     "metadata": {},
     "output_type": "execute_result"
    }
   ],
   "source": [
    "d = r\"esta é uma string crua\\n olá\"\n",
    "d"
   ]
},
{
   "cell_type": "markdown",
   "metadata": {},
   "source": [
    "A fatia é usada para acessar uma porção de uma string.\n",
    "\n",
    "Fatiar uma string pode parecer um pouco contra-intuitivo se você vem de C ou Fortran. O truque é pensar no índice como representando a borda esquerda de um caractere na string. Quando fizermos arrays mais tarde, o mesmo se aplicará.\n",
    "\n",
    "Também note que o Python (como C) usa indexação começando de 0.\n",
    "\n",
    "Índices negativos contam a partir da direita."
   ]
},
{
   "cell_type": "code",
   "execution_count": 49,
   "metadata": {
    "tags": []
   },
   "outputs": [
    {
     "name": "stdout",
     "output_type": "stream",
     "text": [
      "esta é minha string\n",
      "é\n",
      "t\n",
      "esta é uma string crua\\n olá\n",
      "l\n",
      "i y\n"
     ]
    }
   ],
   "source": [
    "a = \"esta é minha string\"\n",
    "print(a)\n",
    "print(a[5:7])\n",
    "print(a[0])\n",
    "print(d)\n",
    "print(d[-2])\n",
    "print(a[5:10:2])\n"
   ]
},
{
   "cell_type": "markdown",
   "metadata": {},
   "source": [
    "<div class=\"alert alert-block alert-warning\">\n",
    "    \n",
    "<span class=\"fa fa-flash\"></span> Exercício Rápido:\n",
    "\n",
    "As strings possuem muitos _métodos_ (funções que sabem como trabalhar com um determinado tipo de dado, neste caso, strings).  Um método útil é o `.find()`.  Para uma string `a`,\n",
    "`a.find(s)` retornará o índice da primeira ocorrência de `s`.\n",
    "\n",
    "Para nossa string `c` acima, encontre o primeiro `.` (identificando a primeira frase completa), e imprima apenas a primeira frase em `c` usando esse resultado.\n",
    "\n",
    "</div>"
   ]
},
{
   "cell_type": "code",
   "execution_count": null,
   "metadata": {},
   "outputs": [],
   "source": []
},
{
   "cell_type": "markdown",
   "metadata": {},
   "source": [
    "Existem também vários métodos e funções que trabalham com strings. Aqui estão alguns exemplos:"
   ]
},
{
   "cell_type": "code",
   "execution_count": 51,
   "metadata": {
    "tags": []
   },
   "outputs": [
    {
     "name": "stdout",
     "output_type": "stream",
     "text": [
      "esta é minha string\n",
      "essa é minha string\n",
      "17\n",
      "esta é minha string\n"
     ]
    }
   ],
   "source": [
    "print(a)\n",
    "print(a.replace(\"esta\", \"essa\"))\n",
    "print(len(a))\n",
    "print(a)"
   ]
},
{
   "cell_type": "markdown",
   "metadata": {},
   "source": [
    "Note que nossa string original, `a`, não mudou. Em Python, as strings são *imutáveis*.  Operações em strings retornam uma nova string."
   ]
},
{
   "cell_type": "code",
   "execution_count": 52,
   "metadata": {
    "tags": []
   },
   "outputs": [
    {
     "data": {
      "text/plain": [
       "str"
      ]
     },
     "execution_count": 52,
     "metadata": {},
     "output_type": "execute_result"
    }
   ],
   "source": [
    "type(a)"
   ]
},
{
   "cell_type": "markdown",
   "metadata": {},
   "source": [
    "Como de costume, peça ajuda para aprender mais:"
   ]
},
{
   "cell_type": "code",
   "execution_count": 9,
   "metadata": {},
   "outputs": [],
   "source": [
    "#help(str)"
   ]
},
{
   "cell_type": "markdown",
   "metadata": {},
   "source": [
    "Podemos formatar strings ao imprimirmos para inserir quantidades em lugares específicos na string.  Um `{}` serve como um espaço reservado para uma quantidade e é substituído usando o método `.format()`:"
   ]
},
{
   "cell_type": "code",
   "execution_count": 53,
   "metadata": {
    "tags": []
   },
   "outputs": [
    {
     "name": "stdout",
     "output_type": "stream",
     "text": [
      "a = 1; b = 2.0; c = teste\n"
     ]
    }
   ],
   "source": [
    "a = 1\n",
    "b = 2.0\n",
    "c = \"teste\"\n",
    "print(\"a = {}; b = {}; c = {}\".format(a, b, c))"
   ]
},
{
   "cell_type": "markdown",
   "metadata": {
    "tags": []
   },
   "source": [
    "Mas a maneira mais moderna de fazer isso é usar *f-strings*"
   ]
},
{
   "cell_type": "code",
   "execution_count": 54,
   "metadata": {},
   "outputs": [
    {
     "name": "stdout",
     "output_type": "stream",
     "text": [
      "a=1\n"
     ]
    }
   ],
   "source": [
    "print(\"a=\"+str(a))"
   ]
},
{
   "cell_type": "code",
   "execution_count": 55,
   "metadata": {
    "tags": []
   },
   "outputs": [
    {
     "name": "stdout",
     "output_type": "stream",
     "text": [
      "a = 1; b = 2.0; c = teste\n"
     ]
    }
   ],
   "source": [
    "print(f\"a = {a}; b = {b}; c = {c}\")"
   ]
},
{
   "cell_type": "markdown",
   "metadata": {},
   "source": [
    "Note o `f` precedendo a aspa inicial `\"`"
   ]
},
{
   "cell_type": "markdown",
   "metadata": {},
   "source": [
    "# Tipos de Dados Avançados"
   ]
},
{
   "cell_type": "markdown",
   "metadata": {},
   "source": [
    "Estas notas seguem de perto o tutorial oficial do Python: http://docs.python.org/3/tutorial/"
   ]
},
{
   "cell_type": "markdown",
   "metadata": {},
   "source": [
    "## Listas"
   ]
},
{
   "cell_type": "markdown",
   "metadata": {},
   "source": [
    "Listas agrupam dados. Muitas linguagens possuem arrays (vamos ver isso em breve em Python). Mas, ao contrário dos arrays na maioria das linguagens, as listas podem conter dados de diferentes tipos -- elas não precisam ser homogêneas. Os dados podem ser uma mistura de inteiros, pontos flutuantes ou números complexos, strings ou outros objetos (incluindo outras listas).\n",
    "\n",
    "Uma lista é definida usando colchetes:"
   ]
},
{
   "cell_type": "code",
   "execution_count": 56,
   "metadata": {},
   "outputs": [],
   "source": [
    "a = [1, 2.0, \"minha lista\", 4]"
   ]
},
{
   "cell_type": "code",
   "execution_count": 57,
   "metadata": {
    "tags": []
   },
   "outputs": [
    {
     "data": {
      "text/plain": [
       "[1, 2.0, 'minha lista', 4]"
      ]
     },
     "execution_count": 57,
     "metadata": {},
     "output_type": "execute_result"
    }
   ],
   "source": [
    "a"
   ]
},
{
   "cell_type": "markdown",
   "metadata": {},
   "source": [
    "Podemos indexar uma lista para obter um único elemento -- lembre-se de que o Python começa a contagem em 0:"
   ]
},
{
   "cell_type": "code",
   "execution_count": 14,
   "metadata": {
    "tags": []
   },
   "outputs": [
    {
     "data": {
      "text/plain": [
       "'minha lista'"
      ]
     },
     "execution_count": 14,
     "metadata": {},
     "output_type": "execute_result"
    }
   ],
   "source": [
    "a[2]"
   ]
},
{
   "cell_type": "code",
   "execution_count": 58,
   "metadata": {},
   "outputs": [
    {
     "data": {
      "text/plain": [
       "[1, 2.0, 'minha lista', 4, 'olá']"
      ]
     },
     "execution_count": 58,
     "metadata": {},
     "output_type": "execute_result"
    }
   ],
   "source": [
    "a+[\"olá\"]"
   ]
},
{
   "cell_type": "markdown",
   "metadata": {},
   "source": [
    "Assim como com strings, operadores matemáticos são definidos para listas:"
   ]
},
{
   "cell_type": "code",
   "execution_count": 59,
   "metadata": {
    "tags": []
   },
   "outputs": [
    {
     "data": {
      "text/plain": [
       "[1, 2.0, 'minha lista', 4, 1, 2.0, 'minha lista', 4]"
      ]
     },
     "execution_count": 59,
     "metadata": {},
     "output_type": "execute_result"
    }
   ],
   "source": [
    "a*2"
   ]
},
{
   "cell_type": "markdown",
   "metadata": {},
   "source": [
    "A função `len()` retorna o comprimento de uma lista"
   ]
},
{
   "cell_type": "code",
   "execution_count": 60,
   "metadata": {
    "tags": []
   },
   "outputs": [
    {
     "data": {
      "text/plain": [
       "4"
      ]
     },
     "execution_count": 60,
     "metadata": {},
     "output_type": "execute_result"
    }
   ],
   "source": [
    "len(a)"
   ]
},
{
   "cell_type": "code",
   "execution_count": 64,
   "metadata": {},
   "outputs": [
    {
     "ename": "TypeError",
     "evalue": "'str' object does not support item assignment",
     "output_type": "error",
     "traceback": [
      "\u001b[0;31m---------------------------------------------------------------------------\u001b[0m",
      "\u001b[0;31mTypeError\u001b[0m                                 Traceback (most recent call last)",
      "Cell \u001b[0;32mIn[64], line 3\u001b[0m\n\u001b[1;32m      1\u001b[0m r\u001b[38;5;241m=\u001b[39m\u001b[38;5;124m\"\u001b[39m\u001b[38;5;124mhjkdshj;das\u001b[39m\u001b[38;5;124m\"\u001b[39m\n\u001b[1;32m      2\u001b[0m r\n\u001b[0;32m----> 3\u001b[0m \u001b[43mr\u001b[49m\u001b[43m[\u001b[49m\u001b[38;5;241;43m0\u001b[39;49m\u001b[43m]\u001b[49m\u001b[38;5;241m=\u001b[39m\u001b[38;5;241m1\u001b[39m\n",
      "\u001b[0;31mTypeError\u001b[0m: 'str' object does not support item assignment"
     ]
    }
   ],
   "source": [
    "r=\"hjkdshj;das\"\n",
    "r\n",
    "r[0]=1"
   ]
},
{
   "cell_type": "markdown",
   "metadata": {},
   "source": [
    "Ao contrário das strings, listas são _mutáveis_ -- você pode facilmente alterar os elementos em uma lista"
   ]
},
{
   "cell_type": "code",
   "execution_count": 65,
   "metadata": {
    "tags": []
   },
   "outputs": [
    {
     "name": "stdout",
     "output_type": "stream",
     "text": [
      "[1, 2.0, 'minha lista', 4]\n",
      "[1, -2.0, 'minha lista', 4]\n"
     ]
    }
   ],
   "source": [
    "print(a)\n",
    "a[1] = -2.0\n",
    "print(a)"
   ]
},
{
   "cell_type": "code",
   "execution_count": 66,
   "metadata": {},
   "outputs": [
    {
     "data": {
      "text/plain": [
       "[1, -2.0, 'minha lista', 4]"
      ]
     },
     "execution_count": 66,
     "metadata": {},
     "output_type": "execute_result"
    }
   ],
   "source": [
    "a"
   ]
},
{
   "cell_type": "code",
   "execution_count": 67,
   "metadata": {
    "tags": []
   },
   "outputs": [
    {
     "data": {
      "text/plain": [
       "[-1, -2.1, -2.0, 'minha lista', 4]"
      ]
     },
     "execution_count": 67,
     "metadata": {},
     "output_type": "execute_result"
    }
   ],
   "source": [
    "a[0:1] = [-1, -2.1]   # isso vai colocar dois itens no lugar onde o 1 estava antes\n",
    "a"
   ]
},
{
   "cell_type": "markdown",
   "metadata": {},
   "source": [
    "Observe que listas podem até conter outras listas:"
   ]
},
{
   "cell_type": "code",
   "execution_count": 69,
   "metadata": {
    "tags": []
   },
   "outputs": [
    {
     "data": {
      "text/plain": [
       "[-1, ['outra lista', 3], -2.0, 'minha lista', 4]"
      ]
     },
     "execution_count": 69,
     "metadata": {},
     "output_type": "execute_result"
    }
   ],
   "source": [
    "a[1] = [\"outra lista\", 3]\n",
    "a"
   ]
},
{
   "cell_type": "markdown",
   "metadata": {},
   "source": [
    "Assim como tudo no python, uma lista é um objeto que é uma instância de uma classe. As classes possuem métodos (funções) que sabem como operar sobre um objeto dessa classe.\n",
    "\n",
    "Existem muitos métodos que funcionam com listas. Dois dos mais úteis são o `append`, para adicionar ao final da lista, e o `pop`, para remover o último elemento:"
   ]
},
{
   "cell_type": "code",
   "execution_count": 70,
   "metadata": {
    "tags": []
   },
   "outputs": [
    {
     "data": {
      "text/plain": [
       "[-1, ['outra lista', 3], -2.0, 'minha lista', 4, 6]"
      ]
     },
     "execution_count": 70,
     "metadata": {},
     "output_type": "execute_result"
    }
   ],
   "source": [
    "a.append(6)\n",
    "a"
   ]
},
{
   "cell_type": "code",
   "execution_count": 71,
   "metadata": {
    "tags": []
   },
   "outputs": [
    {
     "data": {
      "text/plain": [
       "6"
      ]
     },
     "execution_count": 71,
     "metadata": {},
     "output_type": "execute_result"
    }
   ],
   "source": [
    "a.pop()"
   ]
},
{
   "cell_type": "code",
   "execution_count": 72,
   "metadata": {
    "tags": []
   },
   "outputs": [
    {
     "data": {
      "text/plain": [
       "[-1, ['outra lista', 3], -2.0, 'minha lista', 4]"
      ]
     },
     "execution_count": 72,
     "metadata": {},
     "output_type": "execute_result"
    }
   ],
   "source": [
    "a"
   ]
},
{
   "cell_type": "markdown",
   "metadata": {},
   "source": [
    "<div class=\"alert alert-block alert-warning\">\n",
    "    \n",
    "<span class=\"fa fa-flash\"></span> Exercício rápido:\n",
    "\n",
    "Uma operação que veremos muito é começar com uma lista vazia e adicionar elementos a ela. Uma lista vazia é criada como:\n",
    "```\n",
    "\n",
    " a = []\n",
    " \n",
    "```\n",
    "\n",
    "  * Crie uma lista vazia\n",
    "  * Adicione os inteiros de 1 a 10 nela.  \n",
    "  * Agora remova-os da lista um por um.\n",
    "  \n",
    "</div>"
   ]
},
{
   "cell_type": "markdown",
   "metadata": {},
   "source": [
    "### Copiando listas\n",
    "\n",
    "Copiar pode parecer um pouco contra-intuitivo a princípio. A melhor forma de entender isso é que sua lista vive em algum lugar na memória e quando você faz\n",
    "```\n",
    "a = [1, 2, 3, 4]\n",
    "```\n",
    "\n",
    "então a variável `a` é configurada para apontar para aquele local na memória, ou seja, ela se refere à lista.\n",
    "\n",
    "Se então fizermos\n",
    "```\n",
    "b = a\n",
    "```\n",
    "então `b` também apontará para o mesmo local na memória — o exato mesmo objeto lista.\n",
    "\n",
    "Como ambos estão apontando para o mesmo local na memória, se alterarmos a lista através de `a`, a mudança também será refletida em `b`:"
   ]
},
{
   "cell_type": "markdown",
   "metadata": {},
   "source": [
    "<div class=\"alert alert-block alert-danger\">\n",
    "    \n",
    "**Cuidado aqui, até mesmo você, especialista em python**: isso é uma fonte comum de bugs!\n",
    "</div>"
   ]
},
{
   "cell_type": "code",
   "execution_count": 73,
   "metadata": {
    "tags": []
   },
   "outputs": [
    {
     "name": "stdout",
     "output_type": "stream",
     "text": [
      "[1, 2, 3, 4]\n",
      "['mudado', 2, 3, 4]\n"
     ]
    }
   ],
   "source": [
    "a = [1, 2, 3, 4]\n",
    "b = a  # tanto a quanto b se referem ao mesmo objeto lista na memória\n",
    "print(a)\n",
    "a[0] = \"mudado\"\n",
    "print(b)"
   ]
},
{
   "cell_type": "markdown",
   "metadata": {},
   "source": [
    "Se você deseja criar um novo objeto na memória que seja uma cópia de outro, você pode indexar a lista, usando `:` para obter todos os elementos, ou usar a função `list()`:"
   ]
},
{
   "cell_type": "code",
   "execution_count": 74,
   "metadata": {
    "tags": []
   },
   "outputs": [
    {
     "name": "stdout",
     "output_type": "stream",
     "text": [
      "['mudado', 'dois', 3, 4]\n",
      "['mudado', 2, 3, 4]\n"
     ]
    }
   ],
   "source": [
    "c = list(a)   # você também pode fazer c = a[:], o que basicamente fatiaria a lista inteira\n",
    "a[1] = \"dois\"\n",
    "print(a)\n",
    "print(c)"
   ]
},
{
   "cell_type": "markdown",
   "metadata": {},
   "source": [
    "As coisas ficam um pouco complicadas quando uma lista contém outro objeto mutável, como uma outra lista. Nesse caso, a cópia que vimos acima é apenas uma _cópia rasa_. Faremos isso com mais cuidado na próxima vez."
   ]
},
{
   "cell_type": "markdown",
   "metadata": {},
   "source": [
    "Quando estiver em dúvida, use a função `id()` para descobrir onde na memória um objeto está localizado (não se preocupe com o que o valor dos números que você recebe de `id` significa, apenas se eles são os mesmos para outro objeto)"
   ]
},
{
   "cell_type": "code",
   "execution_count": 75,
   "metadata": {
    "tags": []
   },
   "outputs": [
    {
     "name": "stdout",
     "output_type": "stream",
     "text": [
      "4436542400 4436542400 4430978048\n"
     ]
    }
   ],
   "source": [
    "print(id(a), id(b), id(c))"
   ]
},
{
   "cell_type": "markdown",
   "metadata": {},
   "source": [
    "Ou use o operador `is`"
   ]
},
{
   "cell_type": "code",
   "execution_count": 76,
   "metadata": {
    "tags": []
   },
   "outputs": [
    {
     "data": {
      "text/plain": [
       "True"
      ]
     },
     "execution_count": 76,
     "metadata": {},
     "output_type": "execute_result"
    }
   ],
   "source": [
    "a is b"
   ]
},
{
   "cell_type": "code",
   "execution_count": 77,
   "metadata": {
    "tags": []
   },
   "outputs": [
    {
     "data": {
      "text/plain": [
       "False"
      ]
     },
     "execution_count": 77,
     "metadata": {},
     "output_type": "execute_result"
    }
   ],
   "source": [
    "a is c"
   ]
},
{
   "cell_type": "markdown",
   "metadata": {},
   "source": [
    "Existem muitos outros métodos que funcionam com listas (lembre-se, peça ajuda se precisar)"
   ]
},
{
   "cell_type": "code",
   "execution_count": 78,
   "metadata": {
    "tags": []
   },
   "outputs": [
    {
     "data": {
      "text/plain": [
       "[-1, -1, 2, 5, 9, 10, 24]"
      ]
     },
     "execution_count": 78,
     "metadata": {},
     "output_type": "execute_result"
    }
   ],
   "source": [
    "my_list = [10, -1, 5, 24, 2, -1, 9]\n",
    "my_list.sort()\n",
    "my_list"
   ]
},
{
   "cell_type": "code",
   "execution_count": 79,
   "metadata": {
    "tags": []
   },
   "outputs": [
    {
     "data": {
      "text/plain": [
       "2"
      ]
     },
     "execution_count": 79,
     "metadata": {},
     "output_type": "execute_result"
    }
   ],
   "source": [
    "my_list.count(-1)"
   ]
},
{
   "cell_type": "markdown",
   "metadata": {},
   "source": [
    "Também podemos inserir elementos"
   ]
},
{
   "cell_type": "code",
   "execution_count": 80,
   "metadata": {
    "tags": []
   },
   "outputs": [
    {
     "data": {
      "text/plain": [
       "['mudado', 'dois', 3, 'meu elemento inserido', 4]"
      ]
     },
     "execution_count": 80,
     "metadata": {},
     "output_type": "execute_result"
    }
   ],
   "source": [
    "a.insert(3, \"meu elemento inserido\")\n",
    "a"
   ]
},
{
   "cell_type": "markdown",
   "metadata": {},
   "source": [
    "Juntar duas listas é simples. Assim como com strings, o operador `+` concatena:"
   ]
},
{
   "cell_type": "code",
   "execution_count": 81,
   "metadata": {
    "tags": []
   },
   "outputs": [
    {
     "name": "stdout",
     "output_type": "stream",
     "text": [
      "[1, 2, 3, 4, 5, 6]\n"
     ]
    }
   ],
   "source": [
    "b = [1, 2, 3]\n",
    "c = [4, 5, 6]\n",
    "d = b + c\n",
    "print(d)"
   ]
},
{
   "cell_type": "markdown",
   "metadata": {},
   "source": [
    "## Dicionários"
   ]
},
{
   "cell_type": "markdown",
   "metadata": {},
   "source": [
    "Um dicionário armazena dados como um par `chave:valor`. Ao contrário de uma lista, onde você tem uma ordem específica, as chaves em um dicionário permitem acessar informações facilmente, em qualquer lugar:"
   ]
},
{
   "cell_type": "code",
   "execution_count": 82,
   "metadata": {},
   "outputs": [],
   "source": [
    "my_dict = {\"key1\":1, \"key2\":2, \"key3\":3}"
   ]
},
{
   "cell_type": "code",
   "execution_count": 83,
   "metadata": {
    "tags": []
   },
   "outputs": [
    {
     "data": {
      "text/plain": [
       "1"
      ]
     },
     "execution_count": 83,
     "metadata": {},
     "output_type": "execute_result"
    }
   ],
   "source": [
    "my_dict[\"key1\"]"
   ]
},
{
   "cell_type": "markdown",
   "metadata": {},
   "source": [
    "Você pode adicionar uma nova `chave:valor` facilmente, e pode ser de qualquer tipo."
   ]
},
{
   "cell_type": "code",
   "execution_count": 84,
   "metadata": {
    "tags": []
   },
   "outputs": [
    {
     "data": {
      "text/plain": [
       "{'key1': 1, 'key2': 2, 'key3': 3, 'newkey': 'new'}"
      ]
     },
     "execution_count": 84,
     "metadata": {},
     "output_type": "execute_result"
    }
   ],
   "source": [
    "my_dict[\"newkey\"] = \"new\"\n",
    "my_dict"
   ]
},
{
   "cell_type": "markdown",
   "metadata": {},
   "source": [
    "Você também pode facilmente obter a lista de chaves definidas em um dicionário"
   ]
},
{
   "cell_type": "code",
   "execution_count": 85,
   "metadata": {
    "tags": []
   },
   "outputs": [
    {
     "data": {
      "text/plain": [
       "['key1', 'key2', 'key3', 'newkey']"
      ]
     },
     "execution_count": 85,
     "metadata": {},
     "output_type": "execute_result"
    }
   ],
   "source": [
    "keys = list(my_dict.keys())\n",
    "keys"
   ]
},
{
   "cell_type": "markdown",
   "metadata": {},
   "source": [
    "E verificar facilmente se uma chave existe no dicionário usando o operador `in`"
   ]
},
{
   "cell_type": "code",
   "execution_count": 87,
   "metadata": {
    "tags": []
   },
   "outputs": [
    {
     "name": "stdout",
     "output_type": "stream",
     "text": [
      "True\n",
      "False\n"
     ]
    }
   ],
   "source": [
    "print(\"key1\" in keys)\n",
    "print(\"invalidKey\" in keys)"
   ]
},
{
   "cell_type": "markdown",
   "metadata": {},
   "source": [
    "<div class=\"alert alert-block alert-warning\">\n",
    "    \n",
    "<span class=\"fa fa-flash\"></span> Exercício rápido:\n",
    "\n",
    "Crie um dicionário onde as chaves sejam os nomes em string dos números de zero a nove e os valores sejam suas representações numéricas (0, 1, ... , 9)\n",
    "\n",
    "</div>"
   ]
},
{
   "cell_type": "code",
   "execution_count": null,
   "metadata": {},
   "outputs": [],
   "source": []
},
{
   "cell_type": "markdown",
   "metadata": {},
   "source": [
    "## Compreensões de Lista"
   ]
},
{
   "cell_type": "markdown",
   "metadata": {},
   "source": [
    "Compreensões de lista fornecem uma maneira compacta de inicializar listas. Alguns exemplos do tutorial"
   ]
},
{
   "cell_type": "code",
   "execution_count": 88,
   "metadata": {},
   "outputs": [
    {
     "data": {
      "text/plain": [
       "[0, 1, 2, 3, 4, 5, 6, 7, 8, 9]"
      ]
     },
     "execution_count": 88,
     "metadata": {},
     "output_type": "execute_result"
    }
   ],
   "source": [
    "list(range(10))"
   ]
},
{
   "cell_type": "code",
   "execution_count": 89,
   "metadata": {},
   "outputs": [],
   "source": [
    "squares = [x**2 for x in range(10)]"
   ]
},
{
   "cell_type": "code",
   "execution_count": 90,
   "metadata": {
    "tags": []
   },
   "outputs": [
    {
     "data": {
      "text/plain": [
       "[0, 1, 4, 9, 16, 25, 36, 49, 64, 81]"
      ]
     },
     "execution_count": 90,
     "metadata": {},
     "output_type": "execute_result"
    }
   ],
   "source": [
    "squares"
   ]
},
{
   "cell_type": "markdown",
   "metadata": {},
   "source": [
    "Aqui usamos outro tipo de python, a tupla, para combinar números de duas listas em um par"
   ]
},
{
   "cell_type": "code",
   "execution_count": 91,
   "metadata": {
    "tags": []
   },
   "outputs": [
    {
     "data": {
      "text/plain": [
       "[(1, 3), (1, 4), (2, 3), (2, 1), (2, 4), (3, 1), (3, 4)]"
      ]
     },
     "execution_count": 91,
     "metadata": {},
     "output_type": "execute_result"
    }
   ],
   "source": [
    "[(x, y) for x in [1,2,3] for y in [3,1,4] if x != y]"
   ]
},
{
   "cell_type": "markdown",
   "metadata": {},
   "source": [
    "<div class=\"alert alert-block alert-warning\">\n",
    "    \n",
    "<span class=\"fa fa-flash\"></span> Exercício rápido:\n",
    "\n",
    "Use uma compreensão de lista para criar uma nova lista a partir de `squares` contendo apenas os números pares. Pode ser útil usar o operador de módulo, `%`\n",
    "\n",
    "</div>"
   ]
},
{
   "cell_type": "code",
   "execution_count": null,
   "metadata": {},
   "outputs": [],
   "source": []
},
{
   "cell_type": "markdown",
   "metadata": {},
   "source": [
    "## Tuplas"
   ]
},
{
   "cell_type": "markdown",
   "metadata": {},
   "source": [
    "As tuplas são imutáveis -- não podem ser alteradas, mas são úteis para organizar dados em algumas situações. Usamos `()` para indicar uma tupla:"
   ]
},
{
   "cell_type": "code",
   "execution_count": 92,
   "metadata": {},
   "outputs": [
    {
     "data": {
      "text/plain": [
       "(1, 2, 3, 4)"
      ]
     },
     "execution_count": 92,
     "metadata": {},
     "output_type": "execute_result"
    }
   ],
   "source": [
    "a = (1, 2, 3, 4)\n",
    "a"
   ]
},
{
   "cell_type": "code",
   "execution_count": 93,
   "metadata": {},
   "outputs": [
    {
     "ename": "TypeError",
     "evalue": "'tuple' object does not support item assignment",
     "output_type": "error",
     "traceback": [
      "\u001b[0;31m---------------------------------------------------------------------------\u001b[0m",
      "\u001b[0;31mTypeError\u001b[0m                                 Traceback (most recent call last)",
      "Cell \u001b[0;32mIn[93], line 1\u001b[0;32m\n\u001b[43ma\u001b[49m\u001b[43m[\u001b[49m\u001b[38;5;241;43m0\u001b[39;49m]\u001b[49m\u001b[38;5;241m=\u001b[39m\u001b[38;5;241m0\u001b[39m\n",
      "\u001b[0;31mTypeError\u001b[0m: 'tuple' object does not support item assignment"
     ]
    }
   ],
   "source": [
    "a[0]=0"
   ]
},
{
   "cell_type": "markdown",
   "metadata": {},
   "source": [
    "Podemos desempacotar uma tupla:"
   ]
},
{
   "cell_type": "code",
   "execution_count": 94,
   "metadata": {},
   "outputs": [],
   "source": [
    "w, x, y, z = a"
   ]
},
{
   "cell_type": "code",
   "execution_count": 95,
   "metadata": {
    "tags": []
   },
   "outputs": [
    {
     "data": {
      "text/plain": [
       "1"
      ]
     },
     "execution_count": 95,
     "metadata": {},
     "output_type": "execute_result"
    }
   ],
   "source": [
    "w"
   ]
},
{
   "cell_type": "markdown",
   "metadata": {},
   "source": [
    "Como uma tupla é imutável, não podemos alterar um elemento:"
   ]
},
{
   "cell_type": "code",
   "execution_count": 96,
   "metadata": {
    "tags": []
   },
   "outputs": [
    {
     "ename": "TypeError",
     "evalue": "'tuple' object does not support item assignment",
     "output_type": "error",
     "traceback": [
      "\u001b[0;31m---------------------------------------------------------------------------\u001b[0m",
      "\u001b[0;31mTypeError\u001b[0m                                 Traceback (most recent call last)",
      "Cell \u001b[0;32mIn[96], line 1\u001b[0;32m\n\u001b[43ma\u001b[49m\u001b[43m[\u001b[49m\u001b[38;5;241;43m0\u001b[39;49m]\u001b[49m\u001b[38;5;241m=\u001b[39m\u001b[38;5;241m2\u001b[39m\n",
      "\u001b[0;31mTypeError\u001b[0m: 'tuple' object does not support item assignment"
     ]
    }
   ],
   "source": [
    "a[0] = 2"
   ]
},
{
   "cell_type": "markdown",
   "metadata": {},
   "source": [
    "Mas podemos transformá-la em uma lista, e aí podemos alterá-la"
   ]
},
{
   "cell_type": "code",
   "execution_count": 97,
   "metadata": {},
   "outputs": [],
   "source": [
    "z = list(a)"
   ]
},
{
   "cell_type": "code",
   "execution_count": 98,
   "metadata": {},
   "outputs": [],
   "source": [
    "z[0] = \"new\""
   ]
},
{
   "cell_type": "code",
   "execution_count": 99,
   "metadata": {
    "tags": []
   },
   "outputs": [
    {
     "data": {
      "text/plain": [
       "['new', 2, 3, 4]"
      ]
     },
     "execution_count": 99,
     "metadata": {},
     "output_type": "execute_result"
    }
   ],
   "source": [
    "z"
   ]
},
{
   "cell_type": "markdown",
   "metadata": {},
   "source": [
    "Frequentemente não fica claro como as tuplas diferem das listas. A diferença mais óbvia é que elas são imutáveis (use isso a seu favor para evitar bugs!). Muitas vezes, veremos tuplas sendo usadas para armazenar dados relacionados que devem ser interpretados juntos. Um bom exemplo é um ponto cartesiano, (x, y). Aqui está uma lista de pontos:"
   ]
},
{
   "cell_type": "code",
   "execution_count": 100,
   "metadata": {
    "tags": []
   },
   "outputs": [
    {
     "data": {
      "text/plain": [
       "[(1, 2), (2, 3), (3, 4)]"
      ]
     },
     "execution_count": 100,
     "metadata": {},
     "output_type": "execute_result"
    }
   ],
   "source": [
    "points = []\n",
    "points.append((1,2))\n",
    "points.append((2,3))\n",
    "points.append((3,4))\n",
    "points"
   ]
},
{
   "cell_type": "markdown",
   "metadata": {},
   "source": [
    "Podemos até gerar esses pontos para uma curva usando uma compreensão de lista:"
   ]
},
{
   "cell_type": "code",
   "execution_count": 101,
   "metadata": {
    "tags": []
   },
   "outputs": [
    {
     "data": {
      "text/plain": [
       "[(0, 5),\n",
       " (1, 7),\n",
       " (2, 9),\n",
       " (3, 11),\n",
       " (4, 13),\n",
       " (5, 15),\n",
       " (6, 17),\n",
       " (7, 19),\n",
       " (8, 21),\n",
       " (9, 23)]"
      ]
     },
     "execution_count": 101,
     "metadata": {},
     "output_type": "execute_result"
    }
   ],
   "source": [
    "points = [(x, 2*x + 5) for x in range(10)]\n",
    "points"
   ]
},
{
   "cell_type": "markdown",
   "metadata": {},
   "source": [
    "# Fluxo de Controle"
   ]
},
{
   "cell_type": "markdown",
   "metadata": {},
   "source": [
    "Essas notas seguem de perto o tutorial oficial do python: http://docs.python.org/3/tutorial/"
   ]
},
{
   "cell_type": "markdown",
   "metadata": {},
   "source": [
    "Para escrever um programa, precisamos da capacidade de iterar e tomar ações com base nos valores de uma variável. Isso inclui testes `if` e loops.\n",
    "\n",
    "**Python usa 4 espaços em branco para denotar um bloco de código**. A maioria dos editores interpretará uma tabulação como 4 espaços por padrão (se não, verifique suas configurações)."
   ]
},
{
   "cell_type": "markdown",
   "metadata": {},
   "source": [
    "## Loops\n",
    "\n",
    "Um loop `while` simples—note a indentação para denotar o bloco que faz parte do loop.\n",
    "\n",
    "Aqui, também usamos o operador compacto `+=`: `n += 1` é o mesmo que `n = n + 1`."
   ]
},
{
   "cell_type": "code",
   "execution_count": 102,
   "metadata": {},
   "outputs": [
    {
     "name": "stdout",
     "output_type": "stream",
     "text": [
      "0\n",
      "1\n",
      "2\n",
      "3\n",
      "4\n",
      "5\n",
      "6\n",
      "7\n",
      "8\n",
      "9\n"
     ]
    }
   ],
   "source": [
    "n = 0\n",
    "while n < 10:\n",
    "    print(n)\n",
    "    n += 1"
   ]
},
{
   "cell_type": "markdown",
   "metadata": {},
   "source": [
    "Este foi um exemplo bem simples. Mas frequentemente usaremos a função `range()` nesta situação. Note que `range()` pode aceitar um passo."
   ]
},
{
   "cell_type": "code",
   "execution_count": 104,
   "metadata": {},
   "outputs": [
    {
     "data": {
      "text/plain": [
       "[2, 4, 6, 8]"
      ]
     },
     "execution_count": 104,
     "metadata": {},
     "output_type": "execute_result"
    }
   ],
   "source": [
    "list(range(2, 10, 2))"
   ]
},
{
   "cell_type": "code",
   "execution_count": 103,
   "metadata": {
    "tags": []
   },
   "outputs": [
    {
     "name": "stdout",
     "output_type": "stream",
     "text": [
      "2\n",
      "4\n",
      "6\n",
      "8\n"
     ]
    }
   ],
   "source": [
    "for n in range(2, 10, 2):\n",
    "    print(n)"
   ]
},
{
   "cell_type": "markdown",
   "metadata": {},
   "source": [
    "## Instruções `if`"
   ]
},
{
   "cell_type": "markdown",
   "metadata": {},
   "source": [
    "`if` permite ramificação. O Python não possui uma instrução `select/case` como algumas outras linguagens, mas `if`, `elif` e `else` podem reproduzir qualquer funcionalidade de ramificação que você precisar."
   ]
},
{
   "cell_type": "code",
   "execution_count": 105,
   "metadata": {},
   "outputs": [
    {
     "name": "stdout",
     "output_type": "stream",
     "text": [
      "zero\n"
     ]
    }
   ],
   "source": [
    "x = 0\n",
    "\n",
    "if x < 0:\n",
    "    print(\"negative\")\n",
    "elif x == 0:\n",
    "    print(\"zero\")\n",
    "else:\n",
    "    print(\"positive\")\n"
   ]
},
{
   "cell_type": "markdown",
   "metadata": {},
   "source": [
    "## Iterando sobre elementos"
   ]
},
{
   "cell_type": "markdown",
   "metadata": {},
   "source": [
    "É fácil iterar sobre itens em uma lista ou qualquer objeto _iterável_.\n",
    "\n",
    "<div class=\"alert alert-block alert-warning\">\n",
    "    \n",
    "\n",
    "**Iterar sobre índices, como você faria em C, definitivamente não é pythonico.** É muito raro que você realmente precise mexer com índices no Python. Se você estiver fazendo isso, provavelmente há uma maneira melhor.\n",
    "\n",
    "\n",
    "</div>\n",
    "\n",
    "\n",
    "O operador `in` é a chave aqui."
   ]
},
{
   "cell_type": "code",
   "execution_count": 107,
   "metadata": {},
   "outputs": [
    {
     "name": "stdout",
     "output_type": "stream",
     "text": [
      "1\n",
      "2.0\n",
      "three\n",
      "4\n"
     ]
    }
   ],
   "source": [
    "alist = [1, 2.0, \"three\", 4]\n",
    "for a in alist:\n",
    "    print(a)"
   ]
},
{
   "cell_type": "code",
   "execution_count": 108,
   "metadata": {},
   "outputs": [
    {
     "name": "stdout",
     "output_type": "stream",
     "text": [
      "1\n",
      "2.0\n",
      "three\n",
      "4\n"
     ]
    }
   ],
   "source": [
    "## Não faça isso\n",
    "for i in [0,1,2,3]:\n",
    "    print(alist[i])"
   ]
},
{
   "cell_type": "code",
   "execution_count": 109,
   "metadata": {},
   "outputs": [
    {
     "name": "stdout",
     "output_type": "stream",
     "text": [
      "t\n",
      "h\n",
      "i\n",
      "s\n",
      " \n",
      "i\n",
      "s\n",
      " \n",
      "a\n",
      " \n",
      "s\n",
      "t\n",
      "r\n",
      "i\n",
      "n\n",
      "g\n"
     ]
    }
   ],
   "source": [
    "for c in \"this is a string\":\n",
    "    print(c)"
   ]
},
{
   "cell_type": "markdown",
   "metadata": {},
   "source": [
    "Podemos combinar loops e testes `if` para fazer lógica mais complexa, como sair do loop quando você encontrar o que está procurando."
   ]
},
{
   "cell_type": "code",
   "execution_count": 110,
   "metadata": {},
   "outputs": [
    {
     "name": "stdout",
     "output_type": "stream",
     "text": [
      "2\n"
     ]
    }
   ],
   "source": [
    "n = 0\n",
    "for a in alist:\n",
    "    if a == \"three\":\n",
    "        break\n",
    "    else:\n",
    "        n += 1\n",
    "\n",
    "print(n)\n"
   ]
},
{
   "cell_type": "markdown",
   "metadata": {},
   "source": [
    "(para esse exemplo, no entanto, existe uma maneira mais simples)"
   ]
},
{
   "cell_type": "code",
   "execution_count": 111,
   "metadata": {},
   "outputs": [
    {
     "data": {
      "text/plain": [
       "2"
      ]
     },
     "execution_count": 111,
     "metadata": {},
     "output_type": "execute_result"
    }
   ],
   "source": [
    "alist.index(\"three\")"
   ]
},
{
   "cell_type": "markdown",
   "metadata": {},
   "source": [
    "Para dicionários, você também pode iterar sobre os elementos."
   ]
},
{
   "cell_type": "code",
   "execution_count": 112,
   "metadata": {},
   "outputs": [
    {
     "name": "stdout",
     "output_type": "stream",
     "text": [
      "key = key1, value = 1\n",
      "key = key2, value = 2\n",
      "key = key3, value = 3\n"
     ]
    }
   ],
   "source": [
    "my_dict = {\"key1\":1, \"key2\":2, \"key3\":3}\n",
    "\n",
    "for k, v in my_dict.items():\n",
    "    print(\"key = {}, value = {}\".format(k, v))    # note como fazemos a formatação aqui\n"
   ]
},
{
   "cell_type": "code",
   "execution_count": 114,
   "metadata": {},
   "outputs": [
    {
     "name": "stdout",
     "output_type": "stream",
     "text": [
      "key1 1\n",
      "key2 2\n",
      "key3 3\n"
     ]
    }
   ],
   "source": [
    "for k in my_dict:\n",
    "    print(k, my_dict[k])"
   ]
},
{
   "cell_type": "markdown",
   "metadata": {},
   "source": [
    "Às vezes, queremos iterar sobre um elemento da lista e saber seu índice. O `enumerate()` ajuda nisso:"
   ]
},
{
   "cell_type": "code",
   "execution_count": 115,
   "metadata": {},
   "outputs": [
    {
     "name": "stdout",
     "output_type": "stream",
     "text": [
      "0 1\n",
      "1 2.0\n",
      "2 three\n",
      "3 4\n"
     ]
    }
   ],
   "source": [
    "for n, a in enumerate(alist):\n",
    "    print(n, a)"
   ]
},
{
   "cell_type": "markdown",
   "metadata": {},
   "source": [
    "<div class=\"alert alert-block alert-warning\">\n",
    "    \n",
    "<span class=\"fa fa-flash\"></span> Exercício Rápido:\n",
    "    \n",
    "`zip()` permite iterar sobre dois iteráveis ao mesmo tempo. Considere as seguintes duas\n",
    "listas:\n",
    "\n",
    "```\n",
    "\n",
    " a = [1, 2, 3, 4, 5, 6, 7, 8]\n",
    " b = [\"a\", \"b\", \"c\", \"d\", \"e\", \"f\", \"g\", \"h\"]\n",
    " \n",
    "```\n",
    "\n",
    "`zip(a, b)` irá funcionar como uma lista, onde cada elemento é uma tupla com um item de `a` e o elemento correspondente de `b`. \n",
    "\n",
    "Tente iterar sobre essas listas juntas (usando `zip()`) e imprima os elementos correspondentes de cada lista juntos em uma única linha.\n",
    "\n",
    "</div>"
   ]
},
{
   "cell_type": "code",
   "execution_count": 116,
   "metadata": {},
   "outputs": [
    {
     "name": "stdout",
     "output_type": "stream",
     "text": [
      "1 a\n",
      "2 b\n",
      "3 c\n",
      "4 d\n",
      "5 e\n",
      "6 f\n",
      "7 g\n",
      "8 h\n"
     ]
    }
   ],
   "source": [
    "a = [1, 2, 3, 4, 5, 6, 7, 8]\n",
    "b = [\"a\", \"b\", \"c\", \"d\", \"e\", \"f\", \"g\", \"h\"]\n",
    "\n",
    "\n",
    "for x,y in zip(a,b):\n",
    "    print(x,y)\n",
    "\n"
   ]
},
{
   "cell_type": "code",
   "execution_count": 117,
   "metadata": {},
   "outputs": [
    {
     "data": {
      "text/plain": [
       "[(1, 'a'),\n",
       " (2, 'b'),\n",
       " (3, 'c'),\n",
       " (4, 'd'),\n",
       " (5, 'e'),\n",
       " (6, 'f'),\n",
       " (7, 'g'),\n",
       " (8, 'h')]"
      ]
     },
     "execution_count": 117,
     "metadata": {},
     "output_type": "execute_result"
    }
   ],
   "source": [
    "list(zip(a,b))"
   ]
},
{
   "cell_type": "markdown",
   "metadata": {},
   "source": [
    "<div class=\"alert alert-block alert-warning\">\n",
    "    \n",
    "<span class=\"fa fa-flash\"></span> Exercício Rápido:\n",
    "    \n",
    "A função `.split()` em uma string pode dividi-la em palavras (separando por espaços).  \n",
    "\n",
    "Usando `.split()`, faça um loop sobre as palavras da string\n",
    "\n",
    "`a = \"The quick brown fox jumped over the lazy dog\"`\n",
    "\n",
    "e imprima uma palavra por linha\n",
    "\n",
    "</div>"
   ]
},
{
   "cell_type": "code",
   "execution_count": null,
   "metadata": {},
   "outputs": [],
   "source": []
},
{
   "cell_type": "markdown",
   "metadata": {},
   "source": [
    "# Funções e Classes\n",
    "\n",
    "Funções e classes são os blocos de construção de programas complexos.\n",
    "Eles permitem organizar o código em unidades lógicas que podem ser\n",
    "reutilizadas.\n"
   ]
},
{
   "cell_type": "markdown",
   "metadata": {},
   "source": [
    "# Funções"
   ]
},
{
   "cell_type": "markdown",
   "metadata": {},
   "source": [
    "Funções são usadas para organizar o fluxo do programa, especialmente para nos permitir realizar facilmente tarefas comumente necessárias várias vezes. Já usamos várias funções, como aquelas que trabalham com listas (`append()` e `pop()`) ou strings (como `replace()`). Aqui veremos como escrever nossas próprias funções."
   ]
},
{
   "cell_type": "markdown",
   "metadata": {},
   "source": [
    "Uma função recebe argumentos, listados nos `()`, e retorna um valor. Mesmo que você não forneça explicitamente um valor de retorno, um valor será retornado (por exemplo, `None`). \n",
    "\n",
    "Aqui está um exemplo simples de uma função que recebe um único argumento, `i`"
   ]
},
{
   "cell_type": "code",
   "execution_count": 118,
   "metadata": {},
   "outputs": [
    {
     "name": "stdout",
     "output_type": "stream",
     "text": [
      "na função, i = 10\n",
      "na função, i = 5\n"
     ]
    }
   ],
   "source": [
    "def my_fun(i):\n",
    "    print(f\"na função, i = {i}\")\n",
    "    \n",
    "my_fun(10)\n",
    "my_fun(5)"
   ]
},
{
   "cell_type": "markdown",
   "metadata": {},
   "source": [
    "Funções são um local onde o _escopo_ entra em cena. Uma função tem seu próprio _namespace_. Se uma variável não estiver definida nessa função, ela procurará no namespace de onde foi chamada para ver se essa variável existe lá. \n",
    "\n",
    "No entanto, você deve evitar isso sempre que possível (variáveis que persistem entre namespaces são chamadas de variáveis globais).\n",
    "\n",
    "Veja se você entende o que está acontecendo aqui:"
   ]
},
{
   "cell_type": "code",
   "execution_count": 122,
   "metadata": {},
   "outputs": [
    {
     "data": {
      "text/plain": [
       "(11, 101)"
      ]
     },
     "execution_count": 122,
     "metadata": {},
     "output_type": "execute_result"
    }
   ],
   "source": [
    "c=100\n",
    "\n",
    "def add_c(a):\n",
    "    c= 10\n",
    "    return a+c\n",
    "\n",
    "def add_c_again(a):\n",
    "    return a+c\n",
    "\n",
    "add_c(1), add_c_again(1)\n",
    "\n"
   ]
},
{
   "cell_type": "markdown",
   "metadata": {},
   "source": [
    "Funções sempre retornam um valor—se um valor não for dado explicitamente, elas retornam `None`, caso contrário, elas podem retornar valores (até múltiplos valores) de qualquer tipo"
   ]
},
{
   "cell_type": "code",
   "execution_count": 123,
   "metadata": {},
   "outputs": [
    {
     "name": "stdout",
     "output_type": "stream",
     "text": [
      "na função, i = 10\n"
     ]
    }
   ],
   "source": [
    "a = my_fun(10)"
   ]
},
{
   "cell_type": "code",
   "execution_count": 124,
   "metadata": {},
   "outputs": [
    {
     "name": "stdout",
     "output_type": "stream",
     "text": [
      "None\n"
     ]
    }
   ],
   "source": [
    "print(a)"
   ]
},
{
   "cell_type": "markdown",
   "metadata": {},
   "source": [
    "Aqui está uma função simples que recebe dois números e retorna o produto deles."
   ]
},
{
   "cell_type": "code",
   "execution_count": 125,
   "metadata": {
    "tags": []
   },
   "outputs": [
    {
     "data": {
      "text/plain": [
       "12"
      ]
     },
     "execution_count": 125,
     "metadata": {},
     "output_type": "execute_result"
    }
   ],
   "source": [
    "def multiply(a, b):\n",
    "    return a*b\n",
    "\n",
    "c = multiply(3, 4)\n",
    "c"
   ]
},
{
   "cell_type": "markdown",
   "metadata": {},
   "source": [
    "Retornar mais números é simples (sem precisar de estruturas, ponteiros e outras coisas)."
   ]
},
{
   "cell_type": "code",
   "execution_count": 130,
   "metadata": {},
   "outputs": [
    {
     "data": {
      "text/plain": [
       "(11, 12)"
      ]
     },
     "execution_count": 130,
     "metadata": {},
     "output_type": "execute_result"
    }
   ],
   "source": [
    "def givemeboth(a, b):\n",
    "    return a+10, b+10\n",
    "\n",
    "givemeboth(1,2)"
   ]
},
{
   "cell_type": "markdown",
   "metadata": {},
   "source": [
    "<div class=\"alert alert-block alert-warning\">\n",
    "    \n",
    "<span class=\"fa fa-flash\"></span> Exercício rápido:\n",
    "    \n",
    "\n",
    "Escreva uma função simples que receba uma frase (como uma string) e retorne um número inteiro igual ao comprimento da palavra mais longa na frase. A função `len()` e o método `.split()` serão úteis aqui.\n",
    "\n",
    "</div>"
   ]
},
{
   "cell_type": "markdown",
   "metadata": {},
   "source": [
    "`None` é uma quantidade especial em Python (análogo ao `null` em outras linguagens). Podemos fazer testes com `None`—o método preferido é usar `is`:"
   ]
},
{
   "cell_type": "code",
   "execution_count": 131,
   "metadata": {
    "tags": []
   },
   "outputs": [
    {
     "name": "stdout",
     "output_type": "stream",
     "text": [
      "não fizemos nada\n"
     ]
    }
   ],
   "source": [
    "def do_nothing():\n",
    "    pass\n",
    "\n",
    "a = do_nothing()\n",
    "if a is None:\n",
    "    print(\"não fizemos nada\")"
   ]
},
{
   "cell_type": "code",
   "execution_count": 132,
   "metadata": {
    "tags": []
   },
   "outputs": [
    {
     "data": {
      "text/plain": [
       "True"
      ]
     },
     "execution_count": 132,
     "metadata": {},
     "output_type": "execute_result"
    }
   ],
   "source": [
    "a is None"
   ]
},
{
   "cell_type": "markdown",
   "metadata": {},
   "source": [
    "## Funções mais complexas\n",
    "\n",
    "Aqui está um exemplo mais complexo. Retornamos um par de variáveis—nos bastidores, em Python, isso é feito empacotando-as em uma tupla e depois desempacotando na parte que chama a função. Também note o _docstring_ aqui."
   ]
},
{
   "cell_type": "code",
   "execution_count": 136,
   "metadata": {
    "tags": []
   },
   "outputs": [
    {
     "data": {
      "text/plain": [
       "[0, 1, 1, 2, 3, 5, 8, 13, 21, 34, 55, 89, 144, 233]"
      ]
     },
     "execution_count": 136,
     "metadata": {},
     "output_type": "execute_result"
    }
   ],
   "source": [
    "def fib2(n): # return Fibonacci series up to n (from the python tutorial)\n",
    "    \"\"\"Return a list containing the Fibonacci series up to n.\"\"\"\n",
    "    result = []\n",
    "    a, b = 0, 1\n",
    "    while a < n:\n",
    "        result.append(a)    # see below\n",
    "        a, b = b, a+b\n",
    "    return result, len(result)\n",
    "\n",
    "fib, n = fib2(250)\n",
    "fib"
   ]
},
{
   "cell_type": "markdown",
   "metadata": {},
   "source": [
    "Note que essa função inclui um docstring (logo após a definição da função). Isso é usado pelo sistema de ajuda."
   ]
},
{
   "cell_type": "code",
   "execution_count": 137,
   "metadata": {},
   "outputs": [
    {
     "name": "stdout",
     "output_type": "stream",
     "text": [
      "Ajuda na função fib2 no módulo __main__:\n",
      "\n",
      "fib2(n)\n",
      "    Retorna uma lista contendo a série de Fibonacci até n.\n",
      "\n"
     ]
    }
   ],
   "source": [
    "help(fib2)"
   ]
},
{
   "cell_type": "code",
   "execution_count": 138,
   "metadata": {},
   "outputs": [],
   "source": [
    "?fib2"
   ]
},
{
   "cell_type": "markdown",
   "metadata": {},
   "source": [
    "Você pode ter argumentos opcionais que fornecem valores padrão. Aqui está uma função simples que valida uma resposta, com um argumento opcional que pode fornecer a resposta correta."
   ]
},
{
   "cell_type": "code",
   "execution_count": 139,
   "metadata": {
    "tags": []
   },
   "outputs": [
    {
     "name": "stdout",
     "output_type": "stream",
     "text": [
      "True\n",
      "False\n"
     ]
    }
   ],
   "source": [
    "def check_answer(val, correct_answer=\"a\"):\n",
    "    return val == correct_answer\n",
    "\n",
    "print(check_answer(\"a\"))\n",
    "print(check_answer(\"a\", correct_answer=\"b\"))"
   ]
},
{
   "cell_type": "markdown",
   "metadata": {},
   "source": [
    "<div class=\"alert alert-block alert-warning\">\n",
    "    \n",
    "<span class=\"fa fa-flash\"></span> Exercício não tão fácil:\n",
    "    \n",
    "\n",
    "Execute esses dois blocos de código e entenda/explique a diferença... **Isso leva a um dos erros mais comuns para iniciantes em Python**\n",
    "\n",
    "Este:\n",
    "    \n",
    "    def f(a, L=[]):\n",
    "        L.append(a)\n",
    "        return L\n",
    "\n",
    "    print(f(1))\n",
    "    print(f(2))\n",
    "    print(f(3))\n",
    "    \n",
    "E este:\n",
    "    \n",
    "    def fnew(a, L=None):\n",
    "        if L is None:\n",
    "            L = []\n",
    "        L.append(a)\n",
    "        return L\n",
    "\n",
    "    print(fnew(1))\n",
    "    print(fnew(2))\n",
    "    print(fnew(3))\n",
    "    \n",
    "</div>"
   ]
},
{
   "cell_type": "markdown",
   "metadata": {},
   "source": [
    "## Lambdas"
   ]
},
{
   "cell_type": "markdown",
   "metadata": {},
   "source": [
    "Lambdas são funções \"descartáveis\". São funções pequenas e sem nome, frequentemente usadas como argumentos em outras funções. Os seguintes exemplos são equivalentes:"
   ]
},
{
   "cell_type": "code",
   "execution_count": 80,
   "metadata": {},
   "outputs": [],
   "source": [
    "def square(x):\n",
    "    return x**2\n",
    "\n",
    "square = lambda x : x**2"
   ]
},
{
   "cell_type": "markdown",
   "metadata": {},
   "source": [
    "Por exemplo: temos uma lista de tuplas e queremos ordenar a lista com base no segundo item de cada tupla. O método `sort` pode receber um argumento opcional `key`, que nos diz como interpretar os itens da lista para ordená-los."
   ]
},
{
   "cell_type": "code",
   "execution_count": 143,
   "metadata": {},
   "outputs": [
    {
     "data": {
      "text/plain": [
       "[(1, 'one'), (2, 'two'), (3, 'three'), (4, 'four')]"
      ]
     },
     "execution_count": 143,
     "metadata": {},
     "output_type": "execute_result"
    }
   ],
   "source": [
    "pairs = [(1, 'one'), (2, 'two'), (3, 'three'), (4, 'four')]\n",
    "pairs.sort()\n",
    "pairs"
   ]
},
{
   "cell_type": "code",
   "execution_count": 144,
   "metadata": {},
   "outputs": [
    {
     "data": {
      "text/plain": [
       "[(4, 'four'), (1, 'one'), (3, 'three'), (2, 'two')]"
      ]
     },
     "execution_count": 144,
     "metadata": {},
     "output_type": "execute_result"
    }
   ],
   "source": [
    "pairs.sort(key=lambda p: p[1])\n",
    "pairs"
   ]
},
{
   "cell_type": "markdown",
   "metadata": {},
   "source": [
    "Aqui usamos uma função lambda para extrair itens de uma lista (com a função `filter`)."
   ]
},
{
   "cell_type": "code",
   "execution_count": 145,
   "metadata": {},
   "outputs": [
    {
     "data": {
      "text/plain": [
       "[1]"
      ]
     },
     "execution_count": 145,
     "metadata": {},
     "output_type": "execute_result"
    }
   ],
   "source": [
    "list(filter(lambda x:x==1, [1,2,3]))"
   ]
},
{
   "cell_type": "code",
   "execution_count": 146,
   "metadata": {},
   "outputs": [
    {
     "data": {
      "text/plain": [
       "[0,\n",
       " 36,\n",
       " 144,\n",
       " 324,\n",
       " 576,\n",
       " 900,\n",
       " 1296,\n",
       " 1764,\n",
       " 2304,\n",
       " 2916,\n",
       " 3600,\n",
       " 4356,\n",
       " 5184,\n",
       " 6084,\n",
       " 7056,\n",
       " 8100,\n",
       " 9216]"
      ]
     },
     "execution_count": 146,
     "metadata": {},
     "output_type": "execute_result"
    }
   ],
   "source": [
    "squares = [x**2 for x in range(100)]\n",
    "sq = list(filter(lambda x : x%2 == 0 and x%3 == 0, squares))\n",
    "sq"
   ]
},
{
   "cell_type": "markdown",
   "metadata": {},
   "source": [
    "# Classes"
   ]
},
{
   "cell_type": "markdown",
   "metadata": {
    "tags": []
   },
   "source": [
    "Classes são o conceito fundamental para programação orientada a objetos. Uma classe define um tipo de dado com tanto dados quanto funções que podem operar sobre esses dados. Um objeto é uma instância de uma classe. Cada objeto terá seu próprio espaço de nomes (separado de outras instâncias da classe e de outras funções, etc. no seu programa).\n",
    "\n",
    "Usamos o operador ponto (`.`) para acessar os membros da classe (dados ou funções). Já temos feito isso com frequência, strings, ints, listas, ... são todos objetos em Python."
   ]
},
{
   "cell_type": "markdown",
   "metadata": {
    "tags": []
   },
   "source": [
    "## Convenções de nomenclatura"
   ]
},
{
   "cell_type": "markdown",
   "metadata": {},
   "source": [
    "A comunidade Python adota algumas convenções de nomenclatura, definidas no PEP-8:\n",
    "\n",
    "https://www.python.org/dev/peps/pep-0008/\n",
    "\n",
    "As mais amplamente adotadas são:\n",
    "\n",
    "* nomes de classes começam com maiúscula e utilizam o \"camelcase\" para nomes compostos, ex: `ShoppingCart`\n",
    "\n",
    "* nomes de variáveis (incluindo objetos que são instâncias de uma classe) são minúsculos e usam underscores para separar palavras, ex: `shopping_cart`\n",
    "\n",
    "* nomes de módulos devem ser minúsculos com underscores"
   ]
},
{
   "cell_type": "markdown",
   "metadata": {},
   "source": [
    "## Uma classe simples"
   ]
},
{
   "cell_type": "markdown",
   "metadata": {},
   "source": [
    "Aqui está uma classe que guarda informações de um estudante."
   ]
},
{
   "cell_type": "code",
   "execution_count": 147,
   "metadata": {},
   "outputs": [],
   "source": [
    "class Student:\n",
    "    def __init__(self, name, grade=None):\n",
    "        self.name = name\n",
    "        self.grade = grade"
   ]
},
{
   "cell_type": "markdown",
   "metadata": {},
   "source": [
    "Esta classe tem uma função, `__init__()`, que é chamada automaticamente quando criamos uma instância da classe.\n",
    "\n",
    "O argumento `self` se refere ao objeto que será criado e aponta para a memória que o objeto usará para armazenar os conteúdos da classe."
   ]
},
{
   "cell_type": "code",
   "execution_count": 149,
   "metadata": {},
   "outputs": [
    {
     "name": "stdout",
     "output_type": "stream",
     "text": [
      "Mike\n",
      "18\n"
     ]
    }
   ],
   "source": [
    "a = Student(\"Mike\", 18)\n",
    "print(a.name)\n",
    "print(a.grade)"
   ]
},
{
   "cell_type": "markdown",
   "metadata": {},
   "source": [
    "Vamos criar vários deles, armazenados em uma lista"
   ]
},
{
   "cell_type": "code",
   "execution_count": 150,
   "metadata": {},
   "outputs": [],
   "source": [
    "students = []\n",
    "students.append(Student(\"fry\", \"19\"))\n",
    "students.append(Student(\"leela\", \"30\"))\n",
    "students.append(Student(\"zoidberg\", \"23\"))\n",
    "students.append(Student(\"hubert\", \"10\"))\n",
    "students.append(Student(\"bender\", \"26\"))\n",
    "students.append(Student(\"calculon\", \"27\"))\n",
    "students.append(Student(\"amy\", \"30\"))\n",
    "students.append(Student(\"hermes\", \"30\"))\n",
    "students.append(Student(\"scruffy\", \"12\"))\n",
    "students.append(Student(\"flexo\", \"18\"))\n",
    "students.append(Student(\"morbo\", \"23\"))\n",
    "students.append(Student(\"hypnotoad\", \"30lode\"))\n",
    "students.append(Student(\"zapp\", \"14\"))"
   ]
},
{
   "cell_type": "markdown",
   "metadata": {},
   "source": [
    "<div class=\"alert alert-block alert-warning\">\n",
    "    \n",
    "<span class=\"fa fa-flash\"></span> Exercício rápido:\n",
    "\n",
    "Loop sobre os estudantes na lista `students` e imprima o nome e a nota de cada aluno, um por linha.\n",
    "\n",
    "</div>"
   ]
},
{
   "cell_type": "code",
   "execution_count": 151,
   "metadata": {},
   "outputs": [
    {
     "data": {
      "text/plain": [
       "'fry'"
      ]
     },
     "execution_count": 151,
     "metadata": {},
     "output_type": "execute_result"
    }
   ],
   "source": [
    "students[0].name"
   ]
},
{
   "cell_type": "markdown",
   "metadata": {},
   "source": [
    "Podemos usar compreensões de listas com nossa lista de objetos. Por exemplo, vamos encontrar todos os alunos que têm a nota 30."
   ]
},
{
   "cell_type": "code",
   "execution_count": 152,
   "metadata": {},
   "outputs": [
    {
     "data": {
      "text/plain": [
       "['leela', 'amy', 'hermes', 'hypnotoad']"
      ]
     },
     "execution_count": 152,
     "metadata": {},
     "output_type": "execute_result"
    }
   ],
   "source": [
    "As = [q.name for q in students if q.grade.startswith(\"30\")]\n",
    "As"
   ]
},
{
   "cell_type": "markdown",
   "metadata": {},
   "source": [
    "## Cartas de Baralho"
   ]
},
{
   "cell_type": "markdown",
   "metadata": {},
   "source": [
    "Aqui está uma classe mais complicada que representa uma carta de baralho. Note que estamos usando unicode para representar os naipes."
   ]
},
{
   "cell_type": "code",
   "execution_count": 153,
   "metadata": {},
   "outputs": [],
   "source": [
    "class Card:\n",
    "    \n",
    "    def __init__(self, suit=1, rank=2):\n",
    "        if suit < 1 or suit > 4:\n",
    "            print(\"naipe inválido, definindo como 1\")\n",
    "            suit = 1\n",
    "            \n",
    "        self.suit = suit\n",
    "        self.rank = rank\n",
    "        \n",
    "    def value(self):\n",
    "        \"\"\" queremos que as cartas sejam ordenadas primeiramente pelo valor, depois pelo naipe \"\"\"\n",
    "        return self.suit + (self.rank-1)*14\n",
    "    \n",
    "    # incluímos isso para permitir comparações com < e > entre cartas \n",
    "    def __lt__(self, other):\n",
    "        return self.value() < other.value()\n",
    "\n",
    "    def __eq__(self, other):\n",
    "        return self.rank == other.rank and self.suit == other.suit\n",
    "    \n",
    "    def __repr__(self):\n",
    "        return self.__str__()\n",
    "    \n",
    "    def __str__(self):\n",
    "        suits = [u\"\\u2660\",  # espadas\n",
    "                 u\"\\u2665\",  # copas\n",
    "                 u\"\\u2666\",  # ouros\n",
    "                 u\"\\u2663\"]  # paus\n",
    "        \n",
    "        r = str(self.rank)\n",
    "        if self.rank == 11:\n",
    "            r = \"J\"\n",
    "        elif self.rank == 12:\n",
    "            r = \"Q\"\n",
    "        elif self.rank == 13:\n",
    "            r = \"K\"\n",
    "        elif self.rank == 14:\n",
    "            r = \"A\"\n",
    "                \n",
    "        return r +':'+suits[self.suit-1]"
   ]
},
{
   "cell_type": "markdown",
   "metadata": {},
   "source": [
    "Agora podemos criar uma carta facilmente."
   ]
},
{
   "cell_type": "code",
   "execution_count": 154,
   "metadata": {},
   "outputs": [],
   "source": [
    "c1 = Card()"
   ]
},
{
   "cell_type": "markdown",
   "metadata": {},
   "source": [
    "Podemos passar argumentos para o `__init__` quando configuramos a classe:"
   ]
},
{
   "cell_type": "code",
   "execution_count": 155,
   "metadata": {},
   "outputs": [],
   "source": [
    "c2 = Card(suit=2, rank=2)"
   ]
},
{
   "cell_type": "markdown",
   "metadata": {},
   "source": [
    "Uma vez que temos nosso objeto, podemos acessar qualquer uma das funções da classe usando o operador `ponto`"
   ]
},
{
   "cell_type": "code",
   "execution_count": 156,
   "metadata": {},
   "outputs": [
    {
     "data": {
      "text/plain": [
       "16"
      ]
     },
     "execution_count": 156,
     "metadata": {},
     "output_type": "execute_result"
    }
   ],
   "source": [
    "c2.value()"
   ]
},
{
   "cell_type": "code",
   "execution_count": 158,
   "metadata": {},
   "outputs": [
    {
     "name": "stdout",
     "output_type": "stream",
     "text": [
      "naipe inválido, definindo como 1\n"
     ]
    }
   ],
   "source": [
    "c3 = Card(suit=0, rank=4)"
   ]
},
{
   "cell_type": "markdown",
   "metadata": {},
   "source": [
    "O método `__str__` converte o objeto em uma string que pode ser impressa."
   ]
},
{
   "cell_type": "code",
   "execution_count": 159,
   "metadata": {},
   "outputs": [
    {
     "name": "stdout",
     "output_type": "stream",
     "text": [
      "2:♠\n",
      "2:♥\n"
     ]
    }
   ],
   "source": [
    "print(c1)\n",
    "print(c2)"
   ]
},
{
   "cell_type": "markdown",
   "metadata": {},
   "source": [
    "O método `value` atribui um valor ao objeto que pode ser usado em comparações, e o método `__lt__` faz a comparação real."
   ]
},
{
   "cell_type": "code",
   "execution_count": 160,
   "metadata": {},
   "outputs": [
    {
     "name": "stdout",
     "output_type": "stream",
     "text": [
      "False\n",
      "True\n"
     ]
    }
   ],
   "source": [
    "print(c1 > c2)\n",
    "print(c1 < c2)"
   ]
},
{
   "cell_type": "markdown",
   "metadata": {},
   "source": [
    "Note que nem todos os operadores estão definidos para nossa classe, então, por exemplo, não podemos somar duas cartas:"
   ]
},
{
   "cell_type": "code",
   "execution_count": 161,
   "metadata": {},
   "outputs": [
    {
     "ename": "TypeError",
     "evalue": "unsupported operand type(s) for +: 'Card' and 'Card'",
     "output_type": "error",
     "traceback": [
      "\u001b[0;31m---------------------------------------------------------------------------\u001b[0m",
      "\u001b[0;31mTypeError\u001b[0m                                 Traceback (most recent call last)",
      "Cell \u001b[0;32mIn[161], line 1\n\u001b[0;32m----> 1\u001b[0m c1 + c2\n",
      "\u001b[0;31mTypeError\u001b[0m: unsupported operand type(s) for +: 'Card' and 'Card'"
     ]
    }
   ],
   "source": [
    "c1 + c2"
   ]
},
{
   "cell_type": "markdown",
   "metadata": {},
   "source": [
    "<div class=\"alert alert-block alert-warning\">\n",
    "    \n",
    "<span class=\"fa fa-flash\"></span> Exercício rápido:\n",
    "\n",
    " * Crie uma \"mão\" correspondente a uma sequência (5 cartas de qualquer naipe, mas em sequência de valor)\n",
    " * Crie outra mão correspondente a um flush (5 cartas do mesmo naipe, de qualquer valor)\n",
    " * Finalmente crie uma mão com uma das cartas duplicadas—isso não deve ser permitido em um baralho padrão de cartas. Como você verificaria isso?\n",
    "\n",
    "</div>"
   ]
},
{
 "cell_type": "code",
 "execution_count": null,
 "metadata": {
  "tags": []
 },
 "outputs": [],
 "source": []
},
{
   "cell_type": "markdown",
   "metadata": {},
   "source": [
    "## Baralho de Cartas"
   ]
},
{
   "cell_type": "markdown",
   "metadata": {},
   "source": [
    "As classes podem usar outras classes como objetos de dados—aqui está um baralho de cartas. Note que estamos usando o módulo `random` do Python."
   ]
},
{
   "cell_type": "code",
   "execution_count": 162,
   "metadata": {},
   "outputs": [],
   "source": [
    "import random\n",
    "\n",
    "class Deck:\n",
    "    \"\"\" o baralho é uma coleção de cartas \"\"\"\n",
    "\n",
    "    def __init__(self):\n",
    "\n",
    "        self.nsuits = 4\n",
    "        self.nranks = 13\n",
    "        self.minrank = 2\n",
    "        self.maxrank = self.minrank + self.nranks - 1\n",
    "\n",
    "        self.cards = []\n",
    "\n",
    "        for rank in range(self.minrank,self.maxrank+1):\n",
    "            for suit in range(1, self.nsuits+1):\n",
    "                self.cards.append(Card(rank=rank, suit=suit))\n",
    "\n",
    "    def shuffle(self):\n",
    "        random.shuffle(self.cards)\n",
    "\n",
    "    def get_cards(self, num=1):\n",
    "        hand = []\n",
    "        for n in range(num):\n",
    "            hand.append(self.cards.pop())\n",
    "\n",
    "        return hand\n",
    "    \n",
    "    def __str__(self):\n",
    "        string = \"\"\n",
    "        for c in self.cards:\n",
    "            string += str(c) + \" \"\n",
    "        return string"
   ]
},
{
   "cell_type": "markdown",
   "metadata": {},
   "source": [
    "Vamos criar um baralho, embaralhá-lo e distribuir uma mão (para um jogo de poker)"
   ]
},
{
   "cell_type": "code",
   "execution_count": 164,
   "metadata": {},
   "outputs": [
    {
     "name": "stdout",
     "output_type": "stream",
     "text": [
      "2:♠ 2:♥ 2:♦ 2:♣ 3:♠ 3:♥ 3:♦ 3:♣ 4:♠ 4:♥ 4:♦ 4:♣ 5:♠ 5:♥ 5:♦ 5:♣ 6:♠ 6:♥ 6:♦ 6:♣ 7:♠ 7:♥ 7:♦ 7:♣ 8:♠ 8:♥ 8:♦ 8:♣ 9:♠ 9:♥ 9:♦ 9:♣ 10:♠ 10:♥ 10:♦ 10:♣ J:♠ J:♥ J:♦ J:♣ Q:♠ Q:♥ Q:♦ Q:♣ K:♠ K:♥ K:♦ K:♣ A:♠ A:♥ A:♦ A:♣ \n",
      "52\n"
     ]
    }
   ],
   "source": [
    "mydeck = Deck()\n",
    "print(mydeck)\n",
    "print(len(mydeck.cards))"
   ]
},
{
   "cell_type": "markdown",
   "metadata": {},
   "source": [
    "Observe que não há tratamento de erros nesta classe. O método `get_cards()` distribui cartas do baralho, removendo-as no processo. Eventualmente, vamos ficar sem cartas."
   ]
},
{
   "cell_type": "code",
   "execution_count": 165,
   "metadata": {},
   "outputs": [
    {
     "name": "stdout",
     "output_type": "stream",
     "text": [
      "2:♠\n",
      "2:♣\n",
      "3:♠\n",
      "6:♦\n",
      "8:♣\n"
     ]
    }
   ],
   "source": [
    "mydeck.shuffle()\n",
    "\n",
    "hand = mydeck.get_cards(5)\n",
    "for c in sorted(hand): print(c)"
   ]
},
{
   "cell_type": "markdown",
   "metadata": {},
   "source": [
    "## Operadores"
   ]
},
{
   "cell_type": "markdown",
   "metadata": {},
   "source": [
    "Podemos definir operações como `+` e `-` que funcionam em nossos objetos. Aqui está um exemplo simples de moeda—mantemos o controle do valor e do país."
   ]
},
{
   "cell_type": "code",
   "execution_count": 167,
   "metadata": {},
   "outputs": [],
   "source": [
    "class Currency:\n",
    "    \"\"\" uma classe simples para armazenar moeda estrangeira \"\"\"\n",
    "    \n",
    "    def __init__(self, amount, country=\"EUR\"):\n",
    "        self.amount = amount\n",
    "        self.country = country\n",
    "        \n",
    "    def __add__(self, other):\n",
    "        if self.country != other.country:\n",
    "            return None\n",
    "        return Currency(self.amount + other.amount, country=self.country)\n",
    "\n",
    "    def __sub__(self, other):\n",
    "        return Currency(self.amount - other.amount, country=self.country)\n",
    "\n",
    "    def __str__(self):\n",
    "        return f\"{self.amount} {self.country}\""
   ]
},
{
   "cell_type": "markdown",
   "metadata": {},
   "source": [
    "Agora podemos criar alguns valores monetários para diferentes países"
   ]
},
{
   "cell_type": "code",
   "execution_count": 168,
   "metadata": {},
   "outputs": [
    {
     "name": "stdout",
     "output_type": "stream",
     "text": [
      "5 US\n"
     ]
    }
   ],
   "source": [
    "d1 = Currency(10, \"US\")\n",
    "d2 = Currency(15, \"US\")\n",
    "print(d2 - d1)"
   ]
},
{
   "cell_type": "code",
   "execution_count": 169,
   "metadata": {},
   "outputs": [
    {
     "name": "stdout",
     "output_type": "stream",
     "text": [
      "5 US\n"
     ]
    }
   ],
   "source": [
    "d1 = Currency(10, \"EUR\")\n",
    "d2 = Currency(15, \"US\")\n",
    "print(d2 - d1)"
   ]
},
{
   "cell_type": "markdown",
   "metadata": {},
   "source": [
    "<div class=\"alert alert-block alert-warning\">\n",
    "    \n",
    "<span class=\"fa fa-flash\"></span> Exercício rápido:\n",
    "    \n",
    "\n",
    "Como está, a nossa classe Currency tem um erro—ela não verifica se os valores estão no mesmo país antes de somar. Modifique o método `__add__` para primeiro verificar se os países são os mesmos. Se forem, retorne o novo objeto `Currency` com a soma, caso contrário, retorne `None`.\n",
    "\n",
    "</div>"
   ]
},
{
   "cell_type": "code",
   "execution_count": null,
   "metadata": {
    "tags": []
   },
   "outputs": [],
   "source": []
},
{
   "cell_type": "markdown",
   "metadata": {},
   "source": [
    "## Exemplo de Vetores\n",
    "\n",
    "Aqui, escrevemos uma classe para representar vetores 2D. Vetores têm uma direção e uma magnitude. Podemos representá-los como um par de números, representando os comprimentos `x` e `y`. Vamos usar uma tupla internamente para isso.\n",
    "\n",
    "Queremos que nossa classe realize todas as operações básicas que fazemos com vetores: somar, multiplicar por um escalar, produto vetorial, produto escalar, retornar a magnitude, etc.\n",
    "\n",
    "Usaremos o módulo `math` para fornecer algumas funções básicas que podemos precisar (como `sqrt`).\n",
    "\n",
    "Este exemplo nos mostrará como sobrecarregar as operações padrão no Python. Aqui está uma lista dos métodos internos:\n",
    "https://docs.python.org/3/reference/datamodel.html\n",
    "\n",
    "Para deixar bem claro o que está sendo chamado, adicionei `prints` em cada uma das funções."
   ]
},
{
   "cell_type": "code",
   "execution_count": 111,
   "metadata": {},
   "outputs": [],
   "source": [
    "import math"
   ]
},
{
   "cell_type": "code",
   "execution_count": 112,
   "metadata": {
    "tags": []
   },
   "outputs": [],
   "source": [
    "class Vector:\n",
    "    \"\"\" Um vetor geral de duas dimensões \"\"\"\n",
    "    \n",
    "    def __init__(self, x, y):\n",
    "        print(\"em __init__\")\n",
    "        self.x = x\n",
    "        self.y = y\n",
    "        \n",
    "    def __str__(self):\n",
    "        print(\"em __str__\")        \n",
    "        return f\"({self.x} î + {self.y} ĵ)\"\n",
    "    \n",
    "    def __repr__(self):\n",
    "        print(\"em __repr__\")        \n",
    "        return f\"Vector({self.x}, {self.y})\"\n",
    "\n",
    "    def __add__(self, other):\n",
    "        print(\"em __add__\")        \n",
    "        if isinstance(other, Vector):\n",
    "            return Vector(self.x + other.x, self.y + other.y)\n",
    "        else:\n",
    "            # não faz sentido somar algo que não seja dois vetores\n",
    "            print(f\"não sabemos como somar um {type(other)} com um Vetor\")\n",
    "            raise NotImplementedError\n",
    "\n",
    "    def __sub__(self, other):\n",
    "        print(\"em __sub__\")        \n",
    "        if isinstance(other, Vector):\n",
    "            return Vector(self.x - other.x, self.y - other.y)\n",
    "        else:\n",
    "            # não faz sentido somar algo que não seja dois vetores\n",
    "            print(f\"não sabemos como somar um {type(other)} com um Vetor\")\n",
    "            raise NotImplementedError\n",
    "\n",
    "    def __mul__(self, other):\n",
    "        print(\"em __mul__\")        \n",
    "        if isinstance(other, int) or isinstance(other, float):\n",
    "            # multiplicação escalar altera a magnitude\n",
    "            return Vector(other*self.x, other*self.y)\n",
    "        else:\n",
    "            print(\"não sabemos como multiplicar dois Vetores\")\n",
    "            raise NotImplementedError\n",
    "\n",
    "    def __matmul__(self, other):\n",
    "        print(\"em __matmul__\")\n",
    "        # produto escalar\n",
    "        if isinstance(other, Vector):\n",
    "            return self.x*other.x + self.y*other.y\n",
    "        else:\n",
    "            print(\"multiplicação de matrizes não definida\")\n",
    "            raise NotImplementedError\n",
    "\n",
    "    def __rmul__(self, other):\n",
    "        print(\"em __rmul__\")        \n",
    "        return self.__mul__(other)\n",
    "\n",
    "    def __truediv__(self, other):\n",
    "        print(\"em __truediv__\")        \n",
    "        # só sabemos como multiplicar por um escalar\n",
    "        if isinstance(other, int) or isinstance(other, float):\n",
    "            return Vector(self.x/other, self.y/other)\n",
    "\n",
    "    def __abs__(self):\n",
    "        print(\"em __abs__\")        \n",
    "        return math.sqrt(self.x**2 + self.y**2)\n",
    "\n",
    "    def __neg__(self):\n",
    "        print(\"em __neg__\")        \n",
    "        return Vector(-self.x, -self.y)\n",
    "\n",
    "    def cross(self, other):\n",
    "        # produto vetorial - retornamos a magnitude, pois estará\n",
    "        # na direção z, mas estamos apenas em 2D \n",
    "        return abs(self.x*other.y - self.y*other.x)"
   ]
},
{
   "cell_type": "markdown",
   "metadata": {},
   "source": [
    "Esta é uma classe básica que fornece dois métodos `__str__` e `__repr__` para mostrar uma representação dela. Essas duas funções fornecem uma versão legível do nosso objeto.\n",
    "\n",
    "A convenção é que o `__str__` seja legível para humanos, enquanto `__repr__` deve ser uma forma que possa ser usada para recriar o objeto (por exemplo, via `eval()`). Veja:\n",
    "\n",
    "http://stackoverflow.com/questions/1436703/difference-between-str-and-repr-in-python"
   ]
},
{
   "cell_type": "code",
   "execution_count": 113,
   "metadata": {},
   "outputs": [
    {
     "name": "stdout",
     "output_type": "stream",
     "text": [
      "em __init__\n",
      "em __repr__\n"
     ]
    },
    {
     "data": {
      "text/plain": [
       "Vector(1, 2)"
      ]
     },
     "execution_count": 113,
     "metadata": {},
     "output_type": "execute_result"
    }
   ],
   "source": [
    "v = Vector(1,2)\n",
    "v"
   ]
},
{
   "cell_type": "code",
   "execution_count": 114,
   "metadata": {},
   "outputs": [
    {
     "name": "stdout",
     "output_type": "stream",
     "text": [
      "em __str__\n",
      "(1 î + 2 ĵ)\n"
     ]
    }
   ],
   "source": [
    "print(v)"
   ]
},
{
   "cell_type": "markdown",
   "metadata": {},
   "source": [
    "Vetores têm um comprimento, e usaremos o método `abs()` para fornecer a magnitude. Para um vetor:\n",
    "\n",
    "$$\\vec{v} = \\alpha \\hat{i} + \\beta \\hat{j}$$\n",
    "\n",
    "temos\n",
    "\n",
    "$$|\\vec{v}| = \\sqrt{\\alpha^2 + \\beta^2}$$"
   ]
},
{
   "cell_type": "code",
   "execution_count": 115,
   "metadata": {},
   "outputs": [
    {
     "name": "stdout",
     "output_type": "stream",
     "text": [
      "em __abs__\n"
     ]
    },
    {
     "data": {
      "text/plain": [
       "2.23606797749979"
      ]
     },
     "execution_count": 115,
     "metadata": {},
     "output_type": "execute_result"
    }
   ],
   "source": [
    "abs(v)"
   ]
},
{
   "cell_type": "markdown",
   "metadata": {},
   "source": [
    "Agora vamos ver operações matemáticas com vetores. Queremos ser capazes de somar e subtrair dois vetores, bem como multiplicar e dividir por um escalar."
   ]
},
{
   "cell_type": "code",
   "execution_count": 116,
   "metadata": {},
   "outputs": [
    {
     "name": "stdout",
     "output_type": "stream",
     "text": [
      "em __init__\n"
     ]
    }
   ],
   "source": [
    "u = Vector(3,5)"
   ]
},
{
   "cell_type": "code",
   "execution_count": 117,
   "metadata": {},
   "outputs": [
    {
     "name": "stdout",
     "output_type": "stream",
     "text": [
      "em __add__\n",
      "em __init__\n",
      "em __str__\n",
      "(4 î + 7 ĵ)\n"
     ]
    }
   ],
   "source": [
    "w = u + v\n",
    "print(w)"
   ]
},
{
   "cell_type": "code",
   "execution_count": 118,
   "metadata": {},
   "outputs": [
    {
     "name": "stdout",
     "output_type": "stream",
     "text": [
      "em __sub__\n",
      "em __init__\n",
      "em __repr__\n"
     ]
    },
    {
     "data": {
      "text/plain": [
       "Vector(2, 3)"
      ]
     },
     "execution_count": 118,
     "metadata": {},
     "output_type": "execute_result"
    }
   ],
   "source": [
    "u - v"
   ]
},
{
   "cell_type": "markdown",
   "metadata": {},
   "source": [
    "Não faz sentido somar um escalar a um vetor, então não implementamos isso — o que acontece?"
   ]
},
{
   "cell_type": "code",
   "execution_count": 120,
   "metadata": {},
   "outputs": [
    {
     "name": "stdout",
     "output_type": "stream",
     "text": [
      "em __add__\n",
      "não sabemos como somar um <class 'float'> a um Vetor\n"
     ]
    },
    {
     "ename": "NotImplementedError",
     "evalue": "",
     "output_type": "error",
     "traceback": [
      "\u001b[0;31m---------------------------------------------------------------------------\u001b[0m",
      "\u001b[0;31mNotImplementedError\u001b[0m                       Traceback (most recent call last)",
      "Cell \u001b[0;32mIn[120], line 1\u001b[0m\n\u001b[0;32m----> 1\u001b[0m \u001b[43mu\u001b[49m\u001b[43m + \u001b[49m\u001b[38;5;241;43m2.0\u001b[39;49m\n",
      "Cell \u001b[0;32mIn[112], line 24\u001b[0m, in \u001b[0;36mVector.__add__\u001b[0m(self, other)\n\u001b[1;32m     21\u001b[0m \u001b[38;5;28;01melse\u001b[39;00m:\n\u001b[1;32m     22\u001b[0m     \u001b[38;5;66;03m# it doesn't make sense to add anything but two vectors\u001b[39;00m\n\u001b[1;32m     23\u001b[0m     \u001b[38;5;28mprint\u001b[39m(\u001b[38;5;124mf\u001b[39m\u001b[38;5;124m\"\u001b[39m\u001b[38;5;124mwe don\u001b[39m\u001b[38;5;124mt know how to add a \u001b[39m\u001b[38;5;132;01m{\u001b[39;00m\u001b[38;5;28mtype\u001b[39m(other)\u001b[38;5;132;01m}\u001b[39;00m\u001b[38;5;124m to a Vector\u001b[39m\u001b[38;5;124m\"\u001b[39m)\n\u001b[0;32m---> 24\u001b[0m     \u001b[38;5;28;01mraise\u001b[39;00m \u001b[38;5;167;01mNotImplementedError\u001b[39;00m\n",
      "\u001b[0;31mNotImplementedError\u001b[0m: "
     ]
    }
   ],
   "source": [
    "u + 2.0"
   ]
},
{
   "cell_type": "markdown",
   "metadata": {},
   "source": [
    "Agora multiplicação. Faz sentido multiplicar por um escalar, mas existem várias formas de definir a multiplicação de dois vetores. \n",
    "\n",
    "Observe que o Python fornece tanto a função `__mul__` quanto a `__rmul__` para definir o que acontece quando multiplicamos um vetor por um valor e o que acontece quando multiplicamos algo por um vetor."
   ]
},
{
   "cell_type": "code",
   "execution_count": 121,
   "metadata": {},
   "outputs": [
    {
     "name": "stdout",
     "output_type": "stream",
     "text": [
      "em __mul__\n",
      "em __init__\n",
      "em __repr__\n"
     ]
    },
    {
     "data": {
      "text/plain": [
       "Vector(6.0, 10.0)"
      ]
     },
     "execution_count": 121,
     "metadata": {},
     "output_type": "execute_result"
    }
   ],
   "source": [
    "u*2.0"
   ]
},
{
   "cell_type": "code",
   "execution_count": 122,
   "metadata": {},
   "outputs": [
    {
     "name": "stdout",
     "output_type": "stream",
     "text": [
      "em __rmul__\n",
      "em __mul__\n",
      "em __init__\n",
      "em __repr__\n"
     ]
    },
    {
     "data": {
      "text/plain": [
       "Vector(6.0, 10.0)"
      ]
     },
     "execution_count": 122,
     "metadata": {},
     "output_type": "execute_result"
    }
   ],
   "source": [
    "2.0*u"
   ]
},
{
   "cell_type": "markdown",
   "metadata": {},
   "source": [
    "e divisão: `__truediv__` é o modo python 3 de divisão `/`, enquanto `__floordiv__` é o modo antigo do python 2, também ativado via `//`.\n",
    "\n",
    "Dividir um escalar por um vetor não faz sentido:"
   ]
},
{
   "cell_type": "code",
   "execution_count": 123,
   "metadata": {},
   "outputs": [
    {
     "name": "stdout",
     "output_type": "stream",
     "text": [
      "em __truediv__\n",
      "em __init__\n",
      "em __repr__\n"
     ]
    },
    {
     "data": {
      "text/plain": [
       "Vector(0.6, 1.0)"
      ]
     },
     "execution_count": 123,
     "metadata": {},
     "output_type": "execute_result"
    }
   ],
   "source": [
    "u/5.0"
   ]
},
{
   "cell_type": "code",
   "execution_count": 124,
   "metadata": {},
   "outputs": [
    {
     "ename": "TypeError",
     "evalue": "unsupported operand type(s) for /: 'float' and 'Vector'",
     "output_type": "error",
     "traceback": [
      "\u001b[0;31m---------------------------------------------------------------------------\u001b[0m",
      "\u001b[0;31mTypeError\u001b[0m                                 Traceback (most recent call last)",
      "Cell \u001b[0;32mIn[124], line 1\u001b[0m\n\u001b[0;32m----> 1\u001b[0m \u001b[38;5;241;43m5.0\u001b[39;49m\u001b[38;5;241;43m/\u001b[39;49m\u001b[43mu\u001b[49m\n",
      "\u001b[0;31mTypeError\u001b[0m: unsupported operand type(s) for /: 'float' and 'Vector'"
     ]
    }
   ],
   "source": [
    "5.0/u"
   ]
},
{
   "cell_type": "markdown",
   "metadata": {},
   "source": [
    "O Python 3.5 introduziu um novo operador de multiplicação de matrizes, `@` -- usaremos isso para implementar o produto escalar entre dois vetores:"
   ]
},
{
   "cell_type": "code",
   "execution_count": 125,
   "metadata": {},
   "outputs": [
    {
     "name": "stdout",
     "output_type": "stream",
     "text": [
      "em __matmul__\n"
     ]
    },
    {
     "data": {
      "text/plain": [
       "13"
      ]
     },
     "execution_count": 125,
     "metadata": {},
     "output_type": "execute_result"
    }
   ],
   "source": [
    "u @ v"
   ]
},
{
   "cell_type": "markdown",
   "metadata": {},
   "source": [
    "Para o produto vetorial, não temos um operador óbvio, então usaremos uma função. Para vetores 2D, isso resultará em um escalar."
   ]
},
{
   "cell_type": "code",
   "execution_count": 126,
   "metadata": {},
   "outputs": [
    {
     "data": {
      "text/plain": [
       "1"
      ]
     },
     "execution_count": 126,
     "metadata": {},
     "output_type": "execute_result"
    }
   ],
   "source": [
    "u.cross(v)"
   ]
},
{
   "cell_type": "markdown",
   "metadata": {},
   "source": [
    "Por fim, a negação é uma operação separada:"
   ]
},
{
   "cell_type": "code",
   "execution_count": 127,
   "metadata": {},
   "outputs": [
    {
     "name": "stdout",
     "output_type": "stream",
     "text": [
      "em __neg__\n",
      "em __init__\n",
      "em __repr__\n"
     ]
    },
    {
     "data": {
      "text/plain": [
       "Vector(-3, -5)"
      ]
     },
     "execution_count": 127,
     "metadata": {},
     "output_type": "execute_result"
    }
   ],
   "source": [
    "-u"
   ]
},
{
   "cell_type": "code",
   "execution_count": null,
   "metadata": {
    "tags": []
   },
   "outputs": [],
   "source": []
},
{
   "cell_type": "markdown",
   "metadata": {},
   "source": [
    "# Módulos"
   ]
},
{
   "cell_type": "markdown",
   "metadata": {},
   "source": [
    "Aqui importamos nosso próprio módulo chamado `myprofile` (ele está no mesmo diretório que este notebook)"
   ]
},
{
   "cell_type": "code",
   "execution_count": 174,
   "metadata": {},
   "outputs": [],
   "source": [
    "import myprofile"
   ]
},
{
   "cell_type": "markdown",
   "metadata": {},
   "source": [
    "Temos uma string de documentação no topo -- os comentários lá são o que aparece quando pedimos ajuda"
   ]
},
{
   "cell_type": "code",
   "execution_count": 172,
   "metadata": {},
   "outputs": [
    {
     "name": "stdout",
     "output_type": "stream",
     "text": [
      "Help on module myprofile:\n",
      "\n",
      "NOME\n",
      "    myprofile\n",
      "\n",
      "DESCRIÇÃO\n",
      "    Uma classe de profiling muito simples. Define alguns timers e métodos\n",
      "    para iniciar e parar os timers. O empilhamento de timers é rastreado para que possamos\n",
      "    imprimir as informações de profiling de forma bonita.\n",
      "    \n",
      "    # define um objeto timer, rotulado como 'meu timer'\n",
      "    a = timer('meu timer')\n",
      "    \n",
      "    Isso adicionará 'meu timer' à lista de chaves no dicionário 'meu timer'\n",
      "    Chamadas subsequentes ao construtor da classe timer não terão efeito.\n",
      "    \n",
      "    # inicie a contagem do tempo para o bloco de código 'meu timer'\n",
      "    a.begin()\n",
      "    \n",
      "    ... faça algo aqui ...\n",
      "    \n",
      "    # finalize o tempo para o bloco de código 'meu timer'\n",
      "    a.end()\n",
      "    \n",
      "    Para os melhores resultados, o bloco de código cronometrado deve ser grande\n",
      "    o suficiente para compensar a sobrecarga das chamadas de método da classe timer.\n",
      "    \n",
      "    Vários timers podem ser instanciados e aninhados. O parâmetro global stackCount\n",
      "    mantém a contagem do nível de aninhamento, e a estrutura de dados\n",
      "    timerNesting armazena o nível de aninhamento para cada timer definido.\n",
      "    \n",
      "    A função timeReport() é chamada no final para imprimir um resumo do\n",
      "    tempo registrado.\n",
      "    \n",
      "    No momento, não há verificação para garantir o aninhamento correto.\n",
      "\n",
      "CLASSES\n",
      "    builtins.object\n",
      "        Timer\n",
      "    \n",
      "    class Timer(builtins.object)\n",
      "     |  Timer(name)\n",
      "     |  \n",
      "     |  Métodos definidos aqui:\n",
      "     |  \n",
      "     |  __init__(self, name)\n",
      "     |      Inicializa o timer. Veja help(type(self)) para assinatura precisa.\n",
      "     |  \n",
      "     |  begin(self)\n",
      "     |  \n",
      "     |  end(self)\n",
      "     |  \n",
      "     |  ----------------------------------------------------------------------\n",
      "     |  Descritores de dados definidos aqui:\n",
      "     |  \n",
      "     |  __dict__\n",
      "     |      dicionário para variáveis de instância (se definidas)\n",
      "     |  \n",
      "     |  __weakref__\n",
      "     |      lista de referências fracas para o objeto (se definido)\n",
      "\n",
      "FUNÇÕES\n",
      "    time_report()\n",
      "\n",
      "DADOS\n",
      "    stack_count = 0\n",
      "    timer_nesting = {}\n",
      "    timer_order = []\n",
      "    timers = {}\n",
      "\n",
      "ARQUIVO\n",
      "    /Users/dgerosa/Documents/reps/scientificcomputing_bicocca_2024/lectures/myprofile.py\n",
      "\n",
      "\n"
     ]
    }
   ],
   "source": [
    "help(myprofile)"
   ]
},
{
   "cell_type": "markdown",
   "metadata": {},
   "source": [
    "Este módulo simplesmente fornece uma maneira de medir o tempo de rotinas (python e ipython também têm métodos internos para isso)"
   ]
},
{
   "cell_type": "code",
   "execution_count": 173,
   "metadata": {},
   "outputs": [
    {
     "name": "stdout",
     "output_type": "stream",
     "text": [
      "loop principal:  0.0007250308990478516\n",
      "332833500.0\n"
     ]
    }
   ],
   "source": [
    "t = myprofile.Timer(\"loop principal\")\n",
    "t.begin()\n",
    "\n",
    "soma = 0.0\n",
    "for n in range(1000):\n",
    "    soma += n**2\n",
    "\n",
    "\n",
    "t.end()\n",
    "myprofile.time_report()\n",
    "\n",
    "print(soma)"
   ]
},
{
   "cell_type": "markdown",
   "metadata": {},
   "source": [
    "No arquivo `myprofile.py`, você verá um bloco de código sob\n",
    "\n",
    "```\n",
    "if __name__ == \"__main__\":\n",
    "```\n",
    "\n",
    "Esse código é executado se o arquivo for rodado diretamente, seja pela linha de comando como:\n",
    "\n",
    "`python myprofile.py`\n",
    "\n",
    "ou através da mágica `%run` no Jupyter: ``%run myprofile``"
   ]
},
{
   "cell_type": "markdown",
   "metadata": {},
   "source": [
    "# Exceções"
   ]
},
{
   "cell_type": "markdown",
   "metadata": {},
   "source": [
    "O Python levanta exceções quando encontra um erro. A ideia é que você pode capturar essas exceções e tomar uma ação apropriada em vez de deixar o código falhar. O mecanismo para isso é `try` / `except`. Aqui está um exemplo que causa uma exceção, `ZeroDivisionError`:"
   ]
},
{
   "cell_type": "code",
   "execution_count": 175,
   "metadata": {},
   "outputs": [
    {
     "ename": "ZeroDivisionError",
     "evalue": "divisão por zero",
     "output_type": "error",
     "traceback": [
      "\u001b[0;31m---------------------------------------------------------------------------\u001b[0m",
      "\u001b[0;31mZeroDivisionError\u001b[0m                         Traceback (most recent call last)",
      "Cell \u001b[0;32mIn[175], line 1\u001b[0m\n\u001b[0;32m----> 1\u001b[0m a \u001b[38;5;241m=\u001b[39m \u001b[38;5;241;43m1\u001b[39;49m\u001b[38;5;241;43m/\u001b[39;49m\u001b[38;5;241;43m0\u001b[39;49m\n",
      "\u001b[0;31mZeroDivisionError\u001b[0m: divisão por zero"
     ]
    }
   ],
   "source": [
    "a = 1/0"
   ]
},
{
   "cell_type": "markdown",
   "metadata": {},
   "source": [
    "e aqui lidamos com isso"
   ]
},
{
   "cell_type": "code",
   "execution_count": 176,
   "metadata": {
    "scrolled": true
   },
   "outputs": [
    {
     "name": "stdout",
     "output_type": "stream",
     "text": [
      "aviso: você dividiu por zero\n"
     ]
    },
    {
     "data": {
      "text/plain": [
       "1"
      ]
     },
     "execution_count": 176,
     "metadata": {},
     "output_type": "execute_result"
    }
   ],
   "source": [
    "try:\n",
    "    a = 1/0\n",
    "except ZeroDivisionError:\n",
    "    print(\"aviso: você dividiu por zero\")\n",
    "    a = 1\n",
    "\n",
    "a"
   ]
},
{
   "cell_type": "code",
   "execution_count": 177,
   "metadata": {},
   "outputs": [],
   "source": [
    "def rec(a):\n",
    "    try:\n",
    "        b=1/a\n",
    "    except ZeroDivisionError:\n",
    "        print(\"aviso: você dividiu por zero\")\n",
    "        b=None\n",
    "    return b"
   ]
},
{
   "cell_type": "code",
   "execution_count": 178,
   "metadata": {},
   "outputs": [
    {
     "name": "stdout",
     "output_type": "stream",
     "text": [
      "aviso: você dividiu por zero\n",
      "None\n"
     ]
    }
   ],
   "source": [
    "print(rec(0))"
   ]
},
{
   "cell_type": "markdown",
   "metadata": {},
   "source": [
    "Outro exemplo — tentando acessar uma chave que não existe em um dicionário:"
   ]
},
{
   "cell_type": "code",
   "execution_count": 179,
   "metadata": {},
   "outputs": [
    {
     "ename": "KeyError",
     "evalue": "'d'",
     "output_type": "error",
     "traceback": [
      "\u001b[0;31m---------------------------------------------------------------------------\u001b[0m",
      "\u001b[0;31mKeyError\u001b[0m                                  Traceback (most recent call last)",
      "Cell \u001b[0;32mIn[179], line 2\u001b[0m\n\u001b[1;32m      1\u001b[0m \u001b[38;5;28mdict\u001b[39m \u001b[38;5;241m=\u001b[39m {\u001b[38;5;124m\"\u001b[39m\u001b[38;5;124ma\u001b[39m\u001b[38;5;124m\"\u001b[39m:\u001b[38;5;241m1\u001b[39m, \u001b[38;5;124m\"\u001b[39m\u001b[38;5;124mb\u001b[39m\u001b[38;5;124m\"\u001b[39m:\u001b[38;5;241m2\u001b[39m, \u001b[38;5;124m\"\u001b[39m\u001b[38;5;124mc\u001b[39m\u001b[38;5;124m\"\u001b[39m:\u001b[38;5;241m3\u001b[39m}\n\u001b[0;32m----> 2\u001b[0m \u001b[38;5;28mprint\u001b[39m(\u001b[38;5;28;43mdict\u001b[39;49m\u001b[43m[\u001b[49m\u001b[38;5;124;43m\"\u001b[39;49m\u001b[38;5;124;43md\u001b[39;49m\u001b[38;5;124;43m\"\u001b[39;49m\u001b[43m]\u001b[49m)\n",
      "\u001b[0;31mKeyError\u001b[0m: 'd'"
     ]
    }
   ],
   "source": [
    "dict = {\"a\":1, \"b\":2, \"c\":3}\n",
    "print(dict[\"d\"])\n"
   ]
},
{
   "cell_type": "markdown",
   "metadata": {},
   "source": [
    "`KeyError` é a exceção que foi gerada. Podemos verificar isso e tomar a ação apropriada em vez disso"
   ]
},
{
   "cell_type": "code",
   "execution_count": 181,
   "metadata": {},
   "outputs": [
    {
     "name": "stdout",
     "output_type": "stream",
     "text": [
      "None\n"
     ]
    }
   ],
   "source": [
    "try:\n",
    "    val = dict[\"d\"]\n",
    "except KeyError:\n",
    "    val = None\n",
    "\n",
    "print(val)"
   ]
},
{
   "cell_type": "code",
   "execution_count": 185,
   "metadata": {},
   "outputs": [
    {
     "name": "stdout",
     "output_type": "stream",
     "text": [
      "1\n",
      "2\n",
      "3\n"
     ]
    },
    {
     "ename": "ZeroDivisionError",
     "evalue": "",
     "output_type": "error",
     "traceback": [
      "\u001b[0;31m---------------------------------------------------------------------------\u001b[0m",
      "\u001b[0;31mZeroDivisionError\u001b[0m                         Traceback (most recent call last)",
      "Cell \u001b[0;32mIn[185], line 6\u001b[0m\n\u001b[1;32m      4\u001b[0m \u001b[38;5;28mprint\u001b[39m(x)\n\u001b[1;32m      5\u001b[0m \u001b[38;5;28;01mif\u001b[39;00m x\u001b[38;5;241m==\u001b[39m\u001b[38;5;241m3\u001b[39m:\n\u001b[0;32m----> 6\u001b[0m     \u001b[38;5;28;01mraise\u001b[39;00m \u001b[38;5;167;01mZeroDivisionError\u001b[39;00m\n",
      "\u001b[0;31mZeroDivisionError\u001b[0m: "
     ]
    }
   ],
   "source": [
    "a=[1,2,3]\n",
    "\n",
    "for x in a:\n",
    "    print(x)\n",
    "    if x==3:\n",
    "        raise ZeroDivisionError"
   ]
},
{
   "cell_type": "markdown",
   "metadata": {},
   "source": [
    "Existem muitos tipos diferentes de exceções que você pode capturar, e você pode capturar múltiplos tipos por cláusula `except` ou ter múltiplas cláusulas `except`. Você provavelmente não será capaz de antecipar todos os modos de falha com antecedência. Nesse caso, quando você rodar o código e ele travar devido a uma exceção, o interpretador Python imprimirá o nome da exceção e então você poderá modificar o código para tomar a ação apropriada."
   ]
},
{
   "cell_type": "markdown",
   "metadata": {},
   "source": [
    "# Entrada/Saída de Arquivos"
   ]
},
{
   "cell_type": "markdown",
   "metadata": {},
   "source": [
    "Uma das principais coisas que queremos fazer em computação científica é obter dados para dentro e para fora dos nossos programas. Além de arquivos de texto simples, existem módulos que podem ler muitos formatos de dados diferentes que podemos encontrar."
   ]
},
{
   "cell_type": "markdown",
   "metadata": {},
   "source": [
    "Como esperado, um arquivo é um objeto. Aqui vamos usar o bloco `try`, `except` para capturar exceções (como quando o arquivo não pode ser aberto)."
   ]
},
{
   "cell_type": "code",
   "execution_count": 190,
   "metadata": {},
   "outputs": [
    {
     "name": "stdout",
     "output_type": "stream",
     "text": [
      "<_io.TextIOWrapper name='./mywrite.txt' mode='w' encoding='UTF-8'>\n"
     ]
    }
   ],
   "source": [
    "try: f = open(\"./mywrite.txt\", \"w\")   # abrir para escrita -- qualquer arquivo com o mesmo nome será sobrescrito\n",
    "except: \n",
    "    print(\"não foi possível abrir o arquivo\")\n",
    "\n",
    "print(f)\n"
   ]
},
{
   "cell_type": "code",
   "execution_count": 191,
   "metadata": {},
   "outputs": [],
   "source": [
    "f.write(\"este é o meu primeiro escrito\\n\")\n",
    "f.close()"
   ]
},
{
   "cell_type": "markdown",
   "metadata": {},
   "source": [
    "Podemos facilmente percorrer as linhas de um arquivo"
   ]
},
{
   "cell_type": "code",
   "execution_count": 193,
   "metadata": {},
   "outputs": [
    {
     "name": "stdout",
     "output_type": "stream",
     "text": [
      "['Lorem', 'ipsum', 'dolor', 'sit', 'amet,', 'consectetur', 'adipisicing', 'elit,', 'sed', 'do']\n",
      "['eiusmod', 'tempor', 'incididunt', 'ut', 'labore', 'et', 'dolore', 'magna', 'aliqua.', 'Ut', 'enim', 'ad']\n",
      "['minim', 'veniam,', 'quis', 'nostrud', 'exercitation', 'ullamco', 'laboris', 'nisi', 'ut']\n",
      "['aliquip', 'ex', 'ea', 'commodo', 'consequat.', 'Duis', 'aute', 'irure', 'dolor', 'in']\n",
      "['reprehenderit', 'in', 'voluptate', 'velit', 'esse', 'cillum', 'dolore', 'eu', 'fugiat', 'nulla']\n",
      "['pariatur.', 'Excepteur', 'sint', 'occaecat', 'cupidatat', 'non', 'proident,', 'sunt', 'in']\n",
      "['culpa', 'qui', 'officia', 'deserunt', 'mollit', 'anim', 'id', 'est', 'laborum.']\n",
      "[]\n"
     ]
    }
   ],
   "source": [
    "try: \n",
    "    f = open(\"./test.txt\", \"r\")\n",
    "except:\n",
    "    print(\"erro: não foi possível abrir o arquivo\")\n",
    "    \n",
    "for line in f:\n",
    "    print(line.split())\n",
    "    \n",
    "f.close()"
   ]
},
{
   "cell_type": "code",
   "execution_count": 194,
   "metadata": {},
   "outputs": [
    {
     "name": "stdout",
     "output_type": "stream",
     "text": [
      "erro: não foi possível abrir o arquivo\n"
     ]
    }
   ],
   "source": [
    "try: \n",
    "    f = open(\"./tessasssst.txt\", \"r\")\n",
    "except:\n",
    "    print(\"erro: não foi possível abrir o arquivo\")"
   ]
},
{
   "cell_type": "markdown",
   "metadata": {},
   "source": [
    "Na prática, nunca lemos arquivos explicitamente, mas usamos alguma biblioteca, como `numpy.genfromtxt`. Formatos de dados específicos frequentemente têm módulos dedicados, como `csv` para arquivos CSV e `configparser` para arquivos INI."
   ]
},
{
   "cell_type": "code",
   "execution_count": 199,
   "metadata": {},
   "outputs": [
    {
     "data": {
      "text/plain": [
       "[1, 4, 9]"
      ]
     },
     "execution_count": 199,
     "metadata": {},
     "output_type": "execute_result"
    }
   ],
   "source": [
    "f = lambda x:x*2\n",
    "\n",
    "a =[1,2,3]\n",
    "\n",
    "list(map(f,a))\n",
    "\n",
    "[x**2 for x in a]"
   ]
},
{
   "cell_type": "code",
   "execution_count": 205,
   "metadata": {},
   "outputs": [
    {
     "name": "stdout",
     "output_type": "stream",
     "text": [
      "[1, 2, 3]\n",
      "2\n",
      "3\n"
     ]
    }
   ],
   "source": [
    "print(a)\n",
    "\n",
    "for x in a:\n",
    "    if x==1:\n",
    "        continue\n",
    "    \n",
    "    print(x)\n",
    "    "
   ]
},
{
   "cell_type": "code",
   "execution_count": 206,
   "metadata": {},
   "outputs": [],
   "source": [
    "a=[1,2,3,4,5,5,5]"
   ]
},
{
   "cell_type": "code",
   "execution_count": 210,
   "metadata": {},
   "outputs": [
    {
     "name": "stdout",
     "output_type": "stream",
     "text": [
      "1\n",
      "2\n",
      "3\n",
      "4\n",
      "5\n",
      "5\n",
      "5\n",
      "\n",
      "1\n",
      "2\n",
      "3\n",
      "4\n",
      "5\n"
     ]
    }
   ],
   "source": [
    "for x in a:\n",
    "    print(x)\n",
    "print(\"\")\n",
    "for x in set(a):    \n",
    "    print(x)"
   ]
}
