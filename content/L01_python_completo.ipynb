{
 "cells": [
  {
   "cell_type": "markdown",
   "metadata": {},
   "source": [
    "# Jupyter"
   ]
  },
  {
   "cell_type": "markdown",
   "metadata": {},
   "source": [
    "Usaremos o Jupyter para todos os nossos exemplos -- isso nos permite rodar o Python em um notebook baseado na web, mantendo um histórico de entradas e saídas, juntamente com texto e imagens.\n",
    "\n",
    "Para ajuda com o Jupyter, visite: https://jupyter.readthedocs.io/en/latest/content-quickstart.html"
   ]
  },
  {
   "cell_type": "markdown",
   "metadata": {},
   "source": [
    "Nós interagimos com o Python digitando nas _células_ do notebook. Por padrão, uma célula é uma célula de _código_, o que significa que você pode inserir qualquer código Python válido nela e executá-lo. Outro tipo importante de célula é a célula de _markdown_. Isso permite que você coloque texto, com diferentes formatações (itálico, negrito, etc.), que descrevem o que o notebook está fazendo.\n",
    "\n",
    "Você pode alterar o tipo de célula através do menu na parte superior, ou usando os atalhos:\n",
    "\n",
    "  * ctrl-m m : célula de markdown\n",
    "  * ctrl-m y : célula de código\n"
   ]
  },
  {
   "cell_type": "markdown",
   "metadata": {},
   "source": [
    "Alguns atalhos úteis:\n",
    "\n",
    " * shift+enter = executar a célula e pular para a próxima (criando uma nova célula se não houver outra nova)\n",
    " * ctrl+enter = executar a célula no local\n",
    " * alt+enter = executar a célula e inserir uma nova abaixo\n",
    "\n",
    "ctrl+m h lista outros comandos"
   ]
  },
  {
   "cell_type": "markdown",
   "metadata": {},
   "source": [
    "Uma \"célula de markdown\" permite que você insira equações em LaTeX diretamente no seu notebook. Basta colocá-las em `$` ou `$$`:\n",
    "\n",
    "$$\\frac{\\partial \\rho}{\\partial t} + \\nabla \\cdot (\\rho U) = 0$$\n"
   ]
  },
  {
   "cell_type": "markdown",
   "metadata": {},
   "source": [
    "<div class=\"alert alert-block alert-danger\">\n",
    "    \n",
    "**Importante**: quando você trabalha em um notebook, tudo o que foi feito nas células anteriores ainda está na memória e é _conhecido_ pelo Python, então você pode se referir a funções e variáveis que foram definidas anteriormente. Mesmo que você vá para o topo do notebook e insira uma célula, toda a informação feita anteriormente na sessão do notebook ainda está definida -- não importa onde fisicamente você esteja no notebook. Se você quiser resetar as coisas, pode usar as opções no menu _Kernel_.\n",
    "</div>"
   ]
  },
  {
   "cell_type": "markdown",
   "metadata": {},
   "source": [
    "<div class=\"alert alert-block alert-warning\">\n",
    "    \n",
    "<span class=\"fa fa-flash\"></span> Exercício Rápido:\n",
    "\n",
    "Crie uma nova célula abaixo desta. Certifique-se de que seja uma célula _de código_ e insira o seguinte código e execute-o:\n",
    "\n",
    "    \n",
    "```\n",
    "\n",
    " print(\"Hello, World\")\n",
    " \n",
    "```\n",
    "</div>"
   ]
  },
  {
   "cell_type": "markdown",
   "metadata": {},
   "source": [
    "`print()` é uma _função_ em Python que recebe argumentos (dentro dos `()`) e exibe a saída na tela. Você pode imprimir várias quantidades de uma vez, como:"
   ]
  },
  {
   "cell_type": "code",
   "execution_count": 3,
   "metadata": {},
   "outputs": [
    {
     "name": "stdout",
     "output_type": "stream",
     "text": [
      "1 2 3\n"
     ]
    }
   ],
   "source": [
    "print(1, 2, 3)"
   ]
  },
  {
   "cell_type": "code",
   "execution_count": 4,
   "metadata": {},
   "outputs": [
    {
     "data": {
      "text/plain": [
       "1"
      ]
     },
     "execution_count": 4,
     "metadata": {},
     "output_type": "execute_result"
    }
   ],
   "source": [
    "1"
   ]
  },
  {
   "cell_type": "markdown",
   "metadata": {},
   "source": [
    "Observe que o comportamento padrão no Jupyter é imprimir o valor de retorno da última instrução em uma célula, então não precisamos usar o `print` se quisermos apenas o valor de algo como:"
   ]
  },
  {
   "cell_type": "code",
   "execution_count": 5,
   "metadata": {
    "tags": []
   },
   "outputs": [
    {
     "data": {
      "text/plain": [
       "10"
      ]
     },
     "execution_count": 5,
     "metadata": {},
     "output_type": "execute_result"
    }
   ],
   "source": [
    "a = 10\n",
    "a"
   ]
  },
  {
   "cell_type": "markdown",
   "metadata": {},
   "source": [
    "# Tipos Básicos de Variáveis\n",
    "\n",
    "Python é uma linguagem de tipagem dinâmica - isso significa que você não\n",
    "precisa especificar com antecedência que tipo de dado você vai armazenar\n",
    "em uma variável.  No entanto, existem alguns tipos de dados principais\n",
    "com os quais precisamos nos familiarizar ao usar a linguagem.\n",
    "\n",
    "O primeiro conjunto de tipos de dados é semelhante àqueles encontrados em outras\n",
    "linguagens (como C/C++ e Fortran): números de ponto flutuante, inteiros\n",
    "e strings."
   ]
  },
  {
   "cell_type": "markdown",
   "metadata": {},
   "source": [
    "O próximo conjunto de tipos de dados são containers.  Em Python, ao contrário de algumas\n",
    "linguagens, estes são integrados à linguagem e tornam muito fácil realizar\n",
    "operações complexas.  Vamos ver isso mais adiante.\n",
    "\n",
    "Alguns exemplos vêm do tutorial oficial do Python:\n",
    "http://docs.python.org/3/tutorial/"
   ]
  },
  {
   "cell_type": "markdown",
   "metadata": {},
   "source": [
    "## Números Inteiros"
   ]
  },
  {
   "cell_type": "markdown",
   "metadata": {},
   "source": [
    "Números inteiros são números sem um ponto decimal. Eles podem ser positivos ou negativos. A maioria das linguagens de programação usa uma quantidade finita de memória para armazenar um único inteiro, mas em Python, a quantidade de memória será expandida conforme necessário para armazenar inteiros grandes.\n",
    "\n",
    "Os operadores básicos, `+`, `-`, `*` e `/` funcionam com inteiros."
   ]
  },
  {
   "cell_type": "code",
   "execution_count": null,
   "metadata": {},
   "outputs": [
    {
     "data": {
      "text/plain": [
       "7"
      ]
     },
     "metadata": {},
     "output_type": "display_data"
    }
   ],
   "source": [
    "2+2+3"
   ]
  },
  {
   "cell_type": "code",
   "execution_count": null,
   "metadata": {},
   "outputs": [
    {
     "data": {
      "text/plain": [
       "-8"
      ]
     },
     "metadata": {},
     "output_type": "display_data"
    }
   ],
   "source": [
    "2*-4"
   ]
  },
  {
   "cell_type": "markdown",
   "metadata": {},
   "source": [
    "```{note}\n",
    "A divisão inteira é um ponto onde o Python 2 e o Python 3 são diferentes\n",
    "\n",
    "No Python 3.x, dividir 2 inteiros resulta em um número de ponto flutuante.  No Python 2.x, dividir 2 inteiros resulta em um número inteiro.  O último é consistente com muitas linguagens de programação fortemente tipadas (como Fortran ou C), já que o tipo de dado do resultado é o mesmo das entradas, mas o primeiro está mais alinhado com as nossas expectativas.\n",
    "```"
   ]
  },
  {
   "cell_type": "code",
   "execution_count": null,
   "metadata": {},
   "outputs": [
    {
     "data": {
      "text/plain": [
       "1.5"
      ]
     },
     "metadata": {},
     "output_type": "display_data"
    }
   ],
   "source": [
    "3/2"
   ]
  },
  {
   "cell_type": "markdown",
   "metadata": {},
   "source": [
    "Para obter um resultado inteiro, usamos o operador //"
   ]
  },
  {
   "cell_type": "code",
   "execution_count": null,
   "metadata": {},
   "outputs": [
    {
     "data": {
      "text/plain": [
       "1"
      ]
     },
     "metadata": {},
     "output_type": "display_data"
    }
   ],
   "source": [
    "3//2"
   ]
  },
  {
   "cell_type": "markdown",
   "metadata": {},
   "source": [
    "Python é uma _linguagem de tipagem dinâmica_—isso significa que não precisamos declarar o tipo de dado de uma variável antes de inicializá-la.  \n",
    "\n",
    "Aqui vamos criar uma variável (pense nela como um rótulo descritivo que pode se referir a algum dado). O operador `=` atribui um valor à variável."
   ]
  },
  {
   "cell_type": "code",
   "execution_count": null,
   "metadata": {},
   "outputs": [],
   "source": [
    "a = 1.5\n",
    "b = 3"
   ]
  },
  {
   "cell_type": "markdown",
   "metadata": {},
   "source": [
    "Funções operam sobre variáveis e retornam um resultado. Aqui, `print()` irá exibir a saída na tela."
   ]
  },
  {
   "cell_type": "code",
   "execution_count": null,
   "metadata": {},
   "outputs": [
    {
     "data": {
      "text/plain": [
       "4.5"
      ]
     },
     "metadata": {},
     "output_type": "display_data"
    }
   ],
   "source": [
    "a + b"
   ]
  },
  {
   "cell_type": "code",
   "execution_count": null,
   "metadata": {},
   "outputs": [
    {
     "data": {
      "text/plain": [
       "4.5"
      ]
     },
     "metadata": {},
     "output_type": "display_data"
    }
   ],
   "source": [
    "a * b"
   ]
  },
  {
   "cell_type": "markdown",
   "metadata": {},
   "source": [
    "Observe que os nomes de variáveis diferenciam maiúsculas de minúsculas, então `a` e `A` são diferentes."
   ]
  },
  {
   "cell_type": "code",
   "execution_count": null,
   "metadata": {},
   "outputs": [],
   "source": [
    "A = 2025"
   ]
  },
  {
   "cell_type": "code",
   "execution_count": null,
   "metadata": {},
   "outputs": [
    {
     "name": "stdout",
     "output_type": "stream",
     "text": [
      "1.5 2025\n"
     ]
    }
   ],
   "source": [
    "print(a, A)"
   ]
  },
  {
   "cell_type": "markdown",
   "metadata": {},
   "source": [
    "Aqui inicializamos 3 variáveis, todas com o valor `0`, mas essas ainda são variáveis distintas, então podemos mudar uma sem afetar as outras."
   ]
  },
  {
   "cell_type": "code",
   "execution_count": null,
   "metadata": {},
   "outputs": [],
   "source": [
    "x = y = z = 0"
   ]
  },
  {
   "cell_type": "code",
   "execution_count": null,
   "metadata": {},
   "outputs": [
    {
     "name": "stdout",
     "output_type": "stream",
     "text": [
      "0 0 0\n"
     ]
    }
   ],
   "source": [
    "print(x, y, z)"
   ]
  },
  {
   "cell_type": "code",
   "execution_count": null,
   "metadata": {},
   "outputs": [],
   "source": [
    "z = 1"
   ]
  },
  {
   "cell_type": "code",
   "execution_count": null,
   "metadata": {},
   "outputs": [
    {
     "data": {
      "text/plain": [
       "1"
      ]
     },
     "metadata": {},
     "output_type": "display_data"
    }
   ],
   "source": [
    "z"
   ]
  },
  {
   "cell_type": "markdown",
   "metadata": {},
   "source": [
    "O Python tem alguma ajuda embutida (e o Jupyter/IPython tem ainda mais).\n",
    "\n",
    "Tente fazer:\n",
    "```\n",
    "help(x)\n",
    "```"
   ]
  },
  {
   "cell_type": "code",
   "execution_count": null,
   "metadata": {},
   "outputs": [
    {
     "name": "stdout",
     "output_type": "stream",
     "text": [
      "Help on int object:\n",
      "\n",
      "class int(object)\n",
      " |  int([x]) -> integer\n",
      " |  int(x, base=10) -> integer\n",
      " |  \n",
      " |  Convert a number or string to an integer, or return 0 if no arguments\n",
      " |  are given.  If x is a number, return x.__int__().  For floating point\n",
      " |  numbers, this truncates towards zero.\n",
      " |  \n",
      " |  If x is not a number or if base is given, then x must be a string,\n",
      " |  bytes, or bytearray instance representing an integer literal in the\n",
      " |  given base.  The literal can be preceded by '+' or '-' and be surrounded\n",
      " |  by whitespace.  The base defaults to 10.  Valid bases are 0 and 2-36.\n",
      " |  Base 0 means to interpret the base from the string as an integer literal.\n",
      " |  >>> int('0b100', base=0)\n",
      " |  4\n",
      " |  \n",
      " |  Built-in subclasses:\n",
      " |      bool\n",
      " |  \n",
      " |  Methods defined here:\n",
      " |  \n",
      " |  __abs__(self, /)\n",
      " |      abs(self)\n",
      " |  \n",
      " |  __add__(self, value, /)\n",
      " |      Return self+value.\n",
      " |  \n",
      " |  __and__(self, value, /)\n",
      " |      Return self&value.\n",
      " |  \n",
      " |  __bool__(self, /)\n",
      " |      True if self else False\n",
      " |  \n",
      " |  __ceil__(...)\n",
      " |      Ceiling of an Integral returns itself.\n",
      " |  \n",
      " |  __divmod__(self, value, /)\n",
      " |      Return divmod(self, value).\n",
      " |  \n",
      " |  __eq__(self, value, /)\n",
      " |      Return self==value.\n",
      " |  \n",
      " |  __float__(self, /)\n",
      " |      float(self)\n",
      " |  \n",
      " |  __floor__(...)\n",
      " |      Flooring an Integral returns itself.\n",
      " |  \n",
      " |  __floordiv__(self, value, /)\n",
      " |      Return self//value.\n",
      " |  \n",
      " |  __format__(self, format_spec, /)\n",
      " |      Default object formatter.\n",
      " |  \n",
      " |  __ge__(self, value, /)\n",
      " |      Return self>=value.\n",
      " |  \n",
      " |  __getattribute__(self, name, /)\n",
      " |      Return getattr(self, name).\n",
      " |  \n",
      " |  __getnewargs__(self, /)\n",
      " |  \n",
      " |  __gt__(self, value, /)\n",
      " |      Return self>value.\n",
      " |  \n",
      " |  __hash__(self, /)\n",
      " |      Return hash(self).\n",
      " |  \n",
      " |  __index__(self, /)\n",
      " |      Return self converted to an integer, if self is suitable for use as an index into a list.\n",
      " |  \n",
      " |  __int__(self, /)\n",
      " |      int(self)\n",
      " |  \n",
      " |  __invert__(self, /)\n",
      " |      ~self\n",
      " |  \n",
      " |  __le__(self, value, /)\n",
      " |      Return self<=value.\n",
      " |  \n",
      " |  __lshift__(self, value, /)\n",
      " |      Return self<<value.\n",
      " |  \n",
      " |  __lt__(self, value, /)\n",
      " |      Return self<value.\n",
      " |  \n",
      " |  __mod__(self, value, /)\n",
      " |      Return self%value.\n",
      " |  \n",
      " |  __mul__(self, value, /)\n",
      " |      Return self*value.\n",
      " |  \n",
      " |  __ne__(self, value, /)\n",
      " |      Return self!=value.\n",
      " |  \n",
      " |  __neg__(self, /)\n",
      " |      -self\n",
      " |  \n",
      " |  __or__(self, value, /)\n",
      " |      Return self|value.\n",
      " |  \n",
      " |  __pos__(self, /)\n",
      " |      +self\n",
      " |  \n",
      " |  __pow__(self, value, mod=None, /)\n",
      " |      Return pow(self, value, mod).\n",
      " |  \n",
      " |  __radd__(self, value, /)\n",
      " |      Return value+self.\n",
      " |  \n",
      " |  __rand__(self, value, /)\n",
      " |      Return value&self.\n",
      " |  \n",
      " |  __rdivmod__(self, value, /)\n",
      " |      Return divmod(value, self).\n",
      " |  \n",
      " |  __repr__(self, /)\n",
      " |      Return repr(self).\n",
      " |  \n",
      " |  __rfloordiv__(self, value, /)\n",
      " |      Return value//self.\n",
      " |  \n",
      " |  __rlshift__(self, value, /)\n",
      " |      Return value<<self.\n",
      " |  \n",
      " |  __rmod__(self, value, /)\n",
      " |      Return value%self.\n",
      " |  \n",
      " |  __rmul__(self, value, /)\n",
      " |      Return value*self.\n",
      " |  \n",
      " |  __ror__(self, value, /)\n",
      " |      Return value|self.\n",
      " |  \n",
      " |  __round__(...)\n",
      " |      Rounding an Integral returns itself.\n",
      " |      \n",
      " |      Rounding with an ndigits argument also returns an integer.\n",
      " |  \n",
      " |  __rpow__(self, value, mod=None, /)\n",
      " |      Return pow(value, self, mod).\n",
      " |  \n",
      " |  __rrshift__(self, value, /)\n",
      " |      Return value>>self.\n",
      " |  \n",
      " |  __rshift__(self, value, /)\n",
      " |      Return self>>value.\n",
      " |  \n",
      " |  __rsub__(self, value, /)\n",
      " |      Return value-self.\n",
      " |  \n",
      " |  __rtruediv__(self, value, /)\n",
      " |      Return value/self.\n",
      " |  \n",
      " |  __rxor__(self, value, /)\n",
      " |      Return value^self.\n",
      " |  \n",
      " |  __sizeof__(self, /)\n",
      " |      Returns size in memory, in bytes.\n",
      " |  \n",
      " |  __sub__(self, value, /)\n",
      " |      Return self-value.\n",
      " |  \n",
      " |  __truediv__(self, value, /)\n",
      " |      Return self/value.\n",
      " |  \n",
      " |  __trunc__(...)\n",
      " |      Truncating an Integral returns itself.\n",
      " |  \n",
      " |  __xor__(self, value, /)\n",
      " |      Return self^value.\n",
      " |  \n",
      " |  as_integer_ratio(self, /)\n",
      " |      Return integer ratio.\n",
      " |      \n",
      " |      Return a pair of integers, whose ratio is exactly equal to the original int\n",
      " |      and with a positive denominator.\n",
      " |      \n",
      " |      >>> (10).as_integer_ratio()\n",
      " |      (10, 1)\n",
      " |      >>> (-10).as_integer_ratio()\n",
      " |      (-10, 1)\n",
      " |      >>> (0).as_integer_ratio()\n",
      " |      (0, 1)\n",
      " |  \n",
      " |  bit_count(self, /)\n",
      " |      Number of ones in the binary representation of the absolute value of self.\n",
      " |      \n",
      " |      Also known as the population count.\n",
      " |      \n",
      " |      >>> bin(13)\n",
      " |      '0b1101'\n",
      " |      >>> (13).bit_count()\n",
      " |      3\n",
      " |  \n",
      " |  bit_length(self, /)\n",
      " |      Number of bits necessary to represent self in binary.\n",
      " |      \n",
      " |      >>> bin(37)\n",
      " |      '0b100101'\n",
      " |      >>> (37).bit_length()\n",
      " |      6\n",
      " |  \n",
      " |  conjugate(...)\n",
      " |      Returns self, the complex conjugate of any int.\n",
      " |  \n",
      " |  to_bytes(self, /, length=1, byteorder='big', *, signed=False)\n",
      " |      Return an array of bytes representing an integer.\n",
      " |      \n",
      " |      length\n",
      " |        Length of bytes object to use.  An OverflowError is raised if the\n",
      " |        integer is not representable with the given number of bytes.  Default\n",
      " |        is length 1.\n",
      " |      byteorder\n",
      " |        The byte order used to represent the integer.  If byteorder is 'big',\n",
      " |        the most significant byte is at the beginning of the byte array.  If\n",
      " |        byteorder is 'little', the most significant byte is at the end of the\n",
      " |        byte array.  To request the native byte order of the host system, use\n",
      " |        `sys.byteorder' as the byte order value.  Default is to use 'big'.\n",
      " |      signed\n",
      " |        Determines whether two's complement is used to represent the integer.\n",
      " |        If signed is False and a negative integer is given, an OverflowError\n",
      " |        is raised.\n",
      " |  \n",
      " |  ----------------------------------------------------------------------\n",
      " |  Class methods defined here:\n",
      " |  \n",
      " |  from_bytes(bytes, byteorder='big', *, signed=False) from builtins.type\n",
      " |      Return the integer represented by the given array of bytes.\n",
      " |      \n",
      " |      bytes\n",
      " |        Holds the array of bytes to convert.  The argument must either\n",
      " |        support the buffer protocol or be an iterable object producing bytes.\n",
      " |        Bytes and bytearray are examples of built-in objects that support the\n",
      " |        buffer protocol.\n",
      " |      byteorder\n",
      " |        The byte order used to represent the integer.  If byteorder is 'big',\n",
      " |        the most significant byte is at the beginning of the byte array.  If\n",
      " |        byteorder is 'little', the most significant byte is at the end of the\n",
      " |        byte array.  To request the native byte order of the host system, use\n",
      " |        `sys.byteorder' as the byte order value.  Default is to use 'big'.\n",
      " |      signed\n",
      " |        Indicates whether two's complement is used to represent the integer.\n",
      " |  \n",
      " |  ----------------------------------------------------------------------\n",
      " |  Static methods defined here:\n",
      " |  \n",
      " |  __new__(*args, **kwargs) from builtins.type\n",
      " |      Create and return a new object.  See help(type) for accurate signature.\n",
      " |  \n",
      " |  ----------------------------------------------------------------------\n",
      " |  Data descriptors defined here:\n",
      " |  \n",
      " |  denominator\n",
      " |      the denominator of a rational number in lowest terms\n",
      " |  \n",
      " |  imag\n",
      " |      the imaginary part of a complex number\n",
      " |  \n",
      " |  numerator\n",
      " |      the numerator of a rational number in lowest terms\n",
      " |  \n",
      " |  real\n",
      " |      the real part of a complex number\n",
      "\n"
     ]
    }
   ],
   "source": [
    "help(z)"
   ]
  },
  {
   "cell_type": "markdown",
   "metadata": {},
   "source": [
    "Outra função, `type()`, retorna o tipo de dado de uma variável"
   ]
  },
  {
   "cell_type": "code",
   "execution_count": null,
   "metadata": {},
   "outputs": [
    {
     "data": {
      "text/plain": [
       "int"
      ]
     },
     "metadata": {},
     "output_type": "display_data"
    }
   ],
   "source": [
    "type(x)"
   ]
  },
  {
   "cell_type": "markdown",
   "metadata": {},
   "source": [
    "```{note}\n",
    "Observe que em linguagens como Fortran e C, você especifica a quantidade de memória que um inteiro pode ocupar (geralmente 2 ou 4 bytes). Isso impõe uma restrição sobre o maior tamanho de inteiro que pode ser representado. O Python adaptará o tamanho do inteiro para que você não tenha *overflow*.\n",
    "```"
   ]
  },
  {
   "cell_type": "code",
   "execution_count": null,
   "metadata": {},
   "outputs": [
    {
     "name": "stdout",
     "output_type": "stream",
     "text": [
      "12345678901234567890123456789012345123456789012345678901234567890\n",
      "213\n",
      "<class 'int'>\n"
     ]
    }
   ],
   "source": [
    "a = 12345678901234567890123456789012345123456789012345678901234567890\n",
    "print(a)\n",
    "print(a.bit_length())\n",
    "print(type(a))"
   ]
  },
  {
   "cell_type": "markdown",
   "metadata": {},
   "source": [
    "## Ponto Flutuante"
   ]
  },
  {
   "cell_type": "markdown",
   "metadata": {},
   "source": [
    "Ao operar com números de ponto flutuante e inteiros, o resultado é promovido a um float."
   ]
  },
  {
   "cell_type": "code",
   "execution_count": null,
   "metadata": {},
   "outputs": [
    {
     "data": {
      "text/plain": [
       "3.0"
      ]
     },
     "metadata": {},
     "output_type": "display_data"
    }
   ],
   "source": [
    "1. + 2"
   ]
  },
  {
   "cell_type": "markdown",
   "metadata": {},
   "source": [
    "Mas observe o operador especial de divisão inteira."
   ]
  },
  {
   "cell_type": "code",
   "execution_count": null,
   "metadata": {},
   "outputs": [
    {
     "data": {
      "text/plain": [
       "0.0"
      ]
     },
     "metadata": {},
     "output_type": "display_data"
    }
   ],
   "source": [
    "1.//2"
   ]
  },
  {
   "cell_type": "markdown",
   "metadata": {},
   "source": [
    "```{important}\n",
    "É importante entender que, como existem infinitos números reais entre quaisquer dois limites, em um computador precisamos aproximar isso por um número finito. Existe um padrão IEEE para ponto flutuante que praticamente todas as linguagens e processadores seguem.\n",
    "\n",
    "Isso significa duas coisas:\n",
    "\n",
    "* Nem todo número real terá uma representação exata em ponto flutuante.\n",
    "* Há uma precisão finita para os números — abaixo disso, perdemos o controle das diferenças (isso é geralmente chamado de *erro de arredondamento*).\n",
    "```"
   ]
  },
  {
   "cell_type": "markdown",
   "metadata": {},
   "source": [
    "```{tip}\n",
    "O ponto flutuante é essencial para a ciência computacional.  Uma ótima\n",
    "introdução ao ponto flutuante e suas limitações é: [O que todo\n",
    "cientista da computação deveria saber sobre aritmética de ponto flutuante](http://dl.acm.org/citation.cfm?id=103163) de\n",
    "D. Goldberg. Este artigo é uma referência incrível para entender como um computador armazena números que também pode ser encontrado nesse [link](https://docs.oracle.com/cd/E19957-01/806-3568/ncg_goldberg.html)\n",
    "```"
   ]
  },
  {
   "cell_type": "markdown",
   "metadata": {},
   "source": [
    "Considere a seguinte expressão, por exemplo:"
   ]
  },
  {
   "cell_type": "code",
   "execution_count": null,
   "metadata": {},
   "outputs": [
    {
     "data": {
      "text/plain": [
       "-4.440892098500626e-16"
      ]
     },
     "metadata": {},
     "output_type": "display_data"
    }
   ],
   "source": [
    "0.3/0.1 - 3"
   ]
  },
  {
   "cell_type": "code",
   "execution_count": null,
   "metadata": {},
   "outputs": [
    {
     "data": {
      "text/plain": [
       "False"
      ]
     },
     "metadata": {},
     "output_type": "display_data"
    }
   ],
   "source": [
    "0.3/0.1 == 3"
   ]
  },
  {
   "cell_type": "markdown",
   "metadata": {},
   "source": [
    "Aqui está outro exemplo: O número `0.1` não pode ser representado exatamente em um computador. Em nossa impressão, usamos um especificador de formato (as coisas dentro de `{}`) para pedir que mais precisão seja mostrada:"
   ]
  },
  {
   "cell_type": "code",
   "execution_count": null,
   "metadata": {},
   "outputs": [
    {
     "name": "stdout",
     "output_type": "stream",
     "text": [
      "        0.10000000000000000555\n"
     ]
    }
   ],
   "source": [
    "a = 0.1\n",
    "print(\"{:30.20}\".format(a))"
   ]
  },
  {
   "cell_type": "markdown",
   "metadata": {},
   "source": [
    "Podemos pedir ao Python para relatar os limites do ponto flutuante."
   ]
  },
  {
   "cell_type": "code",
   "execution_count": null,
   "metadata": {},
   "outputs": [
    {
     "data": {
      "text/plain": [
       "sys.float_info(max=1.7976931348623157e+308, max_exp=1024, max_10_exp=308, min=2.2250738585072014e-308, min_exp=-1021, min_10_exp=-307, dig=15, mant_dig=53, epsilon=2.220446049250313e-16, radix=2, rounds=1)"
      ]
     },
     "metadata": {},
     "output_type": "display_data"
    }
   ],
   "source": [
    "import sys\n",
    "sys.float_info"
   ]
  },
  {
   "cell_type": "markdown",
   "metadata": {},
   "source": [
    "Observe que isso diz que só podemos armazenar números entre `2.2250738585072014e-308` e `1.7976931348623157e+308`.\n",
    "\n",
    "Também vemos que a precisão é `2.220446049250313e-16` (isso é comumente chamado de _epsilon da máquina_). Para ver isso, considere adicionar um número pequeno a `1.0`. Usaremos o operador de igualdade (`==`) para testar se dois números são iguais:"
   ]
  },
  {
   "cell_type": "markdown",
   "metadata": {},
   "source": [
    "```{admonition} Exercício Rapído\n",
    "\n",
    "Defina duas variáveis, \\( a = 1 \\) e \\( e = 10^{-16} \\).\n",
    "\n",
    "Agora defina uma terceira variável, `b = a + e`.\n",
    "\n",
    "Podemos usar o operador `==` do Python para testar a igualdade. O que você espera que `b == a` retorne? Execute e veja se concorda com seu palpite.\n",
    "```"
   ]
  },
  {
   "cell_type": "code",
   "execution_count": null,
   "metadata": {},
   "outputs": [],
   "source": []
  },
  {
   "cell_type": "markdown",
   "metadata": {},
   "source": [
    "## Módulos e Namespaces\n",
    "\n",
    "A linguagem Python básica é bastante pequena. A maior parte acontece em módulos. Alguns módulos fazem parte de uma biblioteca padrão que fornece funcionalidade adicional. Essas partes adicionadas estão na forma de módulos que podemos _importar_ para nossa sessão (ou programa) Python.\n",
    "\n",
    "O módulo `math` fornece funções que realizam as operações matemáticas básicas, bem como constantes (note que há um módulo separado `cmath` para números complexos).\n",
    "\n",
    "Em Python, você `importa` um módulo. As funções são então definidas em um _namespace_ separado — esta é uma região separada que define nomes e variáveis, etc. Uma variável em um namespace pode ter o mesmo nome que uma variável em um namespace diferente, e elas não entram em conflito. Você usa o operador `.` para acessar um membro de um namespace.\n",
    "\n",
    "Por padrão, quando você digita algo no interpretador Python ou aqui no notebook Jupyter, ou em um script, ele está em seu próprio namespace padrão, e você não precisa prefixar nenhuma das variáveis com um indicador de namespace."
   ]
  },
  {
   "cell_type": "code",
   "execution_count": null,
   "metadata": {},
   "outputs": [],
   "source": [
    "import math"
   ]
  },
  {
   "cell_type": "markdown",
   "metadata": {},
   "source": [
    "O módulo `math` fornece o valor de π (pi)."
   ]
  },
  {
   "cell_type": "code",
   "execution_count": null,
   "metadata": {},
   "outputs": [
    {
     "data": {
      "text/plain": [
       "3.141592653589793"
      ]
     },
     "metadata": {},
     "output_type": "display_data"
    }
   ],
   "source": [
    "math.pi"
   ]
  },
  {
   "cell_type": "markdown",
   "metadata": {},
   "source": [
    "Isso é distinto de qualquer variável `pi` que possamos definir aqui."
   ]
  },
  {
   "cell_type": "code",
   "execution_count": null,
   "metadata": {},
   "outputs": [],
   "source": [
    "pi = 3"
   ]
  },
  {
   "cell_type": "code",
   "execution_count": null,
   "metadata": {},
   "outputs": [
    {
     "name": "stdout",
     "output_type": "stream",
     "text": [
      "3 3.141592653589793\n"
     ]
    }
   ],
   "source": [
    "print(pi, math.pi)"
   ]
  },
  {
   "cell_type": "markdown",
   "metadata": {},
   "source": [
    "Observe que `pi` e `math.pi` são distintos um do outro—eles estão em namespaces diferentes."
   ]
  },
  {
   "cell_type": "markdown",
   "metadata": {},
   "source": [
    "### Operações de Ponto Flutuante"
   ]
  },
  {
   "cell_type": "markdown",
   "metadata": {},
   "source": [
    "Os mesmos operadores, `+`, `-`, `*`, `/` funcionam como de costume para números de ponto flutuante. Para elevar um número a uma potência, usamos o operador `**` (isso é o mesmo que em Fortran)."
   ]
  },
  {
   "cell_type": "code",
   "execution_count": null,
   "metadata": {},
   "outputs": [],
   "source": [
    "R = 2.0"
   ]
  },
  {
   "cell_type": "code",
   "execution_count": null,
   "metadata": {},
   "outputs": [
    {
     "data": {
      "text/plain": [
       "12.566370614359172"
      ]
     },
     "metadata": {},
     "output_type": "display_data"
    }
   ],
   "source": [
    "math.pi * R**2"
   ]
  },
  {
   "cell_type": "markdown",
   "metadata": {},
   "source": [
    "A precedência dos operadores segue a de muitas linguagens. Veja [Precedência de Operadores do Python](https://docs.python.org/3/reference/expressions.html#operator-precedence) para mais detalhes.\n",
    "\n",
    "Em ordem de precedência:\n",
    "* Quantidades em `()`\n",
    "* Fatiamento, chamadas, subscritos\n",
    "* Exponenciação (`**`)\n",
    "* `+x`, `-x`, `~x`\n",
    "* `*`, `@`, `/`, `//`, `%`\n",
    "* `+`, `-`\n",
    "\n",
    "(Depois disso estão as operações bitwise e comparações)\n",
    "\n",
    "Os parênteses podem ser usados para sobrepor a precedência."
   ]
  },
  {
   "cell_type": "markdown",
   "metadata": {},
   "source": [
    "```{admonition} Exercício Rapído\n",
    "Considere as seguintes expressões. Usando as ideias de precedência, pense sobre qual valor resultará e, em seguida, experimente no código abaixo para ver se você estava certo.\n",
    "\n",
    "* `1 + 3*2**2`\n",
    "* `1 + (3*2)**2`\n",
    "* `2**3**2`\n",
    "```"
   ]
  },
  {
   "cell_type": "code",
   "execution_count": null,
   "metadata": {},
   "outputs": [],
   "source": []
  },
  {
   "cell_type": "markdown",
   "metadata": {},
   "source": [
    "O módulo `math` fornece muitas das funções matemáticas padrão. A maioria delas é na verdade repetida no `numpy`, então, na prática, eu pessoalmente quase nunca uso `math`.\n",
    "\n",
    "Para as funções trigonométricas, a expectativa é que o argumento da função esteja em radianos—você pode usar `math.radians()` para converter de graus para radianos, por exemplo:"
   ]
  },
  {
   "cell_type": "code",
   "execution_count": null,
   "metadata": {},
   "outputs": [
    {
     "data": {
      "text/plain": [
       "0.7071067811865476"
      ]
     },
     "metadata": {},
     "output_type": "display_data"
    }
   ],
   "source": [
    "math.cos(math.radians(45))"
   ]
  },
  {
   "cell_type": "markdown",
   "metadata": {},
   "source": [
    "Observe que nessa declaração estamos alimentando a saída de uma função (`math.radians()`) em uma segunda função, `math.cos()`\n",
    "\n",
    "Quando em dúvida, peça ajuda para descobrir todas as coisas que um módulo fornece:"
   ]
  },
  {
   "cell_type": "code",
   "execution_count": null,
   "metadata": {},
   "outputs": [
    {
     "name": "stdout",
     "output_type": "stream",
     "text": [
      "Help on built-in function sin in module math:\n",
      "\n",
      "sin(x, /)\n",
      "    Return the sine of x (measured in radians).\n",
      "\n"
     ]
    }
   ],
   "source": [
    "help(math.sin)"
   ]
  },
  {
   "cell_type": "markdown",
   "metadata": {},
   "source": [
    "## Números Complexos"
   ]
  },
  {
   "cell_type": "markdown",
   "metadata": {},
   "source": [
    "O Python usa '`j`' para denotar a unidade imaginária."
   ]
  },
  {
   "cell_type": "code",
   "execution_count": null,
   "metadata": {},
   "outputs": [
    {
     "data": {
      "text/plain": [
       "(1+2j)"
      ]
     },
     "metadata": {},
     "output_type": "display_data"
    }
   ],
   "source": [
    "1.0 + 2j"
   ]
  },
  {
   "cell_type": "code",
   "execution_count": 96,
   "metadata": {},
   "outputs": [
    {
     "name": "stdout",
     "output_type": "stream",
     "text": [
      "(3+3j)\n",
      "(-2+3j)\n"
     ]
    }
   ],
   "source": [
    "a = 1j\n",
    "b = 3.0 + 2.0j\n",
    "print(a + b)\n",
    "print(a * b)"
   ]
  },
  {
   "cell_type": "markdown",
   "metadata": {},
   "source": [
    "Podemos usar `abs()` para obter a magnitude e, separadamente, obter as partes real ou imaginária."
   ]
  },
  {
   "cell_type": "code",
   "execution_count": 97,
   "metadata": {},
   "outputs": [
    {
     "name": "stdout",
     "output_type": "stream",
     "text": [
      "magnitude:  3.605551275463989\n",
      "parte real:  0.0\n",
      "parte imaginária:  1.0\n"
     ]
    }
   ],
   "source": [
    "print(\"magnitude: \", abs(b))\n",
    "print(\"parte real: \", a.real)\n",
    "print(\"parte imaginária: \", a.imag)"
   ]
  },
  {
   "cell_type": "markdown",
   "metadata": {},
   "source": [
    "## Strings"
   ]
  },
  {
   "cell_type": "markdown",
   "metadata": {},
   "source": [
    "O Python não se importa se você usa aspas simples ou duplas para strings:"
   ]
  },
  {
   "cell_type": "code",
   "execution_count": null,
   "metadata": {},
   "outputs": [],
   "source": [
    "a = \"está é a minha string\"\n",
    "b = 'outra string'"
   ]
  },
  {
   "cell_type": "code",
   "execution_count": null,
   "metadata": {},
   "outputs": [
    {
     "name": "stdout",
     "output_type": "stream",
     "text": [
      "está é a minha string\n",
      "outra string\n"
     ]
    }
   ],
   "source": [
    "print(a)\n",
    "print(b)"
   ]
  },
  {
   "cell_type": "markdown",
   "metadata": {},
   "source": [
    "Muitos dos operadores matemáticos usuais também são definidos para strings. Por exemplo, para concatenar ou duplicar:"
   ]
  },
  {
   "cell_type": "code",
   "execution_count": null,
   "metadata": {},
   "outputs": [
    {
     "data": {
      "text/plain": [
       "'está é a minha stringoutra string'"
      ]
     },
     "metadata": {},
     "output_type": "display_data"
    }
   ],
   "source": [
    "a + b"
   ]
  },
  {
   "cell_type": "code",
   "execution_count": null,
   "metadata": {},
   "outputs": [
    {
     "data": {
      "text/plain": [
       "'está é a minha string. outra string'"
      ]
     },
     "metadata": {},
     "output_type": "display_data"
    }
   ],
   "source": [
    "a + \". \" + b"
   ]
  },
  {
   "cell_type": "code",
   "execution_count": null,
   "metadata": {},
   "outputs": [
    {
     "data": {
      "text/plain": [
       "'está é a minha stringestá é a minha stringestá é a minha string'"
      ]
     },
     "metadata": {},
     "output_type": "display_data"
    }
   ],
   "source": [
    "a * 3"
   ]
  },
  {
   "cell_type": "markdown",
   "metadata": {},
   "source": [
    "Existem vários códigos de escape que são interpretados em strings. Esses começam com uma barra invertida, `\\`. Por exemplo, você pode usar `\\n` para uma nova linha."
   ]
  },
  {
   "cell_type": "code",
   "execution_count": null,
   "metadata": {},
   "outputs": [
    {
     "name": "stdout",
     "output_type": "stream",
     "text": [
      "está é a minha string\n",
      "hello\n"
     ]
    }
   ],
   "source": [
    "a = a + \"\\n\" + \"hello\"\n",
    "print(a)"
   ]
  },
  {
   "cell_type": "markdown",
   "metadata": {},
   "source": [
    "```{admonition} Exercício Rapído\n",
    "    \n",
    "A função `input()` pode ser usada para pedir a entrada do usuário.\n",
    "\n",
    "* Use `help(input)` para ver como funciona.  \n",
    "* Escreva um código para pedir a entrada e armazenar o resultado em uma variável. `input()` retornará uma string.\n",
    "\n",
    "* Use a função `float()` para converter um número inserido como entrada em uma variável de ponto flutuante.  \n",
    "* Verifique se a conversão funcionou usando a função `type()`.\n",
    "```"
   ]
  },
  {
   "cell_type": "markdown",
   "metadata": {},
   "source": [
    "Aspas triplas `\"\"\"` podem envolver strings de várias linhas. Isso é útil para docstrings no início das funções (mais sobre isso mais tarde...)."
   ]
  },
  {
   "cell_type": "code",
   "execution_count": null,
   "metadata": {},
   "outputs": [],
   "source": [
    "c = \"\"\"\n",
    "É um período de guerra civil. Naves rebeldes, \n",
    "atacando de uma base oculta, conquistaram sua primeira \n",
    "vitória contra o maligno Império Galáctico.\n",
    "\n",
    "Durante a batalha, espiões rebeldes conseguiram roubar \n",
    "os planos secretos da arma definitiva do Império, a \n",
    "Estrela da Morte, uma estação espacial blindada com poder \n",
    "suficiente para destruir um planeta inteiro.\n",
    "\n",
    "Perseguida pelos sinistros agentes do Império, a Princesa \n",
    "Leia corre para casa a bordo de sua nave estelar, guardiã \n",
    "dos planos roubados que podem salvar seu povo e \n",
    "restaurar a liberdade na galáxia...\"\"\""
   ]
  },
  {
   "cell_type": "code",
   "execution_count": null,
   "metadata": {},
   "outputs": [
    {
     "name": "stdout",
     "output_type": "stream",
     "text": [
      "\n",
      "É um período de guerra civil. Naves rebeldes, \n",
      "atacando de uma base oculta, conquistaram sua primeira \n",
      "vitória contra o maligno Império Galáctico.\n",
      "\n",
      "Durante a batalha, espiões rebeldes conseguiram roubar \n",
      "os planos secretos da arma definitiva do Império, a \n",
      "Estrela da Morte, uma estação espacial blindada com poder \n",
      "suficiente para destruir um planeta inteiro.\n",
      "\n",
      "Perseguida pelos sinistros agentes do Império, a Princesa \n",
      "Leia corre para casa a bordo de sua nave estelar, guardiã \n",
      "dos planos roubados que podem salvar seu povo e \n",
      "restaurar a liberdade na galáxia...\n"
     ]
    }
   ],
   "source": [
    "print(c)"
   ]
  },
  {
   "cell_type": "markdown",
   "metadata": {},
   "source": [
    "Uma string bruta não substitui sequências de escape (como `\\n`). Basta colocar um `r` antes da primeira aspa:"
   ]
  },
  {
   "cell_type": "code",
   "execution_count": null,
   "metadata": {},
   "outputs": [
    {
     "data": {
      "text/plain": [
       "'está é uma string bruta \\\\n hello'"
      ]
     },
     "metadata": {},
     "output_type": "display_data"
    }
   ],
   "source": [
    "d = r\"está é uma string bruta \\n hello\"\n",
    "d"
   ]
  },
  {
   "cell_type": "markdown",
   "metadata": {},
   "source": [
    "O fatiamento é usado para acessar uma parte de uma string.\n",
    "\n",
    "Fatiar uma string pode parecer um pouco contra-intuitivo se você vem de C ou Fortran. O truque é pensar no índice como representando a borda esquerda de um caractere na string. Quando fizermos arrays mais tarde, o mesmo se aplicará.\n",
    "\n",
    "Observe também que o Python (como C) usa indexação baseada em 0.\n",
    "\n",
    "Os índices negativos contam a partir da direita."
   ]
  },
  {
   "cell_type": "code",
   "execution_count": null,
   "metadata": {},
   "outputs": [
    {
     "name": "stdout",
     "output_type": "stream",
     "text": [
      "está é a minha string\n",
      "nha\n",
      "e\n",
      "n\n",
      "nasrn\n"
     ]
    }
   ],
   "source": [
    "# Definindo uma string de exemplo\n",
    "a = \"está é a minha string\"\n",
    "\n",
    "# Imprimindo a string completa\n",
    "print(a) \n",
    "\n",
    "# Imprimindo uma parte da string usando fatiamento\n",
    "# a[11:14] significa: comece no índice 11 e vá até o índice 14 (exclusivo)\n",
    "print(a[11:14]) \n",
    "\n",
    "# Imprimindo o primeiro caractere da string\n",
    "# a[0] significa: pegue o caractere no índice 0\n",
    "print(a[0])\n",
    "\n",
    "\n",
    "# Imprimindo o segundo caractere a partir do final da string 'a'\n",
    "print(a[-2])\n",
    "\n",
    "# Imprimindo uma parte da string usando fatiamento com passo\n",
    "# a[11:20:2] significa: comece no índice 11, vá até o índice 20 (exclusivo), pegando a cada 2 caracteres\n",
    "print(a[11:20:2])  # Saída: \"mni\" (caracteres nos índices 11, 13, 15, 17, 19)"
   ]
  },
  {
   "cell_type": "markdown",
   "metadata": {},
   "source": [
    "```{admonition} Quick Exercise\n",
    "\n",
    "As strings têm muitos _métodos_ (funções que sabem como trabalhar com um tipo de dado específico, neste caso, strings). Um método útil é `.find()`. Para uma string `a`, `a.find(s)` retornará o índice da primeira ocorrência de `s`.\n",
    "\n",
    "Para nossa string `c` acima, encontre o primeiro `.` (identificando a primeira frase completa) e imprima apenas a primeira frase em `c` usando esse resultado.\n",
    "\n",
    "```"
   ]
  },
  {
   "cell_type": "markdown",
   "metadata": {},
   "source": [
    "Existem também vários métodos e funções que trabalham com strings. Aqui estão alguns exemplos:"
   ]
  },
  {
   "cell_type": "code",
   "execution_count": null,
   "metadata": {},
   "outputs": [
    {
     "name": "stdout",
     "output_type": "stream",
     "text": [
      "está é a minha string\n",
      "aquela é a minha string\n",
      "21\n",
      "está é a minha string\n"
     ]
    }
   ],
   "source": [
    "print(a)  # Exibe a string original\n",
    "\n",
    "print(a.replace(\"está\", \"aquela\"))  # Exibe a string com \"esta\" substituído por \"aquela\"\n",
    "\n",
    "print(len(a))  # Exibe o número total de caracteres na string\n",
    "\n",
    "print(a)  # Exibe a string original novamente, sem alterações"
   ]
  },
  {
   "cell_type": "markdown",
   "metadata": {},
   "source": [
    "Note que nossa string original, `a`, não foi alterada. Em Python, as strings são *imutáveis*. Operações em strings retornam uma nova string."
   ]
  },
  {
   "cell_type": "code",
   "execution_count": null,
   "metadata": {},
   "outputs": [
    {
     "data": {
      "text/plain": [
       "str"
      ]
     },
     "metadata": {},
     "output_type": "display_data"
    }
   ],
   "source": [
    "type(a)"
   ]
  },
  {
   "cell_type": "markdown",
   "metadata": {},
   "source": [
    "Podemos formatar strings ao imprimir para inserir quantidades em lugares específicos na string. Um `{}` serve como um espaço reservado para uma quantidade e é substituído usando o método `.format()`:"
   ]
  },
  {
   "cell_type": "code",
   "execution_count": 98,
   "metadata": {},
   "outputs": [
    {
     "name": "stdout",
     "output_type": "stream",
     "text": [
      "a = 1; b = 2.0; c = teste\n"
     ]
    }
   ],
   "source": [
    "a = 1\n",
    "b = 2.0\n",
    "c = \"teste\"\n",
    "print(\"a = {}; b = {}; c = {}\".format(a, b, c))"
   ]
  },
  {
   "cell_type": "markdown",
   "metadata": {},
   "source": [
    "Poderiamos juntar string também usando `+`"
   ]
  },
  {
   "cell_type": "code",
   "execution_count": null,
   "metadata": {},
   "outputs": [
    {
     "name": "stdout",
     "output_type": "stream",
     "text": [
      "a=1\n"
     ]
    }
   ],
   "source": [
    "print(\"a=\"+str(a))"
   ]
  },
  {
   "cell_type": "markdown",
   "metadata": {},
   "source": [
    "Mas a maneira mais moderna de fazer isso é usar *f-strings*."
   ]
  },
  {
   "cell_type": "code",
   "execution_count": 99,
   "metadata": {},
   "outputs": [
    {
     "name": "stdout",
     "output_type": "stream",
     "text": [
      "a = 1; b = 2.0; c = teste\n"
     ]
    }
   ],
   "source": [
    "print(f\"a = {a}; b = {b}; c = {c}\")"
   ]
  },
  {
   "cell_type": "markdown",
   "metadata": {},
   "source": [
    "Note o `f` precedendo a aspa inicial `\"` "
   ]
  },
  {
   "cell_type": "markdown",
   "metadata": {},
   "source": [
    "Uma outra opção é a seguinte, onde você pode especificar o formato de cada variável:"
   ]
  },
  {
   "cell_type": "code",
   "execution_count": 100,
   "metadata": {},
   "outputs": [
    {
     "name": "stdout",
     "output_type": "stream",
     "text": [
      "a = 1; b = 2.00; c = teste\n"
     ]
    }
   ],
   "source": [
    "print(\"a = %i; b = %.2f; c = %s\" % (a, b, c))"
   ]
  },
  {
   "cell_type": "markdown",
   "metadata": {},
   "source": [
    "# Variáveis de Tipo Avançado"
   ]
  },
  {
   "cell_type": "markdown",
   "metadata": {},
   "source": [
    "Estas notas seguem o tutorial oficial do Python de forma bastante próxima: http://docs.python.org/3/tutorial/"
   ]
  },
  {
   "cell_type": "markdown",
   "metadata": {},
   "source": [
    "## Listas"
   ]
  },
  {
   "cell_type": "markdown",
   "metadata": {},
   "source": [
    "Listas agrupam dados. Muitas linguagens têm arrays (vamos olhar para eles em breve no Python). Mas, ao contrário dos arrays na maioria das linguagens, as listas podem conter dados de todos os tipos diferentes — não precisam ser homogêneas. Os dados podem ser uma mistura de inteiros, números de ponto flutuante ou complexos, strings ou outros objetos (incluindo outras listas).\n",
    "\n",
    "Uma lista é definida usando colchetes:"
   ]
  },
  {
   "cell_type": "code",
   "execution_count": 101,
   "metadata": {},
   "outputs": [],
   "source": [
    "a = [1, 2.0, \"minha lista\", 4]"
   ]
  },
  {
   "cell_type": "code",
   "execution_count": 102,
   "metadata": {
    "tags": []
   },
   "outputs": [
    {
     "data": {
      "text/plain": [
       "[1, 2.0, 'minha lista', 4]"
      ]
     },
     "execution_count": 102,
     "metadata": {},
     "output_type": "execute_result"
    }
   ],
   "source": [
    "a"
   ]
  },
  {
   "cell_type": "markdown",
   "metadata": {},
   "source": [
    "Podemos indexar uma lista para obter um único elemento — lembre-se de que o Python começa a contagem em 0:"
   ]
  },
  {
   "cell_type": "code",
   "execution_count": 103,
   "metadata": {
    "tags": []
   },
   "outputs": [
    {
     "data": {
      "text/plain": [
       "'minha lista'"
      ]
     },
     "execution_count": 103,
     "metadata": {},
     "output_type": "execute_result"
    }
   ],
   "source": [
    "a[2]"
   ]
  },
  {
   "cell_type": "code",
   "execution_count": 105,
   "metadata": {},
   "outputs": [
    {
     "data": {
      "text/plain": [
       "[1, 2.0, 'minha lista', 4, 'hello']"
      ]
     },
     "execution_count": 105,
     "metadata": {},
     "output_type": "execute_result"
    }
   ],
   "source": [
    "a+[\"hello\"]"
   ]
  },
  {
   "cell_type": "markdown",
   "metadata": {},
   "source": [
    "Assim como com strings, operadores matemáticos são definidos em listas:"
   ]
  },
  {
   "cell_type": "code",
   "execution_count": 104,
   "metadata": {
    "tags": []
   },
   "outputs": [
    {
     "data": {
      "text/plain": [
       "[1, 2.0, 'minha lista', 4, 1, 2.0, 'minha lista', 4]"
      ]
     },
     "execution_count": 104,
     "metadata": {},
     "output_type": "execute_result"
    }
   ],
   "source": [
    "a*2"
   ]
  },
  {
   "cell_type": "markdown",
   "metadata": {},
   "source": [
    "A função `len()` retorna o comprimento de uma lista."
   ]
  },
  {
   "cell_type": "code",
   "execution_count": 60,
   "metadata": {
    "tags": []
   },
   "outputs": [
    {
     "data": {
      "text/plain": [
       "4"
      ]
     },
     "execution_count": 60,
     "metadata": {},
     "output_type": "execute_result"
    }
   ],
   "source": [
    "len(a)"
   ]
  },
  {
   "cell_type": "markdown",
   "metadata": {},
   "source": [
    "Ao contrário das strings, as listas são _mutáveis_ — você pode alterar elementos em uma lista facilmente."
   ]
  },
  {
   "cell_type": "code",
   "execution_count": 106,
   "metadata": {
    "tags": []
   },
   "outputs": [
    {
     "name": "stdout",
     "output_type": "stream",
     "text": [
      "[1, 2.0, 'minha lista', 4]\n",
      "[1, -2.0, 'minha lista', 4]\n"
     ]
    }
   ],
   "source": [
    "print(a)\n",
    "a[1] = -2.0\n",
    "print(a)"
   ]
  },
  {
   "cell_type": "code",
   "execution_count": 107,
   "metadata": {},
   "outputs": [
    {
     "data": {
      "text/plain": [
       "[1, -2.0, 'minha lista', 4]"
      ]
     },
     "execution_count": 107,
     "metadata": {},
     "output_type": "execute_result"
    }
   ],
   "source": [
    "a"
   ]
  },
  {
   "cell_type": "code",
   "execution_count": 108,
   "metadata": {
    "tags": []
   },
   "outputs": [
    {
     "data": {
      "text/plain": [
       "[-1, -2.1, -2.0, 'minha lista', 4]"
      ]
     },
     "execution_count": 108,
     "metadata": {},
     "output_type": "execute_result"
    }
   ],
   "source": [
    "a[0:1] = [-1, -2.1]   # isso colocará dois itens no lugar onde 1 existia antes\n",
    "a"
   ]
  },
  {
   "cell_type": "markdown",
   "metadata": {},
   "source": [
    "Note que as listas podem até conter outras listas:"
   ]
  },
  {
   "cell_type": "code",
   "execution_count": 109,
   "metadata": {
    "tags": []
   },
   "outputs": [
    {
     "data": {
      "text/plain": [
       "[-1, ['outra lista', 3], -2.0, 'minha lista', 4]"
      ]
     },
     "execution_count": 109,
     "metadata": {},
     "output_type": "execute_result"
    }
   ],
   "source": [
    "a[1] = [\"outra lista\", 3]\n",
    "a"
   ]
  },
  {
   "cell_type": "markdown",
   "metadata": {},
   "source": [
    "Assim como tudo no Python, uma lista é um objeto que é uma instância de uma classe. As classes têm métodos (funções) que sabem como operar em um objeto daquela classe.\n",
    "\n",
    "Existem muitos métodos que funcionam em listas. Dois dos mais úteis são `append`, para adicionar ao final de uma lista, e `pop`, para remover o último elemento:"
   ]
  },
  {
   "cell_type": "code",
   "execution_count": 110,
   "metadata": {
    "tags": []
   },
   "outputs": [
    {
     "data": {
      "text/plain": [
       "[-1, ['outra lista', 3], -2.0, 'minha lista', 4, 6]"
      ]
     },
     "execution_count": 110,
     "metadata": {},
     "output_type": "execute_result"
    }
   ],
   "source": [
    "a.append(6)\n",
    "a"
   ]
  },
  {
   "cell_type": "code",
   "execution_count": 111,
   "metadata": {
    "tags": []
   },
   "outputs": [
    {
     "data": {
      "text/plain": [
       "6"
      ]
     },
     "execution_count": 111,
     "metadata": {},
     "output_type": "execute_result"
    }
   ],
   "source": [
    "a.pop()"
   ]
  },
  {
   "cell_type": "code",
   "execution_count": 112,
   "metadata": {
    "tags": []
   },
   "outputs": [
    {
     "data": {
      "text/plain": [
       "[-1, ['outra lista', 3], -2.0, 'minha lista', 4]"
      ]
     },
     "execution_count": 112,
     "metadata": {},
     "output_type": "execute_result"
    }
   ],
   "source": [
    "a"
   ]
  },
  {
   "cell_type": "markdown",
   "metadata": {},
   "source": [
    "```{admonition} Exercício Rápido:\n",
    "\n",
    "Uma operação que veremos muito é começar com uma lista vazia e adicionar elementos a ela. Uma lista vazia é criada como:\n",
    "\n",
    " a = []\n",
    "\n",
    "* Crie uma lista vazia\n",
    "* Adicione os inteiros de 1 a 10 a ela.\n",
    "* Agora remova-os da lista um por um.\n",
    "  \n",
    "```"
   ]
  },
  {
   "cell_type": "markdown",
   "metadata": {},
   "source": [
    "### Copiando listas\n",
    "\n",
    "Copiar pode parecer um pouco contra-intuitivo no início. A melhor maneira de pensar sobre isso é que sua lista vive em algum lugar na memória e, quando você faz \n",
    "\n",
    "```\n",
    "a = [1, 2, 3, 4]\n",
    "```\n",
    "\n",
    "então a variável `a` é configurada para apontar para aquele local na memória, então ela se refere à lista.\n",
    "\n",
    "Se então fizermos\n",
    "```\n",
    "b = a\n",
    "```\n",
    "então `b` também apontará para aquele mesmo local na memória — o exato mesmo objeto de lista.\n",
    "\n",
    "Como ambos estão apontando para o mesmo local na memória, se alterarmos a lista através de `a`, a mudança será refletida em `b` também:"
   ]
  },
  {
   "cell_type": "code",
   "execution_count": 113,
   "metadata": {
    "tags": []
   },
   "outputs": [
    {
     "name": "stdout",
     "output_type": "stream",
     "text": [
      "[1, 2, 3, 4]\n",
      "['alteração', 2, 3, 4]\n"
     ]
    }
   ],
   "source": [
    "a = [1, 2, 3, 4]\n",
    "b = a  # tanto a quanto b se referem ao mesmo objeto de lista na memória\n",
    "print(a)\n",
    "a[0] = \"alteração\"\n",
    "print(b)"
   ]
  },
  {
   "cell_type": "markdown",
   "metadata": {},
   "source": [
    "Se você quiser criar um novo objeto na memória que seja uma cópia de outro, você pode indexar a lista, usando `:` para obter todos os elementos, ou usar a função `list()`:"
   ]
  },
  {
   "cell_type": "code",
   "execution_count": 114,
   "metadata": {
    "tags": []
   },
   "outputs": [
    {
     "name": "stdout",
     "output_type": "stream",
     "text": [
      "['alteração', 'dois', 3, 4]\n",
      "['alteração', 2, 3, 4]\n"
     ]
    }
   ],
   "source": [
    "c = list(a)   # você também pode fazer c = a[:], que basicamente fatiará toda a lista\n",
    "a[1] = \"dois\"\n",
    "print(a)\n",
    "print(c)"
   ]
  },
  {
   "cell_type": "markdown",
   "metadata": {},
   "source": [
    "As coisas ficam um pouco complicadas quando uma lista contém outro objeto mutável, como outra lista. Então, a cópia que analisamos acima é apenas uma _cópia rasa_. Faremos isso com mais cuidado na próxima vez."
   ]
  },
  {
   "cell_type": "markdown",
   "metadata": {},
   "source": [
    "Quando estiver em dúvida, use a função `id()` para descobrir onde na memória um objeto está localizado (você não deve se preocupar com o que os valores dos números que você obtém de `id` significam, mas apenas se eles são os mesmos que os de outro objeto)."
   ]
  },
  {
   "cell_type": "code",
   "execution_count": 75,
   "metadata": {
    "tags": []
   },
   "outputs": [
    {
     "name": "stdout",
     "output_type": "stream",
     "text": [
      "4436542400 4436542400 4430978048\n"
     ]
    }
   ],
   "source": [
    "print(id(a), id(b), id(c))"
   ]
  },
  {
   "cell_type": "markdown",
   "metadata": {},
   "source": [
    "ou use o operador `is`"
   ]
  },
  {
   "cell_type": "code",
   "execution_count": 76,
   "metadata": {
    "tags": []
   },
   "outputs": [
    {
     "data": {
      "text/plain": [
       "True"
      ]
     },
     "execution_count": 76,
     "metadata": {},
     "output_type": "execute_result"
    }
   ],
   "source": [
    "a is b"
   ]
  },
  {
   "cell_type": "code",
   "execution_count": 77,
   "metadata": {
    "tags": []
   },
   "outputs": [
    {
     "data": {
      "text/plain": [
       "False"
      ]
     },
     "execution_count": 77,
     "metadata": {},
     "output_type": "execute_result"
    }
   ],
   "source": [
    "a is c"
   ]
  },
  {
   "cell_type": "markdown",
   "metadata": {},
   "source": [
    "Existem muitos outros métodos que funcionam em listas"
   ]
  },
  {
   "cell_type": "code",
   "execution_count": 78,
   "metadata": {
    "tags": []
   },
   "outputs": [
    {
     "data": {
      "text/plain": [
       "[-1, -1, 2, 5, 9, 10, 24]"
      ]
     },
     "execution_count": 78,
     "metadata": {},
     "output_type": "execute_result"
    }
   ],
   "source": [
    "my_list = [10, -1, 5, 24, 2, -1, 9]\n",
    "my_list.sort() # Ordena a lista em ordem crescente\n",
    "my_list"
   ]
  },
  {
   "cell_type": "code",
   "execution_count": 79,
   "metadata": {
    "tags": []
   },
   "outputs": [
    {
     "data": {
      "text/plain": [
       "2"
      ]
     },
     "execution_count": 79,
     "metadata": {},
     "output_type": "execute_result"
    }
   ],
   "source": [
    "my_list.count(-1) # Conta quantas vezes o valor -1 aparece na lista"
   ]
  },
  {
   "cell_type": "markdown",
   "metadata": {},
   "source": [
    "Podemos também inserir elementos."
   ]
  },
  {
   "cell_type": "code",
   "execution_count": 115,
   "metadata": {
    "tags": []
   },
   "outputs": [
    {
     "data": {
      "text/plain": [
       "['alteração', 'dois', 3, 'meu elemento inserido', 4]"
      ]
     },
     "execution_count": 115,
     "metadata": {},
     "output_type": "execute_result"
    }
   ],
   "source": [
    "a.insert(3, \"meu elemento inserido\")\n",
    "a"
   ]
  },
  {
   "cell_type": "markdown",
   "metadata": {},
   "source": [
    "Juntar duas listas é simples. Assim como com strings, o operador `+` concatena:"
   ]
  },
  {
   "cell_type": "code",
   "execution_count": 81,
   "metadata": {
    "tags": []
   },
   "outputs": [
    {
     "name": "stdout",
     "output_type": "stream",
     "text": [
      "[1, 2, 3, 4, 5, 6]\n"
     ]
    }
   ],
   "source": [
    "b = [1, 2, 3]\n",
    "c = [4, 5, 6]\n",
    "d = b + c\n",
    "print(d)"
   ]
  },
  {
   "cell_type": "markdown",
   "metadata": {},
   "source": [
    "## Dicionários"
   ]
  },
  {
   "cell_type": "markdown",
   "metadata": {},
   "source": [
    "Um dicionário armazena dados como um par `chave:valor`. Ao contrário de uma lista, onde você tem uma ordem específica, as chaves em um dicionário permitem que você acesse informações facilmente de qualquer lugar:"
   ]
  },
  {
   "cell_type": "code",
   "execution_count": 53,
   "metadata": {},
   "outputs": [],
   "source": [
    "my_dict = {\"chave1\":1, \"chave2\":2, \"chave3\":3}"
   ]
  },
  {
   "cell_type": "code",
   "execution_count": 54,
   "metadata": {
    "tags": []
   },
   "outputs": [
    {
     "data": {
      "text/plain": [
       "1"
      ]
     },
     "execution_count": 54,
     "metadata": {},
     "output_type": "execute_result"
    }
   ],
   "source": [
    "my_dict[\"chave1\"]"
   ]
  },
  {
   "cell_type": "markdown",
   "metadata": {},
   "source": [
    "Você pode adicionar uma nova `chave:valor` facilmente, e ela pode ser de qualquer tipo."
   ]
  },
  {
   "cell_type": "code",
   "execution_count": 55,
   "metadata": {
    "tags": []
   },
   "outputs": [
    {
     "data": {
      "text/plain": [
       "{'chave1': 1, 'chave2': 2, 'chave3': 3, 'novachave': 'nova'}"
      ]
     },
     "execution_count": 55,
     "metadata": {},
     "output_type": "execute_result"
    }
   ],
   "source": [
    "my_dict[\"novachave\"] = \"nova\"\n",
    "my_dict"
   ]
  },
  {
   "cell_type": "markdown",
   "metadata": {},
   "source": [
    "Você também pode obter facilmente a lista de chaves que estão definidas em um dicionário."
   ]
  },
  {
   "cell_type": "code",
   "execution_count": 56,
   "metadata": {
    "tags": []
   },
   "outputs": [
    {
     "data": {
      "text/plain": [
       "['chave1', 'chave2', 'chave3', 'novachave']"
      ]
     },
     "execution_count": 56,
     "metadata": {},
     "output_type": "execute_result"
    }
   ],
   "source": [
    "chaves = list(my_dict.keys())\n",
    "chaves"
   ]
  },
  {
   "cell_type": "markdown",
   "metadata": {},
   "source": [
    "e verificar facilmente se uma chave existe no dicionário usando o operador `in`."
   ]
  },
  {
   "cell_type": "code",
   "execution_count": 57,
   "metadata": {
    "tags": []
   },
   "outputs": [
    {
     "name": "stdout",
     "output_type": "stream",
     "text": [
      "True\n",
      "False\n"
     ]
    }
   ],
   "source": [
    "print(\"chave1\" in chaves)\n",
    "print(\"ChaveInvalida\" in chaves)"
   ]
  },
  {
   "cell_type": "markdown",
   "metadata": {},
   "source": [
    "```{admonition} Exercício Rapído\n",
    "\n",
    "Crie um dicionário onde as chaves são os nomes em string dos números de zero a nove e os valores são suas representações numéricas (0, 1, ... , 9).\n",
    "\n",
    "```"
   ]
  },
  {
   "cell_type": "markdown",
   "metadata": {},
   "source": [
    "```{note}\n",
    ":class: dropdown\n",
    "## Solução\n",
    "```python\n",
    "# Criando um dicionário com os nomes dos números de zero a nove como chaves\n",
    "number_dict = {\n",
    "    \"zero\": 0,\n",
    "    \"one\": 1,\n",
    "    \"two\": 2,\n",
    "    \"three\": 3,\n",
    "    \"four\": 4,\n",
    "    \"five\": 5,\n",
    "    \"six\": 6,\n",
    "    \"seven\": 7,\n",
    "    \"eight\": 8,\n",
    "    \"nine\": 9\n",
    "}\n",
    "\n",
    "# Exibindo o dicionário\n",
    "print(number_dict)\n",
    "```\n"
   ]
  },
  {
   "cell_type": "markdown",
   "metadata": {},
   "source": [
    "## Compreensões de Lista"
   ]
  },
  {
   "cell_type": "markdown",
   "metadata": {},
   "source": [
    "As compreensões de lista fornecem uma maneira compacta de inicializar listas. Alguns exemplos do tutorial:"
   ]
  },
  {
   "cell_type": "code",
   "execution_count": 88,
   "metadata": {},
   "outputs": [
    {
     "data": {
      "text/plain": [
       "[0, 1, 2, 3, 4, 5, 6, 7, 8, 9]"
      ]
     },
     "execution_count": 88,
     "metadata": {},
     "output_type": "execute_result"
    }
   ],
   "source": [
    "list(range(10))"
   ]
  },
  {
   "cell_type": "code",
   "execution_count": 89,
   "metadata": {},
   "outputs": [],
   "source": [
    "squares = [x**2 for x in range(10)]"
   ]
  },
  {
   "cell_type": "code",
   "execution_count": 90,
   "metadata": {
    "tags": []
   },
   "outputs": [
    {
     "data": {
      "text/plain": [
       "[0, 1, 4, 9, 16, 25, 36, 49, 64, 81]"
      ]
     },
     "execution_count": 90,
     "metadata": {},
     "output_type": "execute_result"
    }
   ],
   "source": [
    "squares"
   ]
  },
  {
   "cell_type": "markdown",
   "metadata": {},
   "source": [
    "Aqui, usamos outro tipo de Python, a tupla, para combinar números de duas listas em um par."
   ]
  },
  {
   "cell_type": "code",
   "execution_count": 91,
   "metadata": {
    "tags": []
   },
   "outputs": [
    {
     "data": {
      "text/plain": [
       "[(1, 3), (1, 4), (2, 3), (2, 1), (2, 4), (3, 1), (3, 4)]"
      ]
     },
     "execution_count": 91,
     "metadata": {},
     "output_type": "execute_result"
    }
   ],
   "source": [
    "[(x, y) for x in [1,2,3] for y in [3,1,4] if x != y]"
   ]
  },
  {
   "cell_type": "markdown",
   "metadata": {},
   "source": [
    "```{admonition} Exercício Rapído\n",
    "\n",
    "Use uma compreensão de lista para criar uma nova lista a partir de `squares` contendo apenas os números pares. Pode ser útil usar o operador de módulo, `%`.\n",
    "\n",
    "```"
   ]
  },
  {
   "cell_type": "code",
   "execution_count": null,
   "metadata": {},
   "outputs": [],
   "source": []
  },
  {
   "cell_type": "markdown",
   "metadata": {},
   "source": [
    "## Tuplas"
   ]
  },
  {
   "cell_type": "markdown",
   "metadata": {},
   "source": [
    "As tuplas são imutáveis — elas não podem ser alteradas, mas são úteis para organizar dados em algumas situações. Usamos () para indicar uma tupla:"
   ]
  },
  {
   "cell_type": "code",
   "execution_count": 64,
   "metadata": {},
   "outputs": [
    {
     "data": {
      "text/plain": [
       "(1, 2, 3, 4)"
      ]
     },
     "execution_count": 64,
     "metadata": {},
     "output_type": "execute_result"
    }
   ],
   "source": [
    "a = (1, 2, 3, 4)\n",
    "a"
   ]
  },
  {
   "cell_type": "markdown",
   "metadata": {},
   "source": [
    "Podemos desempacotar uma tupla:"
   ]
  },
  {
   "cell_type": "code",
   "execution_count": 94,
   "metadata": {},
   "outputs": [],
   "source": [
    "w, x, y, z = a"
   ]
  },
  {
   "cell_type": "code",
   "execution_count": 95,
   "metadata": {
    "tags": []
   },
   "outputs": [
    {
     "data": {
      "text/plain": [
       "1"
      ]
     },
     "execution_count": 95,
     "metadata": {},
     "output_type": "execute_result"
    }
   ],
   "source": [
    "w"
   ]
  },
  {
   "cell_type": "markdown",
   "metadata": {},
   "source": [
    "Como uma tupla é imutável, não podemos alterar um elemento:"
   ]
  },
  {
   "cell_type": "code",
   "execution_count": 96,
   "metadata": {
    "tags": []
   },
   "outputs": [
    {
     "ename": "TypeError",
     "evalue": "'tuple' object does not support item assignment",
     "output_type": "error",
     "traceback": [
      "\u001b[0;31m---------------------------------------------------------------------------\u001b[0m",
      "\u001b[0;31mTypeError\u001b[0m                                 Traceback (most recent call last)",
      "Cell \u001b[0;32mIn[96], line 1\u001b[0m\n\u001b[0;32m----> 1\u001b[0m \u001b[43ma\u001b[49m\u001b[43m[\u001b[49m\u001b[38;5;241;43m0\u001b[39;49m\u001b[43m]\u001b[49m \u001b[38;5;241m=\u001b[39m \u001b[38;5;241m2\u001b[39m\n",
      "\u001b[0;31mTypeError\u001b[0m: 'tuple' object does not support item assignment"
     ]
    }
   ],
   "source": [
    "a[0] = 2"
   ]
  },
  {
   "cell_type": "markdown",
   "metadata": {},
   "source": [
    "Mas podemos transformá-la em uma lista, e então podemos alterá-la."
   ]
  },
  {
   "cell_type": "code",
   "execution_count": 67,
   "metadata": {},
   "outputs": [],
   "source": [
    "z = list(a)"
   ]
  },
  {
   "cell_type": "code",
   "execution_count": 68,
   "metadata": {},
   "outputs": [],
   "source": [
    "z[0] = \"novo\""
   ]
  },
  {
   "cell_type": "code",
   "execution_count": 69,
   "metadata": {
    "tags": []
   },
   "outputs": [
    {
     "data": {
      "text/plain": [
       "['novo', 2, 3, 4]"
      ]
     },
     "execution_count": 69,
     "metadata": {},
     "output_type": "execute_result"
    }
   ],
   "source": [
    "z"
   ]
  },
  {
   "cell_type": "markdown",
   "metadata": {},
   "source": [
    "Frequentemente, não está claro como as tuplas diferem das listas. A diferença mais óbvia é que elas são imutáveis (use isso a seu favor para evitar bugs!). Muitas vezes, veremos tuplas usadas para armazenar dados relacionados que devem ser interpretados juntos. Um bom exemplo é um ponto cartesiano, (x, y). Aqui está uma lista de pontos:"
   ]
  },
  {
   "cell_type": "code",
   "execution_count": 100,
   "metadata": {
    "tags": []
   },
   "outputs": [
    {
     "data": {
      "text/plain": [
       "[(1, 2), (2, 3), (3, 4)]"
      ]
     },
     "execution_count": 100,
     "metadata": {},
     "output_type": "execute_result"
    }
   ],
   "source": [
    "points = []\n",
    "points.append((1,2))\n",
    "points.append((2,3))\n",
    "points.append((3,4))\n",
    "points"
   ]
  },
  {
   "cell_type": "markdown",
   "metadata": {},
   "source": [
    "Podemos até gerar esses para uma curva usando uma compreensão de lista:"
   ]
  },
  {
   "cell_type": "code",
   "execution_count": 101,
   "metadata": {
    "tags": []
   },
   "outputs": [
    {
     "data": {
      "text/plain": [
       "[(0, 5),\n",
       " (1, 7),\n",
       " (2, 9),\n",
       " (3, 11),\n",
       " (4, 13),\n",
       " (5, 15),\n",
       " (6, 17),\n",
       " (7, 19),\n",
       " (8, 21),\n",
       " (9, 23)]"
      ]
     },
     "execution_count": 101,
     "metadata": {},
     "output_type": "execute_result"
    }
   ],
   "source": [
    "points = [(x, 2*x + 5) for x in range(10)]\n",
    "points"
   ]
  },
  {
   "cell_type": "markdown",
   "metadata": {},
   "source": [
    "# Fluxo de Controle"
   ]
  },
  {
   "cell_type": "markdown",
   "metadata": {},
   "source": [
    "Estas notas seguem o tutorial oficial do Python de forma bastante próxima: http://docs.python.org/3/tutorial/"
   ]
  },
  {
   "cell_type": "markdown",
   "metadata": {},
   "source": [
    "Para escrever um programa, precisamos da capacidade de iterar e tomar ações com base nos valores de uma variável. Isso inclui testes condicionais (if-tests) e loops.\n",
    "\n",
    "**O Python usa 4 espaços em branco para denotar um bloco de código**. A maioria dos editores interpretará uma tabulação como 4 espaços em branco por padrão (se não, verifique suas configurações)."
   ]
  },
  {
   "cell_type": "markdown",
   "metadata": {},
   "source": [
    "## Loops\n",
    "\n",
    "Um simples laço while — note a indentação para denotar o bloco que faz parte do laço.\n",
    "\n",
    "Aqui também usamos o operador compacto `+=`: `n += 1` é o mesmo que `n = n + 1`."
   ]
  },
  {
   "cell_type": "code",
   "execution_count": 102,
   "metadata": {},
   "outputs": [
    {
     "name": "stdout",
     "output_type": "stream",
     "text": [
      "0\n",
      "1\n",
      "2\n",
      "3\n",
      "4\n",
      "5\n",
      "6\n",
      "7\n",
      "8\n",
      "9\n"
     ]
    }
   ],
   "source": [
    "n = 0\n",
    "while n < 10:\n",
    "    print(n)\n",
    "    n += 1"
   ]
  },
  {
   "cell_type": "markdown",
   "metadata": {},
   "source": [
    "Este foi um exemplo muito simples. Mas frequentemente usaremos a função `range()` nesta situação. Note que `range()` pode receber um passo (stride)."
   ]
  },
  {
   "cell_type": "code",
   "execution_count": 104,
   "metadata": {},
   "outputs": [
    {
     "data": {
      "text/plain": [
       "[2, 4, 6, 8]"
      ]
     },
     "execution_count": 104,
     "metadata": {},
     "output_type": "execute_result"
    }
   ],
   "source": [
    "list(range(2, 10, 2))"
   ]
  },
  {
   "cell_type": "markdown",
   "metadata": {},
   "source": [
    "Vamos analisar cada parte:\n",
    "\n",
    "- **`range(start, stop, step)`**: A função `range()` gera uma sequência de números. Ela aceita três argumentos:\n",
    "  - **`start`**: O valor inicial da sequência (inclusivo). No nosso caso, é `2`.\n",
    "  - **`stop`**: O valor final da sequência (exclusivo). Aqui, é `10`, o que significa que a sequência irá parar antes de chegar a `10`.\n",
    "  - **`step`**: O incremento entre cada número na sequência. Neste exemplo, o passo é `2`, o que significa que os números gerados aumentarão de `2` em `2`."
   ]
  },
  {
   "cell_type": "code",
   "execution_count": 103,
   "metadata": {
    "tags": []
   },
   "outputs": [
    {
     "name": "stdout",
     "output_type": "stream",
     "text": [
      "2\n",
      "4\n",
      "6\n",
      "8\n"
     ]
    }
   ],
   "source": [
    "for n in range(2, 10, 2):\n",
    "    print(n)"
   ]
  },
  {
   "cell_type": "markdown",
   "metadata": {},
   "source": [
    "## Instruções If"
   ]
  },
  {
   "cell_type": "markdown",
   "metadata": {},
   "source": [
    "`if` permite a ramificação. O Python não possui uma instrução select/case como algumas outras linguagens, mas `if`, `elif` e `else` podem reproduzir qualquer funcionalidade de ramificação que você possa precisar."
   ]
  },
  {
   "cell_type": "code",
   "execution_count": 116,
   "metadata": {},
   "outputs": [
    {
     "name": "stdout",
     "output_type": "stream",
     "text": [
      "zero\n"
     ]
    }
   ],
   "source": [
    "x = 0\n",
    "\n",
    "if x < 0:\n",
    "    print(\"negativo\")\n",
    "elif x == 0:\n",
    "    print(\"zero\")\n",
    "else:\n",
    "    print(\"positivo\")\n"
   ]
  },
  {
   "cell_type": "markdown",
   "metadata": {},
   "source": [
    "## Iterando sobre elementos"
   ]
  },
  {
   "cell_type": "markdown",
   "metadata": {},
   "source": [
    "É fácil iterar sobre itens em uma lista ou qualquer objeto _iterável_. O operador `in` é a chave aqui."
   ]
  },
  {
   "cell_type": "code",
   "execution_count": 117,
   "metadata": {},
   "outputs": [
    {
     "name": "stdout",
     "output_type": "stream",
     "text": [
      "1\n",
      "2.0\n",
      "três\n",
      "4\n"
     ]
    }
   ],
   "source": [
    "alist = [1, 2.0, \"três\", 4]\n",
    "for a in alist:\n",
    "    print(a)"
   ]
  },
  {
   "cell_type": "code",
   "execution_count": 118,
   "metadata": {},
   "outputs": [
    {
     "name": "stdout",
     "output_type": "stream",
     "text": [
      "1\n",
      "2.0\n",
      "três\n",
      "4\n"
     ]
    }
   ],
   "source": [
    "## Don't do this\n",
    "for i in [0,1,2,3]:\n",
    "    print(alist[i])"
   ]
  },
  {
   "cell_type": "code",
   "execution_count": 70,
   "metadata": {},
   "outputs": [
    {
     "name": "stdout",
     "output_type": "stream",
     "text": [
      "i\n",
      "s\n",
      "t\n",
      "o\n",
      " \n",
      "é\n",
      " \n",
      "u\n",
      "m\n",
      "a\n",
      " \n",
      "s\n",
      "t\n",
      "r\n",
      "i\n",
      "n\n",
      "g\n"
     ]
    }
   ],
   "source": [
    "for c in \"isto é uma string\":\n",
    "    print(c)"
   ]
  },
  {
   "cell_type": "markdown",
   "metadata": {},
   "source": [
    "Podemos combinar laços e testes `if` para realizar lógicas mais complexas, como sair do laço quando você encontra o que está procurando."
   ]
  },
  {
   "cell_type": "code",
   "execution_count": 119,
   "metadata": {},
   "outputs": [
    {
     "name": "stdout",
     "output_type": "stream",
     "text": [
      "2\n"
     ]
    }
   ],
   "source": [
    "n = 0\n",
    "for a in alist:\n",
    "    if a == \"três\":\n",
    "        break\n",
    "    else:\n",
    "        n += 1\n",
    "\n",
    "print(n)\n"
   ]
  },
  {
   "cell_type": "markdown",
   "metadata": {},
   "source": [
    "(No entanto, para esse exemplo, há uma maneira mais simples.)"
   ]
  },
  {
   "cell_type": "code",
   "execution_count": 120,
   "metadata": {},
   "outputs": [
    {
     "data": {
      "text/plain": [
       "2"
      ]
     },
     "execution_count": 120,
     "metadata": {},
     "output_type": "execute_result"
    }
   ],
   "source": [
    "alist.index(\"três\")"
   ]
  },
  {
   "cell_type": "markdown",
   "metadata": {},
   "source": [
    "Para dicionários, você também pode iterar sobre os elementos."
   ]
  },
  {
   "cell_type": "code",
   "execution_count": 71,
   "metadata": {},
   "outputs": [
    {
     "name": "stdout",
     "output_type": "stream",
     "text": [
      "chave = chave1, valor = 1\n",
      "chave = chave2, valor = 2\n",
      "chave = chave3, valor = 3\n"
     ]
    }
   ],
   "source": [
    "my_dict = {\"chave1\":1, \"chave2\":2, \"chave3\":3}\n",
    "\n",
    "for k, v in my_dict.items():\n",
    "    print(\"chave = {}, valor = {}\".format(k, v))    # notice how we do the formatting here\n"
   ]
  },
  {
   "cell_type": "code",
   "execution_count": 72,
   "metadata": {},
   "outputs": [
    {
     "name": "stdout",
     "output_type": "stream",
     "text": [
      "chave1 1\n",
      "chave2 2\n",
      "chave3 3\n"
     ]
    }
   ],
   "source": [
    "for k in my_dict:\n",
    "    print(k, my_dict[k])"
   ]
  },
  {
   "cell_type": "markdown",
   "metadata": {},
   "source": [
    "Às vezes, queremos iterar sobre um elemento de uma lista e saber seu índice — `enumerate()` ajuda aqui:"
   ]
  },
  {
   "cell_type": "code",
   "execution_count": 121,
   "metadata": {},
   "outputs": [
    {
     "name": "stdout",
     "output_type": "stream",
     "text": [
      "0 1\n",
      "1 2.0\n",
      "2 três\n",
      "3 4\n"
     ]
    }
   ],
   "source": [
    "for n, a in enumerate(alist):\n",
    "    print(n, a)"
   ]
  },
  {
   "cell_type": "markdown",
   "metadata": {},
   "source": [
    "   \n",
    "A função `zip()` nos permite iterar sobre dois iteráveis ao mesmo tempo. Assim `zip(a, b)` atuará como uma lista, onde cada elemento é uma tupla com um item de `a` e o elemento correspondente de `b`."
   ]
  },
  {
   "cell_type": "code",
   "execution_count": 116,
   "metadata": {},
   "outputs": [
    {
     "name": "stdout",
     "output_type": "stream",
     "text": [
      "1 a\n",
      "2 b\n",
      "3 c\n",
      "4 d\n",
      "5 e\n",
      "6 f\n",
      "7 g\n",
      "8 h\n"
     ]
    }
   ],
   "source": [
    "a = [1, 2, 3, 4, 5, 6, 7, 8]\n",
    "b = [\"a\", \"b\", \"c\", \"d\", \"e\", \"f\", \"g\", \"h\"]\n",
    "\n",
    "\n",
    "for x,y in zip(a,b):\n",
    "    print(x,y)\n",
    "\n"
   ]
  },
  {
   "cell_type": "code",
   "execution_count": 117,
   "metadata": {},
   "outputs": [
    {
     "data": {
      "text/plain": [
       "[(1, 'a'),\n",
       " (2, 'b'),\n",
       " (3, 'c'),\n",
       " (4, 'd'),\n",
       " (5, 'e'),\n",
       " (6, 'f'),\n",
       " (7, 'g'),\n",
       " (8, 'h')]"
      ]
     },
     "execution_count": 117,
     "metadata": {},
     "output_type": "execute_result"
    }
   ],
   "source": [
    "list(zip(a,b))"
   ]
  },
  {
   "cell_type": "markdown",
   "metadata": {},
   "source": [
    "```{admonition} Exercício Rápido:\n",
    "    \n",
    "\n",
    "A função `.split()` em uma string pode dividi-la em palavras (separando por espaços).\n",
    "\n",
    "Usando `.split()`, itere sobre as palavras na string\n",
    "\n",
    "`a = \"O rato roeu a roupa do rei de roma\"`\n",
    "\n",
    "e imprima uma palavra por linha.\n",
    "\n",
    "```"
   ]
  },
  {
   "cell_type": "code",
   "execution_count": null,
   "metadata": {},
   "outputs": [],
   "source": []
  },
  {
   "cell_type": "markdown",
   "metadata": {},
   "source": [
    "# Funções"
   ]
  },
  {
   "cell_type": "markdown",
   "metadata": {},
   "source": [
    "As funções são usadas para organizar o fluxo do programa, especialmente para nos permitir realizar facilmente tarefas comumente necessárias repetidamente. Já usamos muitas funções, como aquelas que trabalham com listas (`append()` e `pop()`) ou strings (como `replace()`). Aqui, veremos como escrever nossas próprias funções."
   ]
  },
  {
   "cell_type": "markdown",
   "metadata": {},
   "source": [
    "Uma função recebe argumentos, listados entre `()`, e retorna um valor. Mesmo que você não forneça explicitamente um valor de retorno, um valor será retornado (por exemplo, `None`).\n",
    "\n",
    "Aqui está um exemplo simples de uma função que recebe um único argumento, `i`:"
   ]
  },
  {
   "cell_type": "code",
   "execution_count": 80,
   "metadata": {},
   "outputs": [
    {
     "name": "stdout",
     "output_type": "stream",
     "text": [
      "na função temos que i = 10\n",
      "na função temos que i = 5\n"
     ]
    }
   ],
   "source": [
    "def minha_func(i):\n",
    "    print(f\"na função temos que i = {i}\")\n",
    "    \n",
    "minha_func(10)\n",
    "minha_func(5)"
   ]
  },
  {
   "cell_type": "markdown",
   "metadata": {},
   "source": [
    "As funções são um lugar onde o _escopo_ entra em jogo. Uma função tem seu próprio _namespace_. Se uma variável não estiver definida nessa função, ela procurará no namespace de onde foi chamada para ver se essa variável existe lá.\n",
    "\n",
    "No entanto, você deve evitar isso tanto quanto possível (variáveis que persistem entre namespaces são chamadas de variáveis globais).\n",
    "\n",
    "Veja se você entende o que está acontecendo aqui:"
   ]
  },
  {
   "cell_type": "code",
   "execution_count": 81,
   "metadata": {},
   "outputs": [
    {
     "data": {
      "text/plain": [
       "(11, 101)"
      ]
     },
     "execution_count": 81,
     "metadata": {},
     "output_type": "execute_result"
    }
   ],
   "source": [
    "c=100\n",
    "\n",
    "def soma_c(a):\n",
    "    c= 10\n",
    "    return a+c\n",
    "\n",
    "def soma_c_denovo(a):\n",
    "    return a+c\n",
    "\n",
    "soma_c(1), soma_c_denovo(1)\n",
    "\n"
   ]
  },
  {
   "cell_type": "markdown",
   "metadata": {},
   "source": [
    "As funções sempre retornam um valor — se um valor não for explicitamente fornecido, então elas retornam `None`; caso contrário, podem retornar valores (até mesmo múltiplos valores) de qualquer tipo."
   ]
  },
  {
   "cell_type": "code",
   "execution_count": 82,
   "metadata": {},
   "outputs": [
    {
     "name": "stdout",
     "output_type": "stream",
     "text": [
      "na função temos que i = 10\n"
     ]
    }
   ],
   "source": [
    "a = minha_func(10)"
   ]
  },
  {
   "cell_type": "code",
   "execution_count": 77,
   "metadata": {},
   "outputs": [
    {
     "name": "stdout",
     "output_type": "stream",
     "text": [
      "None\n"
     ]
    }
   ],
   "source": [
    "print(a)"
   ]
  },
  {
   "cell_type": "markdown",
   "metadata": {},
   "source": [
    "Aqui está uma função simples que recebe dois números e retorna seu produto."
   ]
  },
  {
   "cell_type": "code",
   "execution_count": 83,
   "metadata": {
    "tags": []
   },
   "outputs": [
    {
     "data": {
      "text/plain": [
       "12"
      ]
     },
     "execution_count": 83,
     "metadata": {},
     "output_type": "execute_result"
    }
   ],
   "source": [
    "def multiplique(a, b):\n",
    "    return a*b\n",
    "\n",
    "c = multiplique(3, 4)\n",
    "c"
   ]
  },
  {
   "cell_type": "markdown",
   "metadata": {},
   "source": [
    "Retornar mais números é simples (sem estruturas, ponteiros e tudo isso)."
   ]
  },
  {
   "cell_type": "code",
   "execution_count": 84,
   "metadata": {},
   "outputs": [
    {
     "data": {
      "text/plain": [
       "(11, 12)"
      ]
     },
     "execution_count": 84,
     "metadata": {},
     "output_type": "execute_result"
    }
   ],
   "source": [
    "def medêambos(a, b):\n",
    "    return a+10, b+10\n",
    "\n",
    "medêambos(1,2)"
   ]
  },
  {
   "cell_type": "markdown",
   "metadata": {},
   "source": [
    "```{admonition} Exercício Rapído\n",
    "    \n",
    "Escreva uma função simples que recebe uma frase (como uma string) e retorna um inteiro igual ao comprimento da palavra mais longa na frase. A função `len()` e o método `.split()` serão úteis aqui.\n",
    "\n",
    "```"
   ]
  },
  {
   "cell_type": "markdown",
   "metadata": {},
   "source": [
    "`None` é uma quantidade especial em Python (análoga ao `null` em algumas outras linguagens). Podemos testar se um valor é `None` — a maneira preferida é usar `is`:"
   ]
  },
  {
   "cell_type": "code",
   "execution_count": 85,
   "metadata": {
    "tags": []
   },
   "outputs": [
    {
     "name": "stdout",
     "output_type": "stream",
     "text": [
      "não fizemos nada\n"
     ]
    }
   ],
   "source": [
    "def faça_nada():\n",
    "    pass\n",
    "\n",
    "a = faça_nada()\n",
    "if a is None:\n",
    "    print(\"não fizemos nada\")"
   ]
  },
  {
   "cell_type": "code",
   "execution_count": 132,
   "metadata": {
    "tags": []
   },
   "outputs": [
    {
     "data": {
      "text/plain": [
       "True"
      ]
     },
     "execution_count": 132,
     "metadata": {},
     "output_type": "execute_result"
    }
   ],
   "source": [
    "a is None"
   ]
  },
  {
   "cell_type": "markdown",
   "metadata": {},
   "source": [
    "## Funções Mais Complexas\n",
    "\n",
    "Aqui está um exemplo mais complexo em que retornamos um par de variáveis. Também note a _docstring_ aqui."
   ]
  },
  {
   "cell_type": "markdown",
   "metadata": {},
   "source": [
    "```{information}\n",
    "A sequência de Fibonacci é uma série de números inteiros que começa com 0 e 1, na qual cada número seguinte é a soma dos dois números anteriores.\n",
    "```"
   ]
  },
  {
   "cell_type": "code",
   "execution_count": 90,
   "metadata": {
    "tags": []
   },
   "outputs": [
    {
     "name": "stdout",
     "output_type": "stream",
     "text": [
      "[0, 1, 1, 2, 3, 5, 8, 13, 21, 34, 55, 89, 144, 233] \n",
      " 14\n"
     ]
    }
   ],
   "source": [
    "def fib2(n):\n",
    "    \"\"\"Retorna uma lista contendo a série de Fibonacci até n.\"\"\"\n",
    "    result = []\n",
    "    a, b = 0, 1\n",
    "    while a < n:\n",
    "        result.append(a)    # see below\n",
    "        a, b = b, a+b\n",
    "    return result, len(result)\n",
    "\n",
    "fib, n = fib2(250)\n",
    "print(fib,\"\\n\",n)"
   ]
  },
  {
   "cell_type": "markdown",
   "metadata": {},
   "source": [
    "Observe que esta função inclui uma docstring (logo após a definição da função). Ela é utilizada pela função `help`."
   ]
  },
  {
   "cell_type": "code",
   "execution_count": 91,
   "metadata": {},
   "outputs": [
    {
     "name": "stdout",
     "output_type": "stream",
     "text": [
      "Help on function fib2 in module __main__:\n",
      "\n",
      "fib2(n)\n",
      "    Retorna uma lista contendo a série de Fibonacci até n.\n",
      "\n"
     ]
    }
   ],
   "source": [
    "help(fib2)"
   ]
  },
  {
   "cell_type": "markdown",
   "metadata": {},
   "source": [
    "Você pode ter argumentos opcionais que fornecem valores padrão. Aqui está uma função simples que valida uma resposta, com um argumento opcional que pode fornecer a resposta correta."
   ]
  },
  {
   "cell_type": "code",
   "execution_count": 122,
   "metadata": {
    "tags": []
   },
   "outputs": [
    {
     "name": "stdout",
     "output_type": "stream",
     "text": [
      "True\n",
      "False\n"
     ]
    }
   ],
   "source": [
    "def checar_resposta(val, resposta_correta=\"a\"):\n",
    "    return val == resposta_correta\n",
    "\n",
    "print(checar_resposta(\"a\"))\n",
    "print(checar_resposta(\"a\", resposta_correta=\"b\"))"
   ]
  },
  {
   "cell_type": "markdown",
   "metadata": {},
   "source": [
    "```{admonition} Exercício\n",
    "    \n",
    "\n",
    "Execute esses dois blocos de código e entenda/explique a diferença... **Isso leva a um dos erros mais comuns para iniciantes em Python**\n",
    "\n",
    "Isto:\n",
    "\n",
    "````python    \n",
    "    def f(a, L=[]):\n",
    "        L.append(a)\n",
    "        return L\n",
    "\n",
    "    print(f(1))\n",
    "    print(f(2))\n",
    "    print(f(3))\n",
    "    \n",
    "e isto:\n",
    " ````python    \n",
    "    def fnew(a, L=None):\n",
    "        if L is None:\n",
    "            L = []\n",
    "        L.append(a)\n",
    "        return L\n",
    "\n",
    "    print(fnew(1))\n",
    "    print(fnew(2))\n",
    "    print(fnew(3))   \n",
    "\n",
    "```"
   ]
  },
  {
   "cell_type": "markdown",
   "metadata": {},
   "source": [
    "```{tip} \n",
    ":class: dropdown\n",
    "### Solução\n",
    "Observe que cada chamada na função `f` não cria sua própria lista separada. Em vez disso, uma única lista vazia foi criada quando a função `f` foi processada pela primeira vez, e essa lista persiste na memória como o valor padrão para o argumento opcional `L`.\n",
    "\n",
    "Se quisermos que uma lista única seja criada a cada vez (ou seja, um local separado na memória), devemos inicializar o valor do argumento como None e, em seguida, verificar seu valor real e criar uma lista vazia no corpo da função se o valor padrão não tiver sido alterado. Assim como foi executado na função `fnovo`\n",
    "```"
   ]
  },
  {
   "cell_type": "markdown",
   "metadata": {},
   "source": [
    "## Lambdas"
   ]
  },
  {
   "cell_type": "markdown",
   "metadata": {},
   "source": [
    "Lambdas são funções \"descartáveis\". Essas são pequenas funções sem nome que são frequentemente usadas como argumentos em outras funções. Os seguintes exemplos são equivalentes:"
   ]
  },
  {
   "cell_type": "code",
   "execution_count": 80,
   "metadata": {},
   "outputs": [],
   "source": [
    "def aoquadrado(x):\n",
    "    return x**2\n",
    "\n",
    "aoquadrado = lambda x : x**2"
   ]
  },
  {
   "cell_type": "markdown",
   "metadata": {},
   "source": [
    "Por exemplo: temos uma lista de tuplas e queremos ordenar a lista com base no segundo item da tupla. O método `sort` pode receber um argumento opcional `key` que nos diz como interpretar o item da lista para a ordenação."
   ]
  },
  {
   "cell_type": "code",
   "execution_count": 92,
   "metadata": {},
   "outputs": [
    {
     "data": {
      "text/plain": [
       "[(1, 'um'), (2, 'dois'), (3, 'três'), (4, 'quatro')]"
      ]
     },
     "execution_count": 92,
     "metadata": {},
     "output_type": "execute_result"
    }
   ],
   "source": [
    "pairs = [(1, 'um'), (2, 'dois'), (3, 'três'), (4, 'quatro')]\n",
    "pairs.sort()\n",
    "pairs"
   ]
  },
  {
   "cell_type": "code",
   "execution_count": 93,
   "metadata": {},
   "outputs": [
    {
     "data": {
      "text/plain": [
       "[(2, 'dois'), (4, 'quatro'), (3, 'três'), (1, 'um')]"
      ]
     },
     "execution_count": 93,
     "metadata": {},
     "output_type": "execute_result"
    }
   ],
   "source": [
    "pairs.sort(key=lambda p: p[1])\n",
    "pairs"
   ]
  },
  {
   "cell_type": "markdown",
   "metadata": {},
   "source": [
    "Aqui usamos uma lambda em um extrato de uma lista (com a função filter)."
   ]
  },
  {
   "cell_type": "code",
   "execution_count": 145,
   "metadata": {},
   "outputs": [
    {
     "data": {
      "text/plain": [
       "[1]"
      ]
     },
     "execution_count": 145,
     "metadata": {},
     "output_type": "execute_result"
    }
   ],
   "source": [
    "list(filter(lambda x:x==1, [1,2,3]))"
   ]
  },
  {
   "cell_type": "code",
   "execution_count": 94,
   "metadata": {},
   "outputs": [
    {
     "data": {
      "text/plain": [
       "[0,\n",
       " 36,\n",
       " 144,\n",
       " 324,\n",
       " 576,\n",
       " 900,\n",
       " 1296,\n",
       " 1764,\n",
       " 2304,\n",
       " 2916,\n",
       " 3600,\n",
       " 4356,\n",
       " 5184,\n",
       " 6084,\n",
       " 7056,\n",
       " 8100,\n",
       " 9216]"
      ]
     },
     "execution_count": 94,
     "metadata": {},
     "output_type": "execute_result"
    }
   ],
   "source": [
    "squares = [x**2 for x in range(100)]\n",
    "sq = list(filter(lambda x : x%2 == 0 and x%3 == 0, squares))\n",
    "sq"
   ]
  },
  {
   "cell_type": "code",
   "execution_count": null,
   "metadata": {},
   "outputs": [],
   "source": []
  },
  {
   "cell_type": "markdown",
   "metadata": {},
   "source": [
    "# Miscellaneous\n",
    "There are a lot of topics that we didn’t cover, as well as a lot of the python standard library that we won’t address. Here we introduce a few more concepts."
   ]
  },
  {
   "cell_type": "markdown",
   "metadata": {},
   "source": [
    "# Exceptions"
   ]
  },
  {
   "cell_type": "markdown",
   "metadata": {},
   "source": [
    "Python raises exceptions when it encounters an error.  The idea is that you can trap these exceptions and take an appropriate action instead of causing the code to crash.  The mechanism for this is `try` / `except`.  Here's an example that causes an exception, `ZeroDivisionError`:"
   ]
  },
  {
   "cell_type": "code",
   "execution_count": 175,
   "metadata": {},
   "outputs": [
    {
     "ename": "ZeroDivisionError",
     "evalue": "division by zero",
     "output_type": "error",
     "traceback": [
      "\u001b[0;31m---------------------------------------------------------------------------\u001b[0m",
      "\u001b[0;31mZeroDivisionError\u001b[0m                         Traceback (most recent call last)",
      "Cell \u001b[0;32mIn[175], line 1\u001b[0m\n\u001b[0;32m----> 1\u001b[0m a \u001b[38;5;241m=\u001b[39m \u001b[38;5;241;43m1\u001b[39;49m\u001b[38;5;241;43m/\u001b[39;49m\u001b[38;5;241;43m0\u001b[39;49m\n",
      "\u001b[0;31mZeroDivisionError\u001b[0m: division by zero"
     ]
    }
   ],
   "source": [
    "a = 1/0"
   ]
  },
  {
   "cell_type": "markdown",
   "metadata": {},
   "source": [
    "and here we handle this  "
   ]
  },
  {
   "cell_type": "code",
   "execution_count": 176,
   "metadata": {
    "scrolled": true
   },
   "outputs": [
    {
     "name": "stdout",
     "output_type": "stream",
     "text": [
      "warning: you divided by zero\n"
     ]
    },
    {
     "data": {
      "text/plain": [
       "1"
      ]
     },
     "execution_count": 176,
     "metadata": {},
     "output_type": "execute_result"
    }
   ],
   "source": [
    "try:\n",
    "    a = 1/0\n",
    "except ZeroDivisionError:\n",
    "    print(\"warning: you divided by zero\")\n",
    "    a = 1\n",
    "\n",
    "a"
   ]
  },
  {
   "cell_type": "code",
   "execution_count": 177,
   "metadata": {},
   "outputs": [],
   "source": [
    "def rec(a):\n",
    "    try:\n",
    "        b=1/a\n",
    "    except ZeroDivisionError:\n",
    "        print(\"warning: you divided by zero\")\n",
    "        b=None\n",
    "    return b"
   ]
  },
  {
   "cell_type": "code",
   "execution_count": 178,
   "metadata": {},
   "outputs": [
    {
     "name": "stdout",
     "output_type": "stream",
     "text": [
      "warning: you divided by zero\n",
      "None\n"
     ]
    }
   ],
   "source": [
    "print(rec(0))"
   ]
  },
  {
   "cell_type": "markdown",
   "metadata": {},
   "source": [
    "Another example&mdash;trying to access a key that doesn't exist in a dictionary:"
   ]
  },
  {
   "cell_type": "code",
   "execution_count": 179,
   "metadata": {},
   "outputs": [
    {
     "ename": "KeyError",
     "evalue": "'d'",
     "output_type": "error",
     "traceback": [
      "\u001b[0;31m---------------------------------------------------------------------------\u001b[0m",
      "\u001b[0;31mKeyError\u001b[0m                                  Traceback (most recent call last)",
      "Cell \u001b[0;32mIn[179], line 2\u001b[0m\n\u001b[1;32m      1\u001b[0m \u001b[38;5;28mdict\u001b[39m \u001b[38;5;241m=\u001b[39m {\u001b[38;5;124m\"\u001b[39m\u001b[38;5;124ma\u001b[39m\u001b[38;5;124m\"\u001b[39m:\u001b[38;5;241m1\u001b[39m, \u001b[38;5;124m\"\u001b[39m\u001b[38;5;124mb\u001b[39m\u001b[38;5;124m\"\u001b[39m:\u001b[38;5;241m2\u001b[39m, \u001b[38;5;124m\"\u001b[39m\u001b[38;5;124mc\u001b[39m\u001b[38;5;124m\"\u001b[39m:\u001b[38;5;241m3\u001b[39m}\n\u001b[0;32m----> 2\u001b[0m \u001b[38;5;28mprint\u001b[39m(\u001b[38;5;28;43mdict\u001b[39;49m\u001b[43m[\u001b[49m\u001b[38;5;124;43m\"\u001b[39;49m\u001b[38;5;124;43md\u001b[39;49m\u001b[38;5;124;43m\"\u001b[39;49m\u001b[43m]\u001b[49m)\n",
      "\u001b[0;31mKeyError\u001b[0m: 'd'"
     ]
    }
   ],
   "source": [
    "dict = {\"a\":1, \"b\":2, \"c\":3}\n",
    "print(dict[\"d\"])\n"
   ]
  },
  {
   "cell_type": "markdown",
   "metadata": {},
   "source": [
    "`KeyError` is the exception that was raised.  We can check for this and take the appropriate action instead"
   ]
  },
  {
   "cell_type": "code",
   "execution_count": 181,
   "metadata": {},
   "outputs": [
    {
     "name": "stdout",
     "output_type": "stream",
     "text": [
      "None\n"
     ]
    }
   ],
   "source": [
    "try:\n",
    "    val = dict[\"d\"]\n",
    "except KeyError:\n",
    "    val = None\n",
    "\n",
    "print(val)"
   ]
  },
  {
   "cell_type": "code",
   "execution_count": 185,
   "metadata": {},
   "outputs": [
    {
     "name": "stdout",
     "output_type": "stream",
     "text": [
      "1\n",
      "2\n",
      "3\n"
     ]
    },
    {
     "ename": "ZeroDivisionError",
     "evalue": "",
     "output_type": "error",
     "traceback": [
      "\u001b[0;31m---------------------------------------------------------------------------\u001b[0m",
      "\u001b[0;31mZeroDivisionError\u001b[0m                         Traceback (most recent call last)",
      "Cell \u001b[0;32mIn[185], line 6\u001b[0m\n\u001b[1;32m      4\u001b[0m \u001b[38;5;28mprint\u001b[39m(x)\n\u001b[1;32m      5\u001b[0m \u001b[38;5;28;01mif\u001b[39;00m x\u001b[38;5;241m==\u001b[39m\u001b[38;5;241m3\u001b[39m:\n\u001b[0;32m----> 6\u001b[0m     \u001b[38;5;28;01mraise\u001b[39;00m \u001b[38;5;167;01mZeroDivisionError\u001b[39;00m\n",
      "\u001b[0;31mZeroDivisionError\u001b[0m: "
     ]
    }
   ],
   "source": [
    "a=[1,2,3]\n",
    "\n",
    "for x in a:\n",
    "    print(x)\n",
    "    if x==3:\n",
    "        raise ZeroDivisionError"
   ]
  },
  {
   "cell_type": "markdown",
   "metadata": {},
   "source": [
    "There are a lot of different types of exceptions that you can catch, and you can catch multiple ones per except clause or have multiple except clauses.  You probably won't be able to anticipate every failure mode in advance.  In that case, when you run and your code crashes because of an exception, the python interpreter will print out the name of the exception and you can then modify your code to take the appropriate action."
   ]
  },
  {
   "cell_type": "markdown",
   "metadata": {},
   "source": [
    "# File I/O"
   ]
  },
  {
   "cell_type": "markdown",
   "metadata": {},
   "source": [
    "One of the main things that we want to do in scientific computing is get data into and out of our programs.  In addition to plain text files, there are modules that can read lots of different data formats we might encounter."
   ]
  },
  {
   "cell_type": "markdown",
   "metadata": {},
   "source": [
    "As expected, a file is an object.  Here we'll use the `try`, `except` block to capture exceptions (like if the file cannot be opened). "
   ]
  },
  {
   "cell_type": "code",
   "execution_count": 190,
   "metadata": {},
   "outputs": [
    {
     "name": "stdout",
     "output_type": "stream",
     "text": [
      "<_io.TextIOWrapper name='./mywrite.txt' mode='w' encoding='UTF-8'>\n"
     ]
    }
   ],
   "source": [
    "try: f = open(\"./mywrite.txt\", \"w\")   # open for writing -- any file of the same name will be overwritten\n",
    "except: \n",
    "    print(\"cannot open the file\")\n",
    "\n",
    "print(f)\n"
   ]
  },
  {
   "cell_type": "code",
   "execution_count": null,
   "metadata": {},
   "outputs": [],
   "source": []
  },
  {
   "cell_type": "code",
   "execution_count": 191,
   "metadata": {},
   "outputs": [],
   "source": [
    "f.write(\"this is my first write\\n\")\n",
    "f.close()"
   ]
  },
  {
   "cell_type": "markdown",
   "metadata": {},
   "source": [
    "We can easily loop over the lines in a file"
   ]
  },
  {
   "cell_type": "code",
   "execution_count": 193,
   "metadata": {},
   "outputs": [
    {
     "name": "stdout",
     "output_type": "stream",
     "text": [
      "['Lorem', 'ipsum', 'dolor', 'sit', 'amet,', 'consectetur', 'adipisicing', 'elit,', 'sed', 'do']\n",
      "['eiusmod', 'tempor', 'incididunt', 'ut', 'labore', 'et', 'dolore', 'magna', 'aliqua.', 'Ut', 'enim', 'ad']\n",
      "['minim', 'veniam,', 'quis', 'nostrud', 'exercitation', 'ullamco', 'laboris', 'nisi', 'ut']\n",
      "['aliquip', 'ex', 'ea', 'commodo', 'consequat.', 'Duis', 'aute', 'irure', 'dolor', 'in']\n",
      "['reprehenderit', 'in', 'voluptate', 'velit', 'esse', 'cillum', 'dolore', 'eu', 'fugiat', 'nulla']\n",
      "['pariatur.', 'Excepteur', 'sint', 'occaecat', 'cupidatat', 'non', 'proident,', 'sunt', 'in']\n",
      "['culpa', 'qui', 'officia', 'deserunt', 'mollit', 'anim', 'id', 'est', 'laborum.']\n",
      "[]\n"
     ]
    }
   ],
   "source": [
    "try: \n",
    "    f = open(\"./test.txt\", \"r\")\n",
    "except:\n",
    "    print(\"error: cannot open the file\")\n",
    "    \n",
    "for line in f:\n",
    "    print(line.split())\n",
    "    \n",
    "f.close()"
   ]
  },
  {
   "cell_type": "markdown",
   "metadata": {},
   "source": [
    "As mentioned earlier, there are lots of string functions. Above we used `strip()` to remove the trailing whitespace and returns"
   ]
  },
  {
   "cell_type": "markdown",
   "metadata": {},
   "source": [
    "Observe que se tentarmos abrir um arquivo que não existe, ele irá partir para o bloco do `except` e executará o `print`"
   ]
  },
  {
   "cell_type": "code",
   "execution_count": 194,
   "metadata": {},
   "outputs": [
    {
     "name": "stdout",
     "output_type": "stream",
     "text": [
      "error: cannot open the file\n"
     ]
    }
   ],
   "source": [
    "try: \n",
    "    f = open(\"./tessasssst.txt\", \"r\")\n",
    "except:\n",
    "    print(\"error: cannot open the file\")"
   ]
  },
  {
   "cell_type": "markdown",
   "metadata": {},
   "source": [
    "In practice, we never read files explicitly but use some library. Specific data format ofen have dedicated modules, like `cvs` for cvs files and `configparser` for ini files. Nesta nota de aula iremos abordar apenas arquivos `cvs`."
   ]
  },
  {
   "cell_type": "markdown",
   "metadata": {},
   "source": [
    "comma-separated values are an easy way to exchange data – you can generate these from a spreadsheet program. In the example below, we are assuming that the first line of the spreadsheet/csv file gives the headings that identify the columns.\n",
    "\n",
    "Note that there is an amazing amount of variation in terms of what can be in a CSV file and what the format is – the csv module does a good job sorting this all out for you."
   ]
  },
  {
   "cell_type": "markdown",
   "metadata": {},
   "source": [
    "Colocar algum exemplo lendo csv e depois ver algo para salvar em csv."
   ]
  },
  {
   "cell_type": "code",
   "execution_count": 199,
   "metadata": {},
   "outputs": [
    {
     "data": {
      "text/plain": [
       "[1, 4, 9]"
      ]
     },
     "execution_count": 199,
     "metadata": {},
     "output_type": "execute_result"
    }
   ],
   "source": [
    "f = lambda x:x*2\n",
    "\n",
    "a =[1,2,3]\n",
    "\n",
    "list(map(f,a))\n",
    "\n",
    "[x**2 for x in a]"
   ]
  },
  {
   "cell_type": "code",
   "execution_count": 205,
   "metadata": {},
   "outputs": [
    {
     "name": "stdout",
     "output_type": "stream",
     "text": [
      "[1, 2, 3]\n",
      "2\n",
      "3\n"
     ]
    }
   ],
   "source": [
    "print(a)\n",
    "\n",
    "for x in a:\n",
    "    if x==1:\n",
    "        continue\n",
    "    \n",
    "    print(x)\n",
    "    "
   ]
  },
  {
   "cell_type": "code",
   "execution_count": 206,
   "metadata": {},
   "outputs": [],
   "source": [
    "a=[1,2,3,4,5,5,5]"
   ]
  },
  {
   "cell_type": "code",
   "execution_count": 210,
   "metadata": {},
   "outputs": [
    {
     "name": "stdout",
     "output_type": "stream",
     "text": [
      "1\n",
      "2\n",
      "3\n",
      "4\n",
      "5\n",
      "5\n",
      "5\n",
      "\n",
      "1\n",
      "2\n",
      "3\n",
      "4\n",
      "5\n"
     ]
    }
   ],
   "source": [
    "for x in a:\n",
    "    print(x)\n",
    "print(\"\")\n",
    "for x in set(a):    \n",
    "    print(x)"
   ]
  },
  {
   "cell_type": "markdown",
   "metadata": {},
   "source": [
    "# Exercises\n",
    "\n",
    "Work on those you like the most. For the exam, preparing 2 of these is enough (or say 3 if you pick those that are very short)."
   ]
  },
  {
   "cell_type": "markdown",
   "metadata": {},
   "source": [
    "## Q1: Machine precision\n",
    "\n",
    "When talking about floating point, we discussed _machine epsilon_, $\\epsilon$&mdash;this is the smallest number that when added to 1 is still different from 1.\n",
    "\n",
    "We'll compute $\\epsilon$ here:\n",
    "\n",
    "  * Pick an initial guess for $\\epsilon$ of `eps = 1`.  \n",
    "\n",
    "  * Create a loop that checks whether `1 + eps` is different from `1`\n",
    "  \n",
    "  * Each loop iteration, cut the value of `eps` in half\n",
    "  \n",
    "What value of $\\epsilon$ do you find?\n",
    "\n"
   ]
  },
  {
   "cell_type": "markdown",
   "metadata": {
    "tags": []
   },
   "source": [
    "## Q2: Iterations\n",
    "\n",
    "### Part 1\n",
    "\n",
    "To iterate over the tuples, where the _i_-th tuple contains the _i_-th elements of certain sequences, we can use `zip(*sequences)` function.\n",
    "\n",
    "We will iterate over two lists, `names` and `age`, and print out the resulting tuples.\n",
    "\n",
    "  * Start by initializing lists `names = [\"Mary\", \"John\", \"Sarah\"]` and `age = [21, 56, 98]`.\n",
    "  \n",
    "  * Iterate over the tuples containing a name and an age, the `zip(list1, list2)` function might be useful here.\n",
    "  \n",
    "  * Print out formatted strings of the type \"*NAME is AGE years old*\".\n",
    "  \n",
    "\n",
    "### Part 2\n",
    "\n",
    "The function `enumerate(sequence)` returns tuples containing indices of objects in the sequence, and the objects. \n",
    "\n",
    "The `random` module provides tools for working with the random numbers. In particular, `random.randint(start, end)` generates a random number not smaller than `start`, and not bigger than `end`.\n",
    "\n",
    "  * Generate a list of 10 random numbers from 0 to 9.\n",
    "  \n",
    "  * Using the `enumerate(random_list)` function, iterate over the tuples of random numbers and their indices, and print out *\"Match: NUMBER and INDEX\"* if the random number and its index in the list match."
   ]
  },
  {
   "cell_type": "markdown",
   "metadata": {},
   "source": [
    "## Q3: Books\n",
    "\n",
    "Here is a list of book titles (from http://thegreatestbooks.org).  Loop through the list and capitalize each word in each title. "
   ]
  },
  {
   "cell_type": "code",
   "execution_count": 25,
   "metadata": {
    "tags": []
   },
   "outputs": [],
   "source": [
    "titles = [\"don quixote\", \n",
    "          \"in search of lost time\", \n",
    "          \"ulysses\", \n",
    "          \"the odyssey\", \n",
    "          \"war and peace\", \n",
    "          \"moby dick\", \n",
    "          \"the divine comedy\", \n",
    "          \"hamlet\", \n",
    "          \"the adventures of huckleberry finn\", \n",
    "          \"the great gatsby\"]"
   ]
  },
  {
   "cell_type": "code",
   "execution_count": null,
   "metadata": {
    "tags": []
   },
   "outputs": [],
   "source": []
  },
  {
   "cell_type": "markdown",
   "metadata": {},
   "source": [
    "## Q4: Word counts\n",
    "\n",
    "Here's some text (the Gettysburg Address).  Our goal is to count how many times each word repeats.  We'll do a brute force method first, and then we'll look at ways to do it more efficiently (and compactly)."
   ]
  },
  {
   "cell_type": "code",
   "execution_count": 26,
   "metadata": {
    "tags": []
   },
   "outputs": [],
   "source": [
    "gettysburg_address = \"\"\"\n",
    "Four score and seven years ago our fathers brought forth on this continent, \n",
    "a new nation, conceived in Liberty, and dedicated to the proposition that \n",
    "all men are created equal.\n",
    "\n",
    "Now we are engaged in a great civil war, testing whether that nation, or \n",
    "any nation so conceived and so dedicated, can long endure. We are met on\n",
    "a great battle-field of that war. We have come to dedicate a portion of\n",
    "that field, as a final resting place for those who here gave their lives\n",
    "that that nation might live. It is altogether fitting and proper that we\n",
    "should do this.\n",
    "\n",
    "But, in a larger sense, we can not dedicate -- we can not consecrate -- we\n",
    "can not hallow -- this ground. The brave men, living and dead, who struggled\n",
    "here, have consecrated it, far above our poor power to add or detract.  The\n",
    "world will little note, nor long remember what we say here, but it can never\n",
    "forget what they did here. It is for us the living, rather, to be dedicated\n",
    "here to the unfinished work which they who fought here have thus far so nobly\n",
    "advanced. It is rather for us to be here dedicated to the great task remaining\n",
    "before us -- that from these honored dead we take increased devotion to that\n",
    "cause for which they gave the last full measure of devotion -- that we here\n",
    "highly resolve that these dead shall not have died in vain -- that this\n",
    "nation, under God, shall have a new birth of freedom -- and that government\n",
    "of the people, by the people, for the people, shall not perish from the earth.\n",
    "\"\"\""
   ]
  },
  {
   "cell_type": "markdown",
   "metadata": {},
   "source": [
    "We've already seen the `.split()` method will, by default, split by spaces, so it will split this into words, producing a list:"
   ]
  },
  {
   "cell_type": "code",
   "execution_count": 27,
   "metadata": {
    "tags": []
   },
   "outputs": [],
   "source": [
    "ga = gettysburg_address.split()"
   ]
  },
  {
   "cell_type": "code",
   "execution_count": 182,
   "metadata": {},
   "outputs": [
    {
     "data": {
      "text/plain": [
       "['Four',\n",
       " 'score',\n",
       " 'and',\n",
       " 'seven',\n",
       " 'years',\n",
       " 'ago',\n",
       " 'our',\n",
       " 'fathers',\n",
       " 'brought',\n",
       " 'forth',\n",
       " 'on',\n",
       " 'this',\n",
       " 'continent,',\n",
       " 'a',\n",
       " 'new',\n",
       " 'nation,',\n",
       " 'conceived',\n",
       " 'in',\n",
       " 'Liberty,',\n",
       " 'and',\n",
       " 'dedicated',\n",
       " 'to',\n",
       " 'the',\n",
       " 'proposition',\n",
       " 'that',\n",
       " 'all',\n",
       " 'men',\n",
       " 'are',\n",
       " 'created',\n",
       " 'equal.',\n",
       " 'Now',\n",
       " 'we',\n",
       " 'are',\n",
       " 'engaged',\n",
       " 'in',\n",
       " 'a',\n",
       " 'great',\n",
       " 'civil',\n",
       " 'war,',\n",
       " 'testing',\n",
       " 'whether',\n",
       " 'that',\n",
       " 'nation,',\n",
       " 'or',\n",
       " 'any',\n",
       " 'nation',\n",
       " 'so',\n",
       " 'conceived',\n",
       " 'and',\n",
       " 'so',\n",
       " 'dedicated,',\n",
       " 'can',\n",
       " 'long',\n",
       " 'endure.',\n",
       " 'We',\n",
       " 'are',\n",
       " 'met',\n",
       " 'on',\n",
       " 'a',\n",
       " 'great',\n",
       " 'battle-field',\n",
       " 'of',\n",
       " 'that',\n",
       " 'war.',\n",
       " 'We',\n",
       " 'have',\n",
       " 'come',\n",
       " 'to',\n",
       " 'dedicate',\n",
       " 'a',\n",
       " 'portion',\n",
       " 'of',\n",
       " 'that',\n",
       " 'field,',\n",
       " 'as',\n",
       " 'a',\n",
       " 'final',\n",
       " 'resting',\n",
       " 'place',\n",
       " 'for',\n",
       " 'those',\n",
       " 'who',\n",
       " 'here',\n",
       " 'gave',\n",
       " 'their',\n",
       " 'lives',\n",
       " 'that',\n",
       " 'that',\n",
       " 'nation',\n",
       " 'might',\n",
       " 'live.',\n",
       " 'It',\n",
       " 'is',\n",
       " 'altogether',\n",
       " 'fitting',\n",
       " 'and',\n",
       " 'proper',\n",
       " 'that',\n",
       " 'we',\n",
       " 'should',\n",
       " 'do',\n",
       " 'this.',\n",
       " 'But,',\n",
       " 'in',\n",
       " 'a',\n",
       " 'larger',\n",
       " 'sense,',\n",
       " 'we',\n",
       " 'can',\n",
       " 'not',\n",
       " 'dedicate',\n",
       " '--',\n",
       " 'we',\n",
       " 'can',\n",
       " 'not',\n",
       " 'consecrate',\n",
       " '--',\n",
       " 'we',\n",
       " 'can',\n",
       " 'not',\n",
       " 'hallow',\n",
       " '--',\n",
       " 'this',\n",
       " 'ground.',\n",
       " 'The',\n",
       " 'brave',\n",
       " 'men,',\n",
       " 'living',\n",
       " 'and',\n",
       " 'dead,',\n",
       " 'who',\n",
       " 'struggled',\n",
       " 'here,',\n",
       " 'have',\n",
       " 'consecrated',\n",
       " 'it,',\n",
       " 'far',\n",
       " 'above',\n",
       " 'our',\n",
       " 'poor',\n",
       " 'power',\n",
       " 'to',\n",
       " 'add',\n",
       " 'or',\n",
       " 'detract.',\n",
       " 'The',\n",
       " 'world',\n",
       " 'will',\n",
       " 'little',\n",
       " 'note,',\n",
       " 'nor',\n",
       " 'long',\n",
       " 'remember',\n",
       " 'what',\n",
       " 'we',\n",
       " 'say',\n",
       " 'here,',\n",
       " 'but',\n",
       " 'it',\n",
       " 'can',\n",
       " 'never',\n",
       " 'forget',\n",
       " 'what',\n",
       " 'they',\n",
       " 'did',\n",
       " 'here.',\n",
       " 'It',\n",
       " 'is',\n",
       " 'for',\n",
       " 'us',\n",
       " 'the',\n",
       " 'living,',\n",
       " 'rather,',\n",
       " 'to',\n",
       " 'be',\n",
       " 'dedicated',\n",
       " 'here',\n",
       " 'to',\n",
       " 'the',\n",
       " 'unfinished',\n",
       " 'work',\n",
       " 'which',\n",
       " 'they',\n",
       " 'who',\n",
       " 'fought',\n",
       " 'here',\n",
       " 'have',\n",
       " 'thus',\n",
       " 'far',\n",
       " 'so',\n",
       " 'nobly',\n",
       " 'advanced.',\n",
       " 'It',\n",
       " 'is',\n",
       " 'rather',\n",
       " 'for',\n",
       " 'us',\n",
       " 'to',\n",
       " 'be',\n",
       " 'here',\n",
       " 'dedicated',\n",
       " 'to',\n",
       " 'the',\n",
       " 'great',\n",
       " 'task',\n",
       " 'remaining',\n",
       " 'before',\n",
       " 'us',\n",
       " '--',\n",
       " 'that',\n",
       " 'from',\n",
       " 'these',\n",
       " 'honored',\n",
       " 'dead',\n",
       " 'we',\n",
       " 'take',\n",
       " 'increased',\n",
       " 'devotion',\n",
       " 'to',\n",
       " 'that',\n",
       " 'cause',\n",
       " 'for',\n",
       " 'which',\n",
       " 'they',\n",
       " 'gave',\n",
       " 'the',\n",
       " 'last',\n",
       " 'full',\n",
       " 'measure',\n",
       " 'of',\n",
       " 'devotion',\n",
       " '--',\n",
       " 'that',\n",
       " 'we',\n",
       " 'here',\n",
       " 'highly',\n",
       " 'resolve',\n",
       " 'that',\n",
       " 'these',\n",
       " 'dead',\n",
       " 'shall',\n",
       " 'not',\n",
       " 'have',\n",
       " 'died',\n",
       " 'in',\n",
       " 'vain',\n",
       " '--',\n",
       " 'that',\n",
       " 'this',\n",
       " 'nation,',\n",
       " 'under',\n",
       " 'God,',\n",
       " 'shall',\n",
       " 'have',\n",
       " 'a',\n",
       " 'new',\n",
       " 'birth',\n",
       " 'of',\n",
       " 'freedom',\n",
       " '--',\n",
       " 'and',\n",
       " 'that',\n",
       " 'government',\n",
       " 'of',\n",
       " 'the',\n",
       " 'people,',\n",
       " 'by',\n",
       " 'the',\n",
       " 'people,',\n",
       " 'for',\n",
       " 'the',\n",
       " 'people,',\n",
       " 'shall',\n",
       " 'not',\n",
       " 'perish',\n",
       " 'from',\n",
       " 'the',\n",
       " 'earth.']"
      ]
     },
     "execution_count": 182,
     "metadata": {},
     "output_type": "execute_result"
    }
   ],
   "source": [
    "ga"
   ]
  },
  {
   "cell_type": "markdown",
   "metadata": {},
   "source": [
    "Now, the next problem is that some of these still have punctuation.  In particular, we see \"`.`\", \"`,`\", and \"`--`\".\n",
    "\n",
    "When considering a word, we can get rid of these by using the `replace()` method:"
   ]
  },
  {
   "cell_type": "code",
   "execution_count": 183,
   "metadata": {},
   "outputs": [
    {
     "data": {
      "text/plain": [
       "'end'"
      ]
     },
     "execution_count": 183,
     "metadata": {},
     "output_type": "execute_result"
    }
   ],
   "source": [
    "a = \"end.,\"\n",
    "b = a.replace(\".\", \"\").replace(\",\", \"\")\n",
    "b"
   ]
  },
  {
   "cell_type": "markdown",
   "metadata": {},
   "source": [
    "Another problem is case&mdash;we want to count \"but\" and \"But\" as the same.  Strings have a `lower()` method that can be used to convert a string:"
   ]
  },
  {
   "cell_type": "code",
   "execution_count": 184,
   "metadata": {},
   "outputs": [
    {
     "data": {
      "text/plain": [
       "False"
      ]
     },
     "execution_count": 184,
     "metadata": {},
     "output_type": "execute_result"
    }
   ],
   "source": [
    "a = \"But\"\n",
    "b = \"but\"\n",
    "a == b"
   ]
  },
  {
   "cell_type": "code",
   "execution_count": 185,
   "metadata": {},
   "outputs": [
    {
     "data": {
      "text/plain": [
       "True"
      ]
     },
     "execution_count": 185,
     "metadata": {},
     "output_type": "execute_result"
    }
   ],
   "source": [
    "a.lower() == b.lower()"
   ]
  },
  {
   "cell_type": "markdown",
   "metadata": {},
   "source": [
    "Recall that strings are immutable, so `replace()` produces a new string on output."
   ]
  },
  {
   "cell_type": "markdown",
   "metadata": {},
   "source": [
    "### Your task\n",
    "\n",
    "Create a dictionary that uses the unique words as keys and has as a value the number of times that word appears.  \n",
    "\n",
    "Write a loop over the words in the string (using our split version) and do the following:\n",
    "  * remove any punctuation\n",
    "  * convert to lowercase\n",
    "  * test if the word is already a key in the dictionary (using the `in` operator)\n",
    "     - if the key exists, increment the word count for that key\n",
    "     - otherwise, add it to the dictionary with the appropriate count of `1`.\n",
    "\n",
    "At the end, print out the words and a count of how many times they appear"
   ]
  },
  {
   "cell_type": "code",
   "execution_count": null,
   "metadata": {
    "tags": []
   },
   "outputs": [],
   "source": []
  },
  {
   "cell_type": "markdown",
   "metadata": {},
   "source": [
    "### More compact way\n",
    "\n",
    "We can actually do this a lot more compactly by using another list comprehensions and another python datatype called a set.  A set is a group of items, where each item is unique (e.g., no repetitions)."
   ]
  },
  {
   "cell_type": "markdown",
   "metadata": {},
   "source": [
    "Here's a list comprehension that removes all the punctuation and converts to lower case:"
   ]
  },
  {
   "cell_type": "code",
   "execution_count": 186,
   "metadata": {
    "tags": []
   },
   "outputs": [],
   "source": [
    "words = [q.lower().replace(\".\", \"\").replace(\",\", \"\") for q in ga]"
   ]
  },
  {
   "cell_type": "markdown",
   "metadata": {},
   "source": [
    "and by using the `set()` function, we turn the list into a set, removing any duplicates:"
   ]
  },
  {
   "cell_type": "code",
   "execution_count": 187,
   "metadata": {
    "tags": []
   },
   "outputs": [],
   "source": [
    "unique_words = set(words)"
   ]
  },
  {
   "cell_type": "markdown",
   "metadata": {},
   "source": [
    "now we can loop over the unique words and use the `count` method of a list to find how many there are"
   ]
  },
  {
   "cell_type": "code",
   "execution_count": 188,
   "metadata": {},
   "outputs": [
    {
     "data": {
      "text/plain": [
       "{'of': 5,\n",
       " 'ago': 1,\n",
       " 'their': 1,\n",
       " 'perish': 1,\n",
       " 'civil': 1,\n",
       " 'should': 1,\n",
       " 'four': 1,\n",
       " 'do': 1,\n",
       " 'not': 5,\n",
       " 'freedom': 1,\n",
       " 'altogether': 1,\n",
       " 'a': 7,\n",
       " 'unfinished': 1,\n",
       " 'measure': 1,\n",
       " 'or': 2,\n",
       " 'little': 1,\n",
       " 'before': 1,\n",
       " 'proposition': 1,\n",
       " 'live': 1,\n",
       " 'all': 1,\n",
       " 'created': 1,\n",
       " 'living': 2,\n",
       " 'struggled': 1,\n",
       " 'say': 1,\n",
       " 'great': 3,\n",
       " 'world': 1,\n",
       " 'note': 1,\n",
       " 'fitting': 1,\n",
       " 'add': 1,\n",
       " 'in': 4,\n",
       " 'resolve': 1,\n",
       " 'rather': 2,\n",
       " 'but': 2,\n",
       " 'nation': 5,\n",
       " 'detract': 1,\n",
       " 'forget': 1,\n",
       " 'power': 1,\n",
       " 'dedicate': 2,\n",
       " 'nor': 1,\n",
       " 'far': 2,\n",
       " 'cause': 1,\n",
       " 'did': 1,\n",
       " 'people': 3,\n",
       " 'new': 2,\n",
       " 'earth': 1,\n",
       " 'long': 2,\n",
       " 'have': 5,\n",
       " 'hallow': 1,\n",
       " 'final': 1,\n",
       " 'these': 2,\n",
       " 'proper': 1,\n",
       " 'testing': 1,\n",
       " 'here': 8,\n",
       " 'be': 2,\n",
       " 'score': 1,\n",
       " 'come': 1,\n",
       " 'whether': 1,\n",
       " 'now': 1,\n",
       " 'liberty': 1,\n",
       " 'endure': 1,\n",
       " 'is': 3,\n",
       " 'honored': 1,\n",
       " 'dead': 3,\n",
       " 'might': 1,\n",
       " 'above': 1,\n",
       " 'battle-field': 1,\n",
       " 'government': 1,\n",
       " 'portion': 1,\n",
       " 'dedicated': 4,\n",
       " 'any': 1,\n",
       " 'increased': 1,\n",
       " 'continent': 1,\n",
       " 'can': 5,\n",
       " 'larger': 1,\n",
       " 'task': 1,\n",
       " 'war': 2,\n",
       " 'highly': 1,\n",
       " 'advanced': 1,\n",
       " 'as': 1,\n",
       " 'those': 1,\n",
       " 'we': 10,\n",
       " 'brought': 1,\n",
       " 'fathers': 1,\n",
       " 'so': 3,\n",
       " 'resting': 1,\n",
       " 'ground': 1,\n",
       " 'brave': 1,\n",
       " 'what': 2,\n",
       " 'from': 2,\n",
       " 'years': 1,\n",
       " 'men': 2,\n",
       " 'field': 1,\n",
       " 'work': 1,\n",
       " 'poor': 1,\n",
       " 'nobly': 1,\n",
       " 'never': 1,\n",
       " 'vain': 1,\n",
       " 'devotion': 2,\n",
       " 'gave': 2,\n",
       " 'will': 1,\n",
       " 'place': 1,\n",
       " 'on': 2,\n",
       " 'thus': 1,\n",
       " 'for': 5,\n",
       " 'to': 8,\n",
       " 'the': 11,\n",
       " 'remaining': 1,\n",
       " 'that': 13,\n",
       " 'birth': 1,\n",
       " 'consecrate': 1,\n",
       " 'forth': 1,\n",
       " 'under': 1,\n",
       " 'and': 6,\n",
       " 'take': 1,\n",
       " 'are': 3,\n",
       " 'consecrated': 1,\n",
       " 'it': 5,\n",
       " 'who': 3,\n",
       " 'equal': 1,\n",
       " 'last': 1,\n",
       " 'remember': 1,\n",
       " 'by': 1,\n",
       " 'engaged': 1,\n",
       " 'shall': 3,\n",
       " 'seven': 1,\n",
       " 'which': 2,\n",
       " 'sense': 1,\n",
       " 'met': 1,\n",
       " '--': 7,\n",
       " 'us': 3,\n",
       " 'god': 1,\n",
       " 'our': 2,\n",
       " 'full': 1,\n",
       " 'lives': 1,\n",
       " 'died': 1,\n",
       " 'they': 3,\n",
       " 'conceived': 2,\n",
       " 'fought': 1,\n",
       " 'this': 4}"
      ]
     },
     "execution_count": 188,
     "metadata": {},
     "output_type": "execute_result"
    }
   ],
   "source": [
    "count = {}\n",
    "for uw in unique_words:\n",
    "    count[uw] = words.count(uw)\n",
    "    \n",
    "count"
   ]
  },
  {
   "cell_type": "markdown",
   "metadata": {},
   "source": [
    "Even shorter -- we can use a dictionary comprehension, like a list comprehension"
   ]
  },
  {
   "cell_type": "code",
   "execution_count": 189,
   "metadata": {
    "tags": []
   },
   "outputs": [],
   "source": [
    "c = {uw: count[uw] for uw in unique_words}"
   ]
  },
  {
   "cell_type": "code",
   "execution_count": 190,
   "metadata": {},
   "outputs": [
    {
     "data": {
      "text/plain": [
       "{'of': 5,\n",
       " 'ago': 1,\n",
       " 'their': 1,\n",
       " 'perish': 1,\n",
       " 'civil': 1,\n",
       " 'should': 1,\n",
       " 'four': 1,\n",
       " 'do': 1,\n",
       " 'not': 5,\n",
       " 'freedom': 1,\n",
       " 'altogether': 1,\n",
       " 'a': 7,\n",
       " 'unfinished': 1,\n",
       " 'measure': 1,\n",
       " 'or': 2,\n",
       " 'little': 1,\n",
       " 'before': 1,\n",
       " 'proposition': 1,\n",
       " 'live': 1,\n",
       " 'all': 1,\n",
       " 'created': 1,\n",
       " 'living': 2,\n",
       " 'struggled': 1,\n",
       " 'say': 1,\n",
       " 'great': 3,\n",
       " 'world': 1,\n",
       " 'note': 1,\n",
       " 'fitting': 1,\n",
       " 'add': 1,\n",
       " 'in': 4,\n",
       " 'resolve': 1,\n",
       " 'rather': 2,\n",
       " 'but': 2,\n",
       " 'nation': 5,\n",
       " 'detract': 1,\n",
       " 'forget': 1,\n",
       " 'power': 1,\n",
       " 'dedicate': 2,\n",
       " 'nor': 1,\n",
       " 'far': 2,\n",
       " 'cause': 1,\n",
       " 'did': 1,\n",
       " 'people': 3,\n",
       " 'new': 2,\n",
       " 'earth': 1,\n",
       " 'long': 2,\n",
       " 'have': 5,\n",
       " 'hallow': 1,\n",
       " 'final': 1,\n",
       " 'these': 2,\n",
       " 'proper': 1,\n",
       " 'testing': 1,\n",
       " 'here': 8,\n",
       " 'be': 2,\n",
       " 'score': 1,\n",
       " 'come': 1,\n",
       " 'whether': 1,\n",
       " 'now': 1,\n",
       " 'liberty': 1,\n",
       " 'endure': 1,\n",
       " 'is': 3,\n",
       " 'honored': 1,\n",
       " 'dead': 3,\n",
       " 'might': 1,\n",
       " 'above': 1,\n",
       " 'battle-field': 1,\n",
       " 'government': 1,\n",
       " 'portion': 1,\n",
       " 'dedicated': 4,\n",
       " 'any': 1,\n",
       " 'increased': 1,\n",
       " 'continent': 1,\n",
       " 'can': 5,\n",
       " 'larger': 1,\n",
       " 'task': 1,\n",
       " 'war': 2,\n",
       " 'highly': 1,\n",
       " 'advanced': 1,\n",
       " 'as': 1,\n",
       " 'those': 1,\n",
       " 'we': 10,\n",
       " 'brought': 1,\n",
       " 'fathers': 1,\n",
       " 'so': 3,\n",
       " 'resting': 1,\n",
       " 'ground': 1,\n",
       " 'brave': 1,\n",
       " 'what': 2,\n",
       " 'from': 2,\n",
       " 'years': 1,\n",
       " 'men': 2,\n",
       " 'field': 1,\n",
       " 'work': 1,\n",
       " 'poor': 1,\n",
       " 'nobly': 1,\n",
       " 'never': 1,\n",
       " 'vain': 1,\n",
       " 'devotion': 2,\n",
       " 'gave': 2,\n",
       " 'will': 1,\n",
       " 'place': 1,\n",
       " 'on': 2,\n",
       " 'thus': 1,\n",
       " 'for': 5,\n",
       " 'to': 8,\n",
       " 'the': 11,\n",
       " 'remaining': 1,\n",
       " 'that': 13,\n",
       " 'birth': 1,\n",
       " 'consecrate': 1,\n",
       " 'forth': 1,\n",
       " 'under': 1,\n",
       " 'and': 6,\n",
       " 'take': 1,\n",
       " 'are': 3,\n",
       " 'consecrated': 1,\n",
       " 'it': 5,\n",
       " 'who': 3,\n",
       " 'equal': 1,\n",
       " 'last': 1,\n",
       " 'remember': 1,\n",
       " 'by': 1,\n",
       " 'engaged': 1,\n",
       " 'shall': 3,\n",
       " 'seven': 1,\n",
       " 'which': 2,\n",
       " 'sense': 1,\n",
       " 'met': 1,\n",
       " '--': 7,\n",
       " 'us': 3,\n",
       " 'god': 1,\n",
       " 'our': 2,\n",
       " 'full': 1,\n",
       " 'lives': 1,\n",
       " 'died': 1,\n",
       " 'they': 3,\n",
       " 'conceived': 2,\n",
       " 'fought': 1,\n",
       " 'this': 4}"
      ]
     },
     "execution_count": 190,
     "metadata": {},
     "output_type": "execute_result"
    }
   ],
   "source": [
    "c"
   ]
  },
  {
   "cell_type": "markdown",
   "metadata": {},
   "source": [
    "## Q5: Foxes and dogs\n",
    "\n",
    "### Part 1. Short words\n",
    "\n",
    "Let's practice functions.  Here's a simple function that takes a string and returns a list of all the 4 letter words:"
   ]
  },
  {
   "cell_type": "code",
   "execution_count": 32,
   "metadata": {},
   "outputs": [],
   "source": [
    "def four_letter_words(message):\n",
    "    words = message.split()\n",
    "    four_letters = [w for w in words if len(w) == 4]\n",
    "    return four_letters"
   ]
  },
  {
   "cell_type": "code",
   "execution_count": 33,
   "metadata": {},
   "outputs": [
    {
     "name": "stdout",
     "output_type": "stream",
     "text": [
      "['over', 'lazy']\n"
     ]
    }
   ],
   "source": [
    "message = \"The quick brown fox jumps over the lazy dog\"\n",
    "print(four_letter_words(message))"
   ]
  },
  {
   "cell_type": "markdown",
   "metadata": {},
   "source": [
    "Write a version of this function that takes a second argument, n, that is the word length we want to search for"
   ]
  },
  {
   "cell_type": "markdown",
   "metadata": {},
   "source": [
    "### Part 2: Panagrams\n",
    "\n",
    "A _panagram_ is a sentence that includes all 26 letters of the alphabet, e.g., \"_The quick brown fox jumps over the lazy dog_.\"\n",
    "\n",
    "Write a function that takes as an argument a sentence and returns `True` or `False`, indicating whether the sentence is a panagram."
   ]
  },
  {
   "cell_type": "markdown",
   "metadata": {},
   "source": [
    "## Q6: Catch errors"
   ]
  },
  {
   "cell_type": "markdown",
   "metadata": {},
   "source": [
    "We want to safely convert a string into a float, int, or leave it as a string, depending on its contents.  As we've already seen, python provides `float()` and `int()` functions for this:"
   ]
  },
  {
   "cell_type": "code",
   "execution_count": 30,
   "metadata": {},
   "outputs": [
    {
     "name": "stdout",
     "output_type": "stream",
     "text": [
      "2.0 <class 'float'>\n"
     ]
    }
   ],
   "source": [
    "a = \"2.0\"\n",
    "b = float(a)\n",
    "print(b, type(b))"
   ]
  },
  {
   "cell_type": "markdown",
   "metadata": {},
   "source": [
    "But these throw exceptions if the conversion is not possible"
   ]
  },
  {
   "cell_type": "code",
   "execution_count": 31,
   "metadata": {
    "scrolled": true
   },
   "outputs": [
    {
     "ename": "ValueError",
     "evalue": "could not convert string to float: 'this is a string'",
     "output_type": "error",
     "traceback": [
      "\u001b[0;31m---------------------------------------------------------------------------\u001b[0m",
      "\u001b[0;31mValueError\u001b[0m                                Traceback (most recent call last)",
      "Cell \u001b[0;32mIn[31], line 2\u001b[0m\n\u001b[1;32m      1\u001b[0m a \u001b[38;5;241m=\u001b[39m \u001b[38;5;124m\"\u001b[39m\u001b[38;5;124mthis is a string\u001b[39m\u001b[38;5;124m\"\u001b[39m\n\u001b[0;32m----> 2\u001b[0m b \u001b[38;5;241m=\u001b[39m \u001b[38;5;28;43mfloat\u001b[39;49m\u001b[43m(\u001b[49m\u001b[43ma\u001b[49m\u001b[43m)\u001b[49m\n",
      "\u001b[0;31mValueError\u001b[0m: could not convert string to float: 'this is a string'"
     ]
    }
   ],
   "source": [
    "a = \"this is a string\"\n",
    "b = float(a)"
   ]
  },
  {
   "cell_type": "code",
   "execution_count": 195,
   "metadata": {},
   "outputs": [
    {
     "ename": "ValueError",
     "evalue": "invalid literal for int() with base 10: '1.2345'",
     "output_type": "error",
     "traceback": [
      "\u001b[0;31m---------------------------------------------------------------------------\u001b[0m",
      "\u001b[0;31mValueError\u001b[0m                                Traceback (most recent call last)",
      "Cell \u001b[0;32mIn[195], line 2\u001b[0m\n\u001b[1;32m      1\u001b[0m a \u001b[38;5;241m=\u001b[39m \u001b[38;5;124m\"\u001b[39m\u001b[38;5;124m1.2345\u001b[39m\u001b[38;5;124m\"\u001b[39m\n\u001b[0;32m----> 2\u001b[0m b \u001b[38;5;241m=\u001b[39m \u001b[38;5;28;43mint\u001b[39;49m\u001b[43m(\u001b[49m\u001b[43ma\u001b[49m\u001b[43m)\u001b[49m\n\u001b[1;32m      3\u001b[0m \u001b[38;5;28mprint\u001b[39m(b, \u001b[38;5;28mtype\u001b[39m(b))\n",
      "\u001b[0;31mValueError\u001b[0m: invalid literal for int() with base 10: '1.2345'"
     ]
    }
   ],
   "source": [
    "a = \"1.2345\"\n",
    "b = int(a)\n",
    "print(b, type(b))"
   ]
  },
  {
   "cell_type": "code",
   "execution_count": 196,
   "metadata": {},
   "outputs": [
    {
     "name": "stdout",
     "output_type": "stream",
     "text": [
      "1.2345 <class 'float'>\n"
     ]
    }
   ],
   "source": [
    "b = float(a)\n",
    "print(b, type(b))"
   ]
  },
  {
   "cell_type": "markdown",
   "metadata": {},
   "source": [
    "Notice that an int can be converted to a float, but if you convert a float to an int, you risk losing significant digits.  A string cannot be converted to either.\n",
    "\n",
    "### Your task\n",
    "\n",
    "Write a function, `convert_type(a)` that takes a string `a`, and converts it to a float if it is a number with a decimal point, an int if it is an integer, or leaves it as a string otherwise, and returns the result.  You'll want to use exceptions to prevent the code from aborting."
   ]
  },
  {
   "cell_type": "code",
   "execution_count": null,
   "metadata": {},
   "outputs": [],
   "source": []
  },
  {
   "cell_type": "markdown",
   "metadata": {},
   "source": [
    "## Q7: Tic-tac-toe\n",
    "\n",
    "Here we'll write a simple tic-tac-toe game that 2 players can play.  First we'll create a string that represents our game board:"
   ]
  },
  {
   "cell_type": "code",
   "execution_count": 197,
   "metadata": {},
   "outputs": [],
   "source": [
    "board = \"\"\"\n",
    " {s1:^3} | {s2:^3} | {s3:^3}\n",
    "-----+-----+-----\n",
    " {s4:^3} | {s5:^3} | {s6:^3}\n",
    "-----+-----+-----      123\n",
    " {s7:^3} | {s8:^3} | {s9:^3}       456\n",
    "                       789  \n",
    "\"\"\""
   ]
  },
  {
   "cell_type": "markdown",
   "metadata": {},
   "source": [
    "This board will look a little funny if we just print it&mdash;the spacing is set to look right when we replace the `{}` with `x` or `o`"
   ]
  },
  {
   "cell_type": "code",
   "execution_count": 198,
   "metadata": {},
   "outputs": [
    {
     "name": "stdout",
     "output_type": "stream",
     "text": [
      "\n",
      " {s1:^3} | {s2:^3} | {s3:^3}\n",
      "-----+-----+-----\n",
      " {s4:^3} | {s5:^3} | {s6:^3}\n",
      "-----+-----+-----      123\n",
      " {s7:^3} | {s8:^3} | {s9:^3}       456\n",
      "                       789  \n",
      "\n"
     ]
    }
   ],
   "source": [
    "print(board)"
   ]
  },
  {
   "cell_type": "markdown",
   "metadata": {},
   "source": [
    "and well use a dictionary to denote the status of each square, \"x\", \"o\", or empty, \"\""
   ]
  },
  {
   "cell_type": "code",
   "execution_count": 199,
   "metadata": {},
   "outputs": [
    {
     "data": {
      "text/plain": [
       "{'s1': '',\n",
       " 's2': '',\n",
       " 's3': '',\n",
       " 's4': '',\n",
       " 's5': '',\n",
       " 's6': '',\n",
       " 's7': '',\n",
       " 's8': '',\n",
       " 's9': ''}"
      ]
     },
     "execution_count": 199,
     "metadata": {},
     "output_type": "execute_result"
    }
   ],
   "source": [
    "play = {}\n",
    "\n",
    "def initialize_board(play):\n",
    "    for n in range(9):\n",
    "        play[\"s{}\".format(n+1)] = \"\"\n",
    "\n",
    "initialize_board(play)\n",
    "play"
   ]
  },
  {
   "cell_type": "markdown",
   "metadata": {},
   "source": [
    "Note that our `{}` placeholders in the `board` string have identifiers (the numbers in the `{}`).  We can use these to match the variables we want to print to the placeholder in the string, regardless of the order in the `format()`"
   ]
  },
  {
   "cell_type": "code",
   "execution_count": 200,
   "metadata": {},
   "outputs": [
    {
     "data": {
      "text/plain": [
       "'2 1'"
      ]
     },
     "execution_count": 200,
     "metadata": {},
     "output_type": "execute_result"
    }
   ],
   "source": [
    "a = \"{s1:} {s2:}\".format(s2=1, s1=2)\n",
    "a"
   ]
  },
  {
   "cell_type": "markdown",
   "metadata": {},
   "source": [
    "Here's an easy way to add the values of our dictionary to the appropriate squares in our game board.  First note that each of the {} is labeled with a number that matches the keys in our dictionary.  Python provides a way to unpack a dictionary into labeled arguments, using **\n",
    "\n",
    "This lets us to write a function to show the tic-tac-toe board."
   ]
  },
  {
   "cell_type": "code",
   "execution_count": 201,
   "metadata": {},
   "outputs": [
    {
     "name": "stdout",
     "output_type": "stream",
     "text": [
      "\n",
      "     |     |    \n",
      "-----+-----+-----\n",
      "     |     |    \n",
      "-----+-----+-----      123\n",
      "     |     |           456\n",
      "                       789  \n",
      "\n"
     ]
    }
   ],
   "source": [
    "def show_board(play):\n",
    "    \"\"\" display the playing board.  We take a dictionary with the current state of the board\n",
    "    We rely on the board string to be a global variable\"\"\"\n",
    "    print(board.format(**play))\n",
    "    \n",
    "show_board(play)"
   ]
  },
  {
   "cell_type": "markdown",
   "metadata": {},
   "source": [
    "Now we need a function that asks a player for a move:"
   ]
  },
  {
   "cell_type": "code",
   "execution_count": 202,
   "metadata": {},
   "outputs": [],
   "source": [
    "def get_move(n, xo, play):\n",
    "    \"\"\" ask the current player, n, to make a move -- make sure the square was not \n",
    "        already played.  xo is a string of the character (x or o) we will place in\n",
    "        the desired square \"\"\"\n",
    "    valid_move = False\n",
    "    while not valid_move:\n",
    "        idx = input(\"player {}, enter your move (1-9)\".format(n))\n",
    "        if play[\"s{}\".format(idx)] == \"\":\n",
    "            valid_move = True\n",
    "        else:\n",
    "            print(\"invalid: {}\".format(play[\"s{}\".format(idx)]))\n",
    "            \n",
    "    play[\"s{}\".format(idx)] = xo"
   ]
  },
  {
   "cell_type": "code",
   "execution_count": 203,
   "metadata": {},
   "outputs": [
    {
     "name": "stdout",
     "output_type": "stream",
     "text": [
      "Help on function get_move in module __main__:\n",
      "\n",
      "get_move(n, xo, play)\n",
      "    ask the current player, n, to make a move -- make sure the square was not \n",
      "    already played.  xo is a string of the character (x or o) we will place in\n",
      "    the desired square\n",
      "\n"
     ]
    }
   ],
   "source": [
    "help(get_move)"
   ]
  },
  {
   "cell_type": "markdown",
   "metadata": {},
   "source": [
    "### Your task\n",
    "\n",
    "Using the functions defined above,\n",
    "  * `initialize_board()`\n",
    "  * `show_board()`\n",
    "  * `get_move()`\n",
    "\n",
    "fill in the function `play_game()` below to complete the game, asking for the moves one at a time, alternating between player 1 and 2"
   ]
  },
  {
   "cell_type": "code",
   "execution_count": null,
   "metadata": {
    "tags": []
   },
   "outputs": [],
   "source": [
    "def play_game():\n",
    "    \"\"\" play a game of tic-tac-toe \"\"\"\n",
    "    \n",
    "    play ={}\n",
    "    initialize_board(play)\n",
    "    show_board(play)"
   ]
  },
  {
   "cell_type": "code",
   "execution_count": null,
   "metadata": {},
   "outputs": [],
   "source": [
    "play_game()"
   ]
  },
  {
   "cell_type": "code",
   "execution_count": null,
   "metadata": {},
   "outputs": [],
   "source": []
  },
  {
   "cell_type": "markdown",
   "metadata": {},
   "source": [
    "## Q8: Shopping cart"
   ]
  },
  {
   "cell_type": "markdown",
   "metadata": {},
   "source": [
    "Let's write a simple shopping cart class -- this will hold items that you intend to purchase as well as the amount, etc.  And allow you to add / remove items, get a subtotal, etc.\n",
    "\n",
    "We'll use two classes: `Item` will be a single item and `ShoppingCart` will be the collection of items you wish to purchase.\n",
    "\n",
    "First, our store needs an inventory -- here's what we have for sale:"
   ]
  },
  {
   "cell_type": "code",
   "execution_count": 204,
   "metadata": {},
   "outputs": [],
   "source": [
    "INVENTORY_TEXT = \"\"\"\n",
    "apple, 0.60\n",
    "banana, 0.20\n",
    "grapefruit, 0.75\n",
    "grapes, 1.99\n",
    "kiwi, 0.50\n",
    "lemon, 0.20\n",
    "lime, 0.25\n",
    "mango, 1.50\n",
    "papaya, 2.95\n",
    "pineapple, 3.50\n",
    "blueberries, 1.99\n",
    "blackberries, 2.50\n",
    "peach, 0.50\n",
    "plum, 0.33\n",
    "clementine, 0.25\n",
    "cantaloupe, 3.25\n",
    "pear, 1.25\n",
    "quince, 0.45\n",
    "orange, 0.60\n",
    "\"\"\"\n",
    "\n",
    "# this will be a global -- convention is all caps\n",
    "INVENTORY = {}\n",
    "for line in INVENTORY_TEXT.splitlines():\n",
    "    if line.strip() == \"\":\n",
    "        continue\n",
    "    item, price = line.split(\",\")\n",
    "    INVENTORY[item] = float(price)\n"
   ]
  },
  {
   "cell_type": "code",
   "execution_count": 205,
   "metadata": {},
   "outputs": [
    {
     "data": {
      "text/plain": [
       "{'apple': 0.6,\n",
       " 'banana': 0.2,\n",
       " 'grapefruit': 0.75,\n",
       " 'grapes': 1.99,\n",
       " 'kiwi': 0.5,\n",
       " 'lemon': 0.2,\n",
       " 'lime': 0.25,\n",
       " 'mango': 1.5,\n",
       " 'papaya': 2.95,\n",
       " 'pineapple': 3.5,\n",
       " 'blueberries': 1.99,\n",
       " 'blackberries': 2.5,\n",
       " 'peach': 0.5,\n",
       " 'plum': 0.33,\n",
       " 'clementine': 0.25,\n",
       " 'cantaloupe': 3.25,\n",
       " 'pear': 1.25,\n",
       " 'quince': 0.45,\n",
       " 'orange': 0.6}"
      ]
     },
     "execution_count": 205,
     "metadata": {},
     "output_type": "execute_result"
    }
   ],
   "source": [
    "INVENTORY"
   ]
  },
  {
   "cell_type": "markdown",
   "metadata": {},
   "source": [
    "### Item "
   ]
  },
  {
   "cell_type": "markdown",
   "metadata": {},
   "source": [
    "Let's write an item class now -- we want it to hold the name and quantity.  \n",
    "\n",
    "You should have the following features:\n",
    "\n",
    "* The name should be something in our inventory\n",
    "\n",
    "* Our shopping cart will include a list of all the items we want to buy, so we want to be able to check for duplicates.  Implement the equal test, `==`, using `__eq__`\n",
    "\n",
    "* We'll want to consolidate duplicates, so implement the `+` operator, using `__add__` so we can add items together in our shopping cart.  Note, add should raise a ValueError if you try to add two `Items` that don't have the same name.\n",
    "\n",
    "Here's a start:"
   ]
  },
  {
   "cell_type": "code",
   "execution_count": 206,
   "metadata": {},
   "outputs": [],
   "source": [
    "class Item:\n",
    "    \"\"\" an item to buy \"\"\"\n",
    "    \n",
    "    def __init__(self, name, quantity=1):\n",
    "        \"\"\"keep track of an item that is in our inventory\"\"\"\n",
    "        if name not in INVENTORY:\n",
    "            raise ValueError(\"invalid item name\")\n",
    "        self.name = name\n",
    "        self.quantity = quantity\n",
    "        \n",
    "    def __repr__(self):\n",
    "        return \"{}: {}\".format(self.name, self.quantity)\n",
    "        \n",
    "    def __eq__(self, other):\n",
    "        \"\"\"check if the items have the same name\"\"\"\n",
    "        return self.name == other.name\n",
    "    \n",
    "    def __add__(self, other):\n",
    "        \"\"\"add two items together if they are the same type\"\"\"\n",
    "        if self.name == other.name:\n",
    "            return Item(self.name, self.quantity + other.quantity)\n",
    "        else:\n",
    "            raise ValueError(\"names don't match\")"
   ]
  },
  {
   "cell_type": "markdown",
   "metadata": {},
   "source": [
    "Here are some tests your code should pass:"
   ]
  },
  {
   "cell_type": "code",
   "execution_count": 207,
   "metadata": {},
   "outputs": [],
   "source": [
    "a = Item(\"apple\", 10)\n",
    "b = Item(\"banana\", 20)"
   ]
  },
  {
   "cell_type": "code",
   "execution_count": 208,
   "metadata": {},
   "outputs": [],
   "source": [
    "c = Item(\"apple\", 20)"
   ]
  },
  {
   "cell_type": "code",
   "execution_count": 209,
   "metadata": {
    "scrolled": true
   },
   "outputs": [
    {
     "ename": "ValueError",
     "evalue": "names don't match",
     "output_type": "error",
     "traceback": [
      "\u001b[0;31m---------------------------------------------------------------------------\u001b[0m",
      "\u001b[0;31mValueError\u001b[0m                                Traceback (most recent call last)",
      "Cell \u001b[0;32mIn[209], line 2\u001b[0m\n\u001b[1;32m      1\u001b[0m \u001b[38;5;66;03m# won't work\u001b[39;00m\n\u001b[0;32m----> 2\u001b[0m \u001b[43ma\u001b[49m\u001b[43m \u001b[49m\u001b[38;5;241;43m+\u001b[39;49m\u001b[43m \u001b[49m\u001b[43mb\u001b[49m\n",
      "Cell \u001b[0;32mIn[206], line 23\u001b[0m, in \u001b[0;36mItem.__add__\u001b[0;34m(self, other)\u001b[0m\n\u001b[1;32m     21\u001b[0m     \u001b[38;5;28;01mreturn\u001b[39;00m Item(\u001b[38;5;28mself\u001b[39m\u001b[38;5;241m.\u001b[39mname, \u001b[38;5;28mself\u001b[39m\u001b[38;5;241m.\u001b[39mquantity \u001b[38;5;241m+\u001b[39m other\u001b[38;5;241m.\u001b[39mquantity)\n\u001b[1;32m     22\u001b[0m \u001b[38;5;28;01melse\u001b[39;00m:\n\u001b[0;32m---> 23\u001b[0m     \u001b[38;5;28;01mraise\u001b[39;00m \u001b[38;5;167;01mValueError\u001b[39;00m(\u001b[38;5;124m\"\u001b[39m\u001b[38;5;124mnames don\u001b[39m\u001b[38;5;124m'\u001b[39m\u001b[38;5;124mt match\u001b[39m\u001b[38;5;124m\"\u001b[39m)\n",
      "\u001b[0;31mValueError\u001b[0m: names don't match"
     ]
    }
   ],
   "source": [
    "# won't work\n",
    "a + b"
   ]
  },
  {
   "cell_type": "code",
   "execution_count": 210,
   "metadata": {},
   "outputs": [
    {
     "name": "stdout",
     "output_type": "stream",
     "text": [
      "apple: 30\n"
     ]
    }
   ],
   "source": [
    "# will work\n",
    "a += c\n",
    "print(a)"
   ]
  },
  {
   "cell_type": "code",
   "execution_count": 211,
   "metadata": {},
   "outputs": [
    {
     "ename": "ValueError",
     "evalue": "invalid item name",
     "output_type": "error",
     "traceback": [
      "\u001b[0;31m---------------------------------------------------------------------------\u001b[0m",
      "\u001b[0;31mValueError\u001b[0m                                Traceback (most recent call last)",
      "Cell \u001b[0;32mIn[211], line 1\u001b[0m\n\u001b[0;32m----> 1\u001b[0m d \u001b[38;5;241m=\u001b[39m \u001b[43mItem\u001b[49m\u001b[43m(\u001b[49m\u001b[38;5;124;43m\"\u001b[39;49m\u001b[38;5;124;43mdog\u001b[39;49m\u001b[38;5;124;43m\"\u001b[39;49m\u001b[43m)\u001b[49m\n",
      "Cell \u001b[0;32mIn[206], line 7\u001b[0m, in \u001b[0;36mItem.__init__\u001b[0;34m(self, name, quantity)\u001b[0m\n\u001b[1;32m      5\u001b[0m \u001b[38;5;250m\u001b[39m\u001b[38;5;124;03m\"\"\"keep track of an item that is in our inventory\"\"\"\u001b[39;00m\n\u001b[1;32m      6\u001b[0m \u001b[38;5;28;01mif\u001b[39;00m name \u001b[38;5;129;01mnot\u001b[39;00m \u001b[38;5;129;01min\u001b[39;00m INVENTORY:\n\u001b[0;32m----> 7\u001b[0m     \u001b[38;5;28;01mraise\u001b[39;00m \u001b[38;5;167;01mValueError\u001b[39;00m(\u001b[38;5;124m\"\u001b[39m\u001b[38;5;124minvalid item name\u001b[39m\u001b[38;5;124m\"\u001b[39m)\n\u001b[1;32m      8\u001b[0m \u001b[38;5;28mself\u001b[39m\u001b[38;5;241m.\u001b[39mname \u001b[38;5;241m=\u001b[39m name\n\u001b[1;32m      9\u001b[0m \u001b[38;5;28mself\u001b[39m\u001b[38;5;241m.\u001b[39mquantity \u001b[38;5;241m=\u001b[39m quantity\n",
      "\u001b[0;31mValueError\u001b[0m: invalid item name"
     ]
    }
   ],
   "source": [
    "d = Item(\"dog\")"
   ]
  },
  {
   "cell_type": "code",
   "execution_count": 212,
   "metadata": {},
   "outputs": [
    {
     "data": {
      "text/plain": [
       "False"
      ]
     },
     "execution_count": 212,
     "metadata": {},
     "output_type": "execute_result"
    }
   ],
   "source": [
    "# should be False\n",
    "a == b"
   ]
  },
  {
   "cell_type": "code",
   "execution_count": 213,
   "metadata": {},
   "outputs": [
    {
     "data": {
      "text/plain": [
       "True"
      ]
     },
     "execution_count": 213,
     "metadata": {},
     "output_type": "execute_result"
    }
   ],
   "source": [
    "# should be True -- they have the same name\n",
    "a == c"
   ]
  },
  {
   "cell_type": "markdown",
   "metadata": {},
   "source": [
    "How do they behave in a list?"
   ]
  },
  {
   "cell_type": "code",
   "execution_count": 214,
   "metadata": {},
   "outputs": [
    {
     "data": {
      "text/plain": [
       "[apple: 30, banana: 20]"
      ]
     },
     "execution_count": 214,
     "metadata": {},
     "output_type": "execute_result"
    }
   ],
   "source": [
    "items = []\n",
    "items.append(a)\n",
    "items.append(b)\n",
    "items"
   ]
  },
  {
   "cell_type": "code",
   "execution_count": 215,
   "metadata": {},
   "outputs": [
    {
     "data": {
      "text/plain": [
       "True"
      ]
     },
     "execution_count": 215,
     "metadata": {},
     "output_type": "execute_result"
    }
   ],
   "source": [
    "# should be True -- they have the same name\n",
    "c in items"
   ]
  },
  {
   "cell_type": "markdown",
   "metadata": {},
   "source": [
    "### ShoppingCart"
   ]
  },
  {
   "cell_type": "markdown",
   "metadata": {},
   "source": [
    "Now we want to create a shopping cart.  The main thing it will do is hold a list of items."
   ]
  },
  {
   "cell_type": "code",
   "execution_count": 216,
   "metadata": {},
   "outputs": [],
   "source": [
    "class ShoppingCart:\n",
    "    \n",
    "    def __init__(self):\n",
    "        # the list of items we control\n",
    "        self.items = []\n",
    "        \n",
    "    def subtotal(self):\n",
    "        \"\"\" return a subtotal of our items \"\"\"\n",
    "        pass\n",
    "\n",
    "    def add(self, name, quantity):\n",
    "        \"\"\" add an item to our cart -- the an item of the same name already\n",
    "        exists, then increment the quantity.  Otherwise, add a new item\n",
    "        to the cart with the desired quantity.\"\"\"\n",
    "        pass\n",
    "        \n",
    "    def remove(self, name):\n",
    "        \"\"\" remove all of item name from the cart \"\"\"\n",
    "        pass\n",
    "        \n",
    "    def report(self):\n",
    "        \"\"\" print a summary of the cart \"\"\"\n",
    "        for item in self.items:\n",
    "            print(f\"{item.name} : {item.quantity}\")"
   ]
  },
  {
   "cell_type": "markdown",
   "metadata": {},
   "source": [
    "Here are some tests"
   ]
  },
  {
   "cell_type": "code",
   "execution_count": 217,
   "metadata": {},
   "outputs": [],
   "source": [
    "sc = ShoppingCart()\n",
    "sc.add(\"orange\", 19)"
   ]
  },
  {
   "cell_type": "code",
   "execution_count": 218,
   "metadata": {},
   "outputs": [],
   "source": [
    "sc.add(\"apple\", 2)"
   ]
  },
  {
   "cell_type": "code",
   "execution_count": 219,
   "metadata": {},
   "outputs": [],
   "source": [
    "sc.report()"
   ]
  },
  {
   "cell_type": "code",
   "execution_count": 220,
   "metadata": {},
   "outputs": [],
   "source": [
    "sc.add(\"apple\", 9)"
   ]
  },
  {
   "cell_type": "code",
   "execution_count": 221,
   "metadata": {},
   "outputs": [],
   "source": [
    "# apple should only be listed once in the report, with a quantity of 11\n",
    "sc.report()"
   ]
  },
  {
   "cell_type": "code",
   "execution_count": 222,
   "metadata": {},
   "outputs": [],
   "source": [
    "sc.subtotal()"
   ]
  },
  {
   "cell_type": "code",
   "execution_count": 223,
   "metadata": {},
   "outputs": [],
   "source": [
    "sc.remove(\"apple\")"
   ]
  },
  {
   "cell_type": "code",
   "execution_count": 224,
   "metadata": {},
   "outputs": [],
   "source": [
    "# apple should no longer be listed\n",
    "sc.report()"
   ]
  },
  {
   "cell_type": "markdown",
   "metadata": {},
   "source": [
    "## Q9: Poker odds"
   ]
  },
  {
   "cell_type": "markdown",
   "metadata": {},
   "source": [
    "Use the deck of cards class from the notebook we worked through class to write a _Monte Carlo_ code that plays a lot of hands of straight poker (like 100,000).  Count how many of these hands has a particular poker hand (like 3-of-a-kind).  The ratio of # of hands with 3-of-a-kind to total hands is an approximation to the odds of getting a 3-of-a-kind in poker.\n",
    "\n",
    "### Bonus: \n",
    "Just to practice modules, write that into a `.py` file to allow you to import and reuse them here."
   ]
  },
  {
   "cell_type": "code",
   "execution_count": null,
   "metadata": {},
   "outputs": [],
   "source": []
  },
  {
   "cell_type": "markdown",
   "metadata": {},
   "source": [
    "## Q10: Tic-Tac-Toe again\n",
    "\n",
    "Revisit the tic-tac-toe game you developed in the functions exercises but now write it as a class with methods to do each of the main steps.  "
   ]
  },
  {
   "cell_type": "code",
   "execution_count": null,
   "metadata": {},
   "outputs": [],
   "source": []
  },
  {
   "cell_type": "markdown",
   "metadata": {},
   "source": [
    "## Q11: Rock-Paper-Scissors\n",
    "\n",
    "Implement a set of games of rock-paper-scissors against the computer.  \n",
    "\n",
    "  * Ask for input from the user (\"rock\", \"paper\", or \"scissors\") and the randomly select one of these for the computer's play.\n",
    "  * Announce who won.\n",
    "  * Keep playing until a player says that they no longer want to play.\n",
    "  * When all games are done, print out how many games were won by the player and by the computer "
   ]
  },
  {
   "cell_type": "code",
   "execution_count": null,
   "metadata": {},
   "outputs": [],
   "source": []
  },
  {
   "cell_type": "markdown",
   "metadata": {},
   "source": [
    "## Q12: Pascal's triangle\n",
    "\n",
    "Pascal's triangle is created such that each layer has 1 more element than the previous, with `1`s on the side and in the interior, the numbers are the sum of the two above it, e.g.,:\n",
    "```\n",
    "            1\n",
    "          1   1\n",
    "        1   2   1\n",
    "      1   3   3   1\n",
    "    1   4   6   4   1\n",
    "  1   5   10  10  5   1\n",
    "```\n",
    "\n",
    "1. Write a function to return the first `n` rows of Pascal's triangle.  The return should be a list of length `n`, with each element itself a list containing the numbers for that row.\n",
    "2. Write a function to print out Pascal's triangle with proper formatting, so the numbers in each row are centered between the ones in the row above"
   ]
  },
  {
   "cell_type": "code",
   "execution_count": null,
   "metadata": {},
   "outputs": [],
   "source": []
  },
  {
   "cell_type": "markdown",
   "metadata": {},
   "source": [
    "## Q13: Calendar events\n",
    "\n",
    "We want to keep a schedule of events.  We will do this by creating a class called `Day`.  It is sketched out below.  A `Day` holds a list of events and has methods that allow you to add an delete events.  Our events will be instances of a class `Event`, which holds the time, location, and description of the event.\n",
    "\n",
    "Finally, we can keep track of a list of all the `Day`s for which we have events to make our schedule.\n",
    "\n",
    "Fill in these classes and write some code to demonstrate their use:\n",
    "\n",
    "  * Create a full week of days in your calendar\n",
    "  * Add an event every day at noon called \"lunch\"\n",
    "  * Randomly add some other events to fill out your calendar\n",
    "  * Write some code that tells you the start time of your first meeting and the end time of your last meeting (this is the length of your work day)"
   ]
  },
  {
   "cell_type": "code",
   "execution_count": 225,
   "metadata": {},
   "outputs": [],
   "source": [
    "class Day:\n",
    "    \"\"\"a single day keeping track of the events scheduled\"\"\"\n",
    "    def __init__(self, month, day, year):\n",
    "        # store the month, day, and year as data in the class\n",
    "        \n",
    "        # keep track of the events\n",
    "        self.events = []\n",
    "    \n",
    "    def add_event(self, name, time=None, location=None):\n",
    "        pass\n",
    "    \n",
    "    def delete_event(self, name):\n",
    "        pass\n",
    "    \n",
    "    \n",
    "class Event:\n",
    "    \"\"\"a single event in our calendar\"\"\"\n",
    "    def __init__(self, name, time=9, location=None, duration=1):\n",
    "        self.name = name\n",
    "        self.time = time\n",
    "        self.location = location\n",
    "        self.duration = duration"
   ]
  },
  {
   "cell_type": "code",
   "execution_count": null,
   "metadata": {},
   "outputs": [],
   "source": []
  }
 ],
 "metadata": {
  "kernelspec": {
   "display_name": "base",
   "language": "python",
   "name": "python3"
  },
  "language_info": {
   "codemirror_mode": {
    "name": "ipython",
    "version": 3
   },
   "file_extension": ".py",
   "mimetype": "text/x-python",
   "name": "python",
   "nbconvert_exporter": "python",
   "pygments_lexer": "ipython3",
   "version": "3.11.7"
  }
 },
 "nbformat": 4,
 "nbformat_minor": 4
}
