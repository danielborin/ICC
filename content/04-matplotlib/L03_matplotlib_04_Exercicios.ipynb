{
  "cells": [
    {
      "cell_type": "markdown",
      "metadata": {
        "id": "qqr8vVLwh6L8"
      },
      "source": [
        "# Exercícios: Matplotlib"
      ]
    },
    {
      "cell_type": "code",
      "execution_count": null,
      "metadata": {
        "id": "8iAYJH6Vh6MB"
      },
      "outputs": [],
      "source": [
        "import numpy as np\n",
        "import matplotlib as mpl"
      ]
    },
    {
      "cell_type": "markdown",
      "metadata": {
        "id": "y7FiRZ5Ah6MD"
      },
      "source": [
        "1. Elabore um código que gere as seguintes figuras:\n",
        "\n",
        "<img src=\"https://th.bing.com/th/id/OIP.ssZtfVTKIBJ2BLe_1be7WAHaHa?rs=1&pid=ImgDetMain\" alt=\"https://th.bing.com/th/id/OIP.ssZtfVTKIBJ2BLe_1be7WAHaHa?rs=1&pid=ImgDetMain\" width=\"500\"/>\n",
        "\n",
        "\n",
        "<img src=\"https://hub.asimov.academy/wp-content/uploads/2024/11/grafico-de-pizza.webp\" alt=\"https://hub.asimov.academy/wp-content/uploads/2024/11/grafico-de-pizza.webp\" width=\"500\"/>"
      ]
    },
    {
      "cell_type": "code",
      "execution_count": null,
      "metadata": {
        "id": "bUGPhJ0Yh6MD"
      },
      "outputs": [],
      "source": [
        "pass"
      ]
    },
    {
      "cell_type": "markdown",
      "metadata": {
        "id": "kCOlW-BXh6ME"
      },
      "source": [
        "2. Faça um gráfico de Barras sobre a poulução brasileira a cada decada entre 1970 até os dias de hoje"
      ]
    },
    {
      "cell_type": "code",
      "execution_count": null,
      "metadata": {
        "id": "qcU-mcAyh6ME"
      },
      "outputs": [],
      "source": [
        "pass"
      ]
    },
    {
      "cell_type": "markdown",
      "metadata": {
        "id": "SJyeNHNoh6MF"
      },
      "source": [
        "3. Uma pesquisa eleitoral para diretor de uma escola teve o seguinte resultado:\n",
        "\n",
        "    - Candidato A: 80 votos\n",
        "\n",
        "    - Candidato B: 48 votos\n",
        "\n",
        "    - Candidato C: 57 votos\n",
        "\n",
        "    Faça um gráfico de pizza que ilustras as porcentagens de cada candidato evidenciando o candidato vencedor."
      ]
    },
    {
      "cell_type": "code",
      "execution_count": null,
      "metadata": {
        "id": "I-roaac_h6MF"
      },
      "outputs": [],
      "source": [
        "pass"
      ]
    },
    {
      "cell_type": "markdown",
      "metadata": {
        "id": "p6sX6lL8h6MF"
      },
      "source": [
        "4. Elabore um gráfico da função $x^2-2$ entre o intrvalo $[-4,4]$ e ilustre com uma seta o ponto de minimo"
      ]
    },
    {
      "cell_type": "code",
      "execution_count": null,
      "metadata": {
        "id": "r8u8qt_sh6MF"
      },
      "outputs": [],
      "source": [
        "pass"
      ]
    },
    {
      "cell_type": "markdown",
      "metadata": {
        "id": "RTlXICIOh6MG"
      },
      "source": [
        "5. Plote o a função $e^{ax}$ no intervalor $[0,100000]$ num eixo x sendo log. Tente explicar o porque gráfico tem esse formato"
      ]
    },
    {
      "cell_type": "code",
      "execution_count": null,
      "metadata": {
        "id": "iHVdKWQRh6MG"
      },
      "outputs": [],
      "source": [
        "pass"
      ]
    },
    {
      "cell_type": "markdown",
      "metadata": {
        "id": "ycrTzksHh6MH"
      },
      "source": [
        "6. Implemente um gráfico de dispersão que compare dois conjuntos de dados $y$ diferentes em relação a um conjunto comum de valores $x$. Um dos conjuntos de dados é\n",
        "\n",
        "    ``data_x = [10.0, 8.0, 13.0, 9.0, 11.0, 14.0, 6.0, 4.0, 12.0, 7.0, 5.0]``\n",
        "\n",
        "    ``data_y = [9.14, 8.14, 8.74, 8.77, 9.26, 8.10, 6.13, 3.10, 9.13, 7.26, 4.74]``\n",
        "\n",
        "    O segundo conjunto deve ser uma versão escalada (multiplicada por 2) do ``data_y``. Crie um gráfico com esses dados com rótulos para os eixos, um título para o gráfico e uma legenda para identificar cada conjunto de dados."
      ]
    },
    {
      "cell_type": "code",
      "execution_count": null,
      "metadata": {
        "id": "OkQSW7xNh6MH"
      },
      "outputs": [],
      "source": [
        "pass"
      ]
    },
    {
      "cell_type": "markdown",
      "metadata": {
        "id": "xk_Aa-JMh6MH"
      },
      "source": [
        "7. Para um ângulo $\\theta$ no intervalo $\\theta \\in [0, 2\\pi]$, as equações polares de um círculo de raio $R$ são:\n",
        "\n",
        "    $$\n",
        "    x = R\\cos(\\theta)\n",
        "    $$\n",
        "\n",
        "    $$\n",
        "    y = R\\sin(\\theta)\n",
        "    $$\n",
        "\n",
        "    Queremos desenhar um círculo.\n",
        "\n",
        "    - Crie um array para armazenar os valores de $\\theta$ — quanto mais valores você usar, mais suave será o círculo.\n",
        "    - Crie os arrays `x` e `y` a partir de $\\theta$ para a escolha de $R$.\n",
        "    - Plote `y` versus `x`.\n",
        "\n",
        "    Agora, procure pela função `fill()` do matplotlib e desenhe um círculo preenchido com uma cor sólida.\n"
      ]
    },
    {
      "cell_type": "code",
      "execution_count": null,
      "metadata": {
        "id": "LYUuG_jEh6MI"
      },
      "outputs": [],
      "source": [
        "pass"
      ]
    },
    {
      "cell_type": "markdown",
      "metadata": {
        "id": "tmuxk91sh6MI"
      },
      "source": [
        "8. Utilizando o comando:\n",
        "\n",
        "    ```\n",
        "    draw_circle(x0, y0, R, color)\n",
        "    ```\n",
        "\n",
        "    em que `(x0, y0)` é o centro do círculo, `R` é o raio e `color` é a cor do círculo.\n",
        "\n",
        "    Desenhe aleatoriamente 10 círculos em diferentes localizações, com raios aleatórios e cores aleatórias, todos no mesmo gráfico.\n"
      ]
    },
    {
      "cell_type": "code",
      "execution_count": null,
      "metadata": {
        "id": "alYNXEq_h6MJ"
      },
      "outputs": [],
      "source": [
        "pass"
      ]
    },
    {
      "cell_type": "markdown",
      "metadata": {
        "id": "GaYWMkc5h6MJ"
      },
      "source": [
        "9. As distâncias dos planetas em relação ao Sol (tecnicamente, seus eixos semi-maiores) são:\n",
        "\n",
        "    ``a = np.array([0.39, 0.72, 1.00, 1.52, 5.20, 9.54, 19.22, 30.06, 39.48])``\n",
        "\n",
        "    para os planetas:\n",
        "\n",
        "    ``nomes = [\"Mercury\", \"Venus\", \"Earth\", \"Mars\", \"Jupiter\", \"Saturn\",\n",
        "            \"Uranus\", \"Neptune\", \"Pluto\"]``\n",
        "\n",
        "    Essas distâncias estão em unidades onde a distância Terra-Sol é 1 (unidades astronômicas).\n",
        "\n",
        "    Os períodos correspondentes de suas órbitas (quanto tempo eles levam para dar uma volta completa ao redor do Sol) são, em anos.\n",
        "\n",
        "    ``P = np.array([0.24, 0.62, 1.00, 1.88, 11.86, 29.46, 84.01, 164.8, 248.09])``\n",
        "\n",
        "    - Plote os pontos, os períodos vs. as distâncias para cada planeta em um gráfico log-log.\n",
        "\n",
        "    - Escreva o nome do planeta ao lado do ponto correspondente a cada planeta no gráfico.\n",
        "\n",
        "\n"
      ]
    },
    {
      "cell_type": "markdown",
      "metadata": {
        "id": "6D7Hb7j-h6MJ"
      },
      "source": []
    },
    {
      "cell_type": "markdown",
      "source": [
        "10. Plote, no mesmo gráfico, as funções:\n",
        "\n",
        "\n",
        "\n",
        "*   f(x) = sin(x)\n",
        "*   g(x) = cos(x)\n",
        "*   h(x) = sin(x)ˆ2 + cos(x)ˆ2\n",
        "\n",
        "Use cores diferentes, legenda e título apropriado.\n",
        "\n"
      ],
      "metadata": {
        "id": "S8mNBHztic6d"
      }
    },
    {
      "cell_type": "code",
      "source": [
        "pass"
      ],
      "metadata": {
        "id": "oXkNkED4i-ga"
      },
      "execution_count": null,
      "outputs": []
    },
    {
      "cell_type": "markdown",
      "source": [
        "11. Gere 1000 número aleatórios com distribuição normal (média 0, desvio padrão 1) usando numpy.random.randn( ).\n",
        "\n",
        "* Plote um histograma com 30 bins;\n",
        "* Use a cor azul com transparência (alpha = 0.5);\n",
        "* Adicione título e rótulo dos eixos."
      ],
      "metadata": {
        "id": "1bTrkMjIi_fq"
      }
    },
    {
      "cell_type": "code",
      "source": [
        "pass"
      ],
      "metadata": {
        "id": "DQYy5cSGj_I4"
      },
      "execution_count": null,
      "outputs": []
    },
    {
      "cell_type": "markdown",
      "source": [
        "12. Considere os dados de porcentagem de linguagens mais usadas em um curso:\n",
        "\n",
        "labels = ['Python', 'C', 'Java', 'JavaScript', 'Outras']\n",
        "\n",
        "valores = [40, 25, 15, 10, 10]\n",
        "\n",
        "* Faça um gráfico de pizza com essas informações;\n",
        "* Destaque a fatia da linguagem Python (explode);\n",
        "* Adicione porcentagens nos rótulos."
      ],
      "metadata": {
        "id": "kwOaPCSCkACR"
      }
    },
    {
      "cell_type": "code",
      "source": [
        "pass"
      ],
      "metadata": {
        "id": "zRZmevWSk--X"
      },
      "execution_count": null,
      "outputs": []
    },
    {
      "cell_type": "markdown",
      "source": [
        "13. Use o matplotlib.pyplot.imread( ) para carregar uma imagem da internet (por exemplo: uma bandeira ou logotipo).\n",
        "\n",
        "* Use imshow para exibi-la;\n",
        "* Sobreponha 5 pontos aleatórios sobre a imagem usando scatter."
      ],
      "metadata": {
        "id": "eEQ94XNjk_1m"
      }
    },
    {
      "cell_type": "code",
      "source": [
        "pass"
      ],
      "metadata": {
        "id": "AVP7eFvFlnjA"
      },
      "execution_count": null,
      "outputs": []
    },
    {
      "cell_type": "markdown",
      "source": [
        "14. Considere a temperatura média mensal de duas cidades ao longo do ano:\n",
        "\n",
        "meses = [\"Jan\", \"Fev\", \"Mar\", \"Abr\", \"Mai\", \"Jun\", \"Jul\", \"Ago\", \"Set\", \"Out\", \"Nov\", \"Dez\"]\n",
        "\n",
        "cidade1 = [30, 32, 33, 29, 26, 24, 22, 23, 25, 28, 30, 31]\n",
        "\n",
        "cidade2 = [20, 21, 22, 23, 24, 25, 26, 26, 25, 24, 22, 21]\n",
        "\n",
        "* Plote as duas séries no mesmo gráfico com cores diferentes;\n",
        "* Adicione título, legenda, grade e rótulos nos eixos."
      ],
      "metadata": {
        "id": "b3o9L_9Nlon4"
      }
    },
    {
      "cell_type": "code",
      "source": [
        "pass"
      ],
      "metadata": {
        "id": "Q2HKwpKPnPNp"
      },
      "execution_count": null,
      "outputs": []
    },
    {
      "cell_type": "markdown",
      "source": [
        "15. Utilize mpl_toolkits.mplot3d para criar um gráfico 3D da função:\n",
        "\n",
        "$$\n",
        "z = \\sin(\\sqrt{xˆ2 + yˆ2})\n",
        "$$\n",
        "\n",
        "* Gere um grid de valores x e y com numpy.meshgrid;\n",
        "* Use plot_surface para desenhar;\n",
        "* Personalize com um colormap (ex: viridis)"
      ],
      "metadata": {
        "id": "5Rvg7jSznBVs"
      }
    },
    {
      "cell_type": "code",
      "source": [
        "pass"
      ],
      "metadata": {
        "id": "3hcaZr_LoMB1"
      },
      "execution_count": null,
      "outputs": []
    },
    {
      "cell_type": "code",
      "source": [],
      "metadata": {
        "id": "v5utU9i4nACH"
      },
      "execution_count": null,
      "outputs": []
    }
  ],
  "metadata": {
    "kernelspec": {
      "display_name": "base",
      "language": "python",
      "name": "python3"
    },
    "language_info": {
      "codemirror_mode": {
        "name": "ipython",
        "version": 3
      },
      "file_extension": ".py",
      "mimetype": "text/x-python",
      "name": "python",
      "nbconvert_exporter": "python",
      "pygments_lexer": "ipython3",
      "version": "3.11.7"
    },
    "colab": {
      "provenance": []
    }
  },
  "nbformat": 4,
  "nbformat_minor": 0
}