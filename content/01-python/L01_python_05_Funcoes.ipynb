{
 "cells": [
  {
   "cell_type": "markdown",
   "metadata": {},
   "source": [
    "# Funções"
   ]
  },
  {
   "cell_type": "markdown",
   "metadata": {},
   "source": [
    "As funções são usadas para organizar o fluxo do programa, especialmente para nos permitir realizar facilmente tarefas comumente necessárias repetidamente. Já usamos muitas funções, como aquelas que trabalham com listas (`append()` e `pop()`) ou strings (como `replace()`). Aqui, veremos como escrever nossas próprias funções."
   ]
  },
  {
   "cell_type": "markdown",
   "metadata": {},
   "source": [
    "Uma função recebe argumentos, listados entre `()`, e retorna um valor. Mesmo que você não forneça explicitamente um valor de retorno, um valor será retornado (por exemplo, `None`).\n",
    "\n",
    "Aqui está um exemplo simples de uma função que recebe um único argumento, `i`:"
   ]
  },
  {
   "cell_type": "code",
   "execution_count": null,
   "metadata": {},
   "outputs": [
    {
     "name": "stdout",
     "output_type": "stream",
     "text": [
      "na função temos que i = 10\n",
      "na função temos que i = 5\n"
     ]
    }
   ],
   "source": [
    "def minha_func(i):\n",
    "    print(f\"na função temos que i = {i}\")\n",
    "    \n",
    "minha_func(10)\n",
    "minha_func(5)"
   ]
  },
  {
   "cell_type": "markdown",
   "metadata": {},
   "source": [
    "As funções são um lugar onde o _escopo_ entra em jogo. Uma função tem seu próprio _namespace_. Se uma variável não estiver definida nessa função, ela procurará no namespace de onde foi chamada para ver se essa variável existe lá.\n",
    "\n",
    "No entanto, você deve evitar isso tanto quanto possível (variáveis que persistem entre namespaces são chamadas de variáveis globais).\n",
    "\n",
    "Veja se você entende o que está acontecendo aqui:"
   ]
  },
  {
   "cell_type": "code",
   "execution_count": null,
   "metadata": {},
   "outputs": [
    {
     "data": {
      "text/plain": [
       "(11, 101)"
      ]
     },
     "metadata": {},
     "output_type": "display_data"
    }
   ],
   "source": [
    "c=100\n",
    "\n",
    "def soma_c(a):\n",
    "    c= 10\n",
    "    return a+c\n",
    "\n",
    "def soma_c_denovo(a):\n",
    "    return a+c\n",
    "\n",
    "soma_c(1), soma_c_denovo(1)\n",
    "\n"
   ]
  },
  {
   "cell_type": "markdown",
   "metadata": {},
   "source": [
    "As funções sempre retornam um valor — se um valor não for explicitamente fornecido, então elas retornam `None`; caso contrário, podem retornar valores (até mesmo múltiplos valores) de qualquer tipo."
   ]
  },
  {
   "cell_type": "code",
   "execution_count": null,
   "metadata": {},
   "outputs": [
    {
     "name": "stdout",
     "output_type": "stream",
     "text": [
      "na função temos que i = 10\n"
     ]
    }
   ],
   "source": [
    "a = minha_func(10)"
   ]
  },
  {
   "cell_type": "code",
   "execution_count": null,
   "metadata": {},
   "outputs": [
    {
     "name": "stdout",
     "output_type": "stream",
     "text": [
      "None\n"
     ]
    }
   ],
   "source": [
    "print(a)"
   ]
  },
  {
   "cell_type": "markdown",
   "metadata": {},
   "source": [
    "Aqui está uma função simples que recebe dois números e retorna seu produto."
   ]
  },
  {
   "cell_type": "code",
   "execution_count": null,
   "metadata": {},
   "outputs": [
    {
     "data": {
      "text/plain": [
       "12"
      ]
     },
     "metadata": {},
     "output_type": "display_data"
    }
   ],
   "source": [
    "def multiplique(a, b):\n",
    "    return a*b\n",
    "\n",
    "c = multiplique(3, 4)\n",
    "c"
   ]
  },
  {
   "cell_type": "markdown",
   "metadata": {},
   "source": [
    "Retornar mais números é simples (sem estruturas, ponteiros e tudo isso)."
   ]
  },
  {
   "cell_type": "code",
   "execution_count": null,
   "metadata": {},
   "outputs": [
    {
     "data": {
      "text/plain": [
       "(11, 12)"
      ]
     },
     "metadata": {},
     "output_type": "display_data"
    }
   ],
   "source": [
    "def medêambos(a, b):\n",
    "    return a+10, b+10\n",
    "\n",
    "medêambos(1,2)"
   ]
  },
  {
   "cell_type": "markdown",
   "metadata": {},
   "source": [
    "```{admonition} Exercício Rapído\n",
    "    \n",
    "Escreva uma função simples que recebe uma frase (como uma string) e retorna um inteiro igual ao comprimento da palavra mais longa na frase. A função `len()` e o método `.split()` serão úteis aqui.\n",
    "\n",
    "```"
   ]
  },
  {
   "cell_type": "markdown",
   "metadata": {},
   "source": [
    "`None` é uma quantidade especial em Python (análoga ao `null` em algumas outras linguagens). Podemos testar se um valor é `None` — a maneira preferida é usar `is`:"
   ]
  },
  {
   "cell_type": "code",
   "execution_count": null,
   "metadata": {},
   "outputs": [
    {
     "name": "stdout",
     "output_type": "stream",
     "text": [
      "não fizemos nada\n"
     ]
    }
   ],
   "source": [
    "def faça_nada():\n",
    "    pass\n",
    "\n",
    "a = faça_nada()\n",
    "if a is None:\n",
    "    print(\"não fizemos nada\")"
   ]
  },
  {
   "cell_type": "code",
   "execution_count": null,
   "metadata": {},
   "outputs": [
    {
     "data": {
      "text/plain": [
       "True"
      ]
     },
     "metadata": {},
     "output_type": "display_data"
    }
   ],
   "source": [
    "a is None"
   ]
  },
  {
   "cell_type": "markdown",
   "metadata": {},
   "source": [
    "## Funções Mais Complexas\n",
    "\n",
    "Aqui está um exemplo mais complexo em que retornamos um par de variáveis. Também note a _docstring_ aqui."
   ]
  },
  {
   "cell_type": "markdown",
   "metadata": {},
   "source": [
    "```{information}\n",
    "A sequência de Fibonacci é uma série de números inteiros que começa com 0 e 1, na qual cada número seguinte é a soma dos dois números anteriores.\n",
    "```"
   ]
  },
  {
   "cell_type": "code",
   "execution_count": null,
   "metadata": {},
   "outputs": [
    {
     "name": "stdout",
     "output_type": "stream",
     "text": [
      "[0, 1, 1, 2, 3, 5, 8, 13, 21, 34, 55, 89, 144, 233] \n",
      " 14\n"
     ]
    }
   ],
   "source": [
    "def fib2(n):\n",
    "    \"\"\"Retorna uma lista contendo a série de Fibonacci até n.\"\"\"\n",
    "    result = []\n",
    "    a, b = 0, 1\n",
    "    while a < n:\n",
    "        result.append(a)    # see below\n",
    "        a, b = b, a+b\n",
    "    return result, len(result)\n",
    "\n",
    "fib, n = fib2(250)\n",
    "print(fib,\"\\n\",n)"
   ]
  },
  {
   "cell_type": "markdown",
   "metadata": {},
   "source": [
    "Observe que esta função inclui uma docstring (logo após a definição da função). Ela é utilizada pela função `help`."
   ]
  },
  {
   "cell_type": "code",
   "execution_count": null,
   "metadata": {},
   "outputs": [
    {
     "name": "stdout",
     "output_type": "stream",
     "text": [
      "Help on function fib2 in module __main__:\n",
      "\n",
      "fib2(n)\n",
      "    Retorna uma lista contendo a série de Fibonacci até n.\n",
      "\n"
     ]
    }
   ],
   "source": [
    "help(fib2)"
   ]
  },
  {
   "cell_type": "markdown",
   "metadata": {},
   "source": [
    "Você pode ter argumentos opcionais que fornecem valores padrão. Aqui está uma função simples que valida uma resposta, com um argumento opcional que pode fornecer a resposta correta."
   ]
  },
  {
   "cell_type": "code",
   "execution_count": 1,
   "metadata": {},
   "outputs": [
    {
     "name": "stdout",
     "output_type": "stream",
     "text": [
      "True\n",
      "False\n"
     ]
    }
   ],
   "source": [
    "def checar_resposta(val, resposta_correta=\"a\"):\n",
    "    return val == resposta_correta\n",
    "\n",
    "print(checar_resposta(\"a\"))\n",
    "print(checar_resposta(\"a\", resposta_correta=\"b\"))"
   ]
  },
  {
   "cell_type": "markdown",
   "metadata": {},
   "source": [
    "```{admonition} Exercício\n",
    "    \n",
    "\n",
    "Execute esses dois blocos de código e entenda/explique a diferença... **Isso leva a um dos erros mais comuns para iniciantes em Python**\n",
    "\n",
    "````python    \n",
    "    def f(a, L=[]):\n",
    "        L.append(a)\n",
    "        return L\n",
    "\n",
    "    print(f(1))\n",
    "    print(f(2))\n",
    "    print(f(3))\n",
    "    \n",
    "#-----------------\n",
    " \n",
    "    def fnew(a, L=None):\n",
    "        if L is None:\n",
    "            L = []\n",
    "        L.append(a)\n",
    "        return L\n",
    "\n",
    "    print(fnew(1))\n",
    "    print(fnew(2))\n",
    "    print(fnew(3))   \n",
    "\n",
    "```"
   ]
  },
  {
   "cell_type": "markdown",
   "metadata": {},
   "source": [
    "```{tip} \n",
    ":class: dropdown\n",
    "### Solução\n",
    "Observe que cada chamada na função `f` não cria sua própria lista separada. Em vez disso, uma única lista vazia foi criada quando a função `f` foi processada pela primeira vez, e essa lista persiste na memória como o valor padrão para o argumento opcional `L`.\n",
    "\n",
    "Se quisermos que uma lista única seja criada a cada vez (ou seja, um local separado na memória), devemos inicializar o valor do argumento como None e, em seguida, verificar seu valor real e criar uma lista vazia no corpo da função se o valor padrão não tiver sido alterado. Assim como foi executado na função `fnovo`\n",
    "```"
   ]
  },
  {
   "cell_type": "markdown",
   "metadata": {},
   "source": [
    "## Lambdas"
   ]
  },
  {
   "cell_type": "markdown",
   "metadata": {},
   "source": [
    "Lambdas são funções \"descartáveis\". Essas são pequenas funções sem nome que são frequentemente usadas como argumentos em outras funções. Os seguintes exemplos são equivalentes:"
   ]
  },
  {
   "cell_type": "code",
   "execution_count": null,
   "metadata": {},
   "outputs": [],
   "source": [
    "def aoquadrado(x):\n",
    "    return x**2\n",
    "\n",
    "aoquadrado = lambda x : x**2"
   ]
  },
  {
   "cell_type": "markdown",
   "metadata": {},
   "source": [
    "Por exemplo: temos uma lista de tuplas e queremos ordenar a lista com base no segundo item da tupla. O método `sort` pode receber um argumento opcional `key` que nos diz como interpretar o item da lista para a ordenação."
   ]
  },
  {
   "cell_type": "code",
   "execution_count": null,
   "metadata": {},
   "outputs": [
    {
     "data": {
      "text/plain": [
       "[(1, 'um'), (2, 'dois'), (3, 'três'), (4, 'quatro')]"
      ]
     },
     "metadata": {},
     "output_type": "display_data"
    }
   ],
   "source": [
    "pairs = [(1, 'um'), (2, 'dois'), (3, 'três'), (4, 'quatro')]\n",
    "pairs.sort()\n",
    "pairs"
   ]
  },
  {
   "cell_type": "code",
   "execution_count": null,
   "metadata": {},
   "outputs": [
    {
     "data": {
      "text/plain": [
       "[(2, 'dois'), (4, 'quatro'), (3, 'três'), (1, 'um')]"
      ]
     },
     "metadata": {},
     "output_type": "display_data"
    }
   ],
   "source": [
    "pairs.sort(key=lambda p: p[1])\n",
    "pairs"
   ]
  },
  {
   "cell_type": "markdown",
   "metadata": {},
   "source": [
    "Aqui usamos uma lambda em um extrato de uma lista (com a função filter)."
   ]
  },
  {
   "cell_type": "code",
   "execution_count": null,
   "metadata": {},
   "outputs": [
    {
     "data": {
      "text/plain": [
       "[1]"
      ]
     },
     "metadata": {},
     "output_type": "display_data"
    }
   ],
   "source": [
    "list(filter(lambda x:x==1, [1,2,3]))"
   ]
  },
  {
   "cell_type": "code",
   "execution_count": null,
   "metadata": {},
   "outputs": [
    {
     "data": {
      "text/plain": [
       "[0,\n",
       " 36,\n",
       " 144,\n",
       " 324,\n",
       " 576,\n",
       " 900,\n",
       " 1296,\n",
       " 1764,\n",
       " 2304,\n",
       " 2916,\n",
       " 3600,\n",
       " 4356,\n",
       " 5184,\n",
       " 6084,\n",
       " 7056,\n",
       " 8100,\n",
       " 9216]"
      ]
     },
     "metadata": {},
     "output_type": "display_data"
    }
   ],
   "source": [
    "squares = [x**2 for x in range(100)]\n",
    "sq = list(filter(lambda x : x%2 == 0 and x%3 == 0, squares))\n",
    "sq"
   ]
  }
 ],
 "metadata": {
  "kernelspec": {
   "display_name": "base",
   "language": "python",
   "name": "python3"
  },
  "language_info": {
   "codemirror_mode": {
    "name": "ipython",
    "version": 3
   },
   "file_extension": ".py",
   "mimetype": "text/x-python",
   "name": "python",
   "nbconvert_exporter": "python",
   "pygments_lexer": "ipython3",
   "version": "3.11.7"
  }
 },
 "nbformat": 4,
 "nbformat_minor": 4
}
