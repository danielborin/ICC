{
 "cells": [
  {
   "cell_type": "markdown",
   "source": [
    "# Introdução à Computação Científica\n\n",
    "### Prof. Daniel Borin\n\n",
    "![Image ICC](image_ICC.png)"
   ],
   "metadata": {}
  },
  {
   "cell_type": "markdown",
   "source": [
    "# Como usar este livro"
   ],
   "metadata": {}
  },
  {
   "cell_type": "markdown",
   "source": [
    "Este site é um livro digital construído com [Jupyter-Book](https://jupyterbook.org/intro.html), ele pode ser exibido tanto em dispositivos móveis quanto em PC. Ele foi desenvolvido a partir das notas de aula utilizada no curso de Introdução à Computação Científica. Na parte superior você encontrará alguns ícones para interatividade aprimorada, cada um dos quais é explicado abaixo."
   ],
   "metadata": {}
  },
  {
   "cell_type": "markdown",
   "source": [
    "## <i class=\"fa fa-rocket\" aria-hidden=\"true\"></i> Notebook Interativo\r\n",
    "\r\n",
    "Se este ícone estiver disponível, você poderá executar o notebook diretamente na nuvem. Existem as seguintes opções de interação:\r\n",
    "\r\n",
    "- <img src=\"https://sebasguts.github.io/GAPDaysBinderTutorial/images/logo.png\"  width=\"20\" height=\"20\"> Gera o [Binder](https://mybinder.org/) do documento atual: : Este é um projeto aberto com vínculos ao projeto Jupyter. Pode levar alguns minutos para a página aparecer, caso não tenha sido acessada recentemente, mas depois fornecerá a experiência padrão do Jupyter. \r\n",
    "\r\n",
    "- <img src=\"https://themachinelearners.com/wp-content/uploads/2020/05/colab_favicon_256px.png\"  width=\"20\" height=\"20\"> Gera o [Google Colab](https://colab.research.google.com) do documento atual: Esta é a versão do Google para notebooks online, que roda diretamente na nuvem do Google. Esse serviço inicia quase instantaneamente. \r\n",
    "\r\n",
    "- <i class=\"fas fa-play\"></i> Gera interação com o documento, permitindo executar os comandos na própria página \r\n",
    "\r\n",
    "Tanto o Binder quanto o Colab abrirão uma nova página, enquanto o Live Code atualizará a página atual sem recarregar. Tenha em mente que pode levar alguns segundos para que tudo seja preparado.\r\n"
   ],
   "metadata": {}
  },
  {
   "cell_type": "markdown",
   "source": [
    "## <i class=\"fas fa-expand\" aria-hidden=\"true\"></i> Modo Tela Cheia\r\n",
    "\r\n",
    "Este botão mudará para o modo tela cheia, pode ser útil quando estiver utilizando dispositivos de baixa resolução."
   ],
   "metadata": {}
  },
  {
   "cell_type": "markdown",
   "source": [
    "## <i class=\"fa fa-download\" aria-hidden=\"true\"></i> Baixar\r\n",
    "\r\n",
    "Se este ícone estiver presente, a página pode ser baixada. Dependendo do formato, as opções podem variar.\r\n",
    "\r\n",
    "- Jupyter notebook *.ipynb (quando disponível)\r\n",
    "- Markdown *.md (quando disponível)\r\n",
    "- Documento *.pdf (quando disponível, com impressão do navegador)"
   ],
   "metadata": {}
  },
  {
   "cell_type": "markdown",
   "source": [
    "## Ocultar/Mostrar"
   ],
   "metadata": {}
  },
  {
   "cell_type": "markdown",
   "source": [
    "Algumas páginas podem ter conteúdo ainda não exibido. Quando isso ocorrer, \"Show code cell output\" aparecerá embaixo da celula."
   ],
   "metadata": {}
  },
  {
   "cell_type": "code",
   "execution_count": 3,
   "source": [
    "print(\"Exemplo de 'Show code cell output'\")"
   ],
   "outputs": [
    {
     "output_type": "stream",
     "name": "stdout",
     "text": [
      "Exemplo de 'Show code cell output'\n"
     ]
    }
   ],
   "metadata": {
    "tags": [
     "hide-output"
    ]
   }
  },
  {
   "cell_type": "code",
   "execution_count": 2,
   "source": [
    "4 ** 4"
   ],
   "outputs": [
    {
     "output_type": "execute_result",
     "data": {
      "text/plain": [
       "256"
      ]
     },
     "metadata": {},
     "execution_count": 2
    }
   ],
   "metadata": {
    "tags": [
     "hide-output"
    ]
   }
  },
  {
   "cell_type": "markdown",
   "source": [
    "## Comentários Finais\r\n",
    "\r\n",
    "Se você ainda tiver alguma dúvida, fique à vontade para entrar em contato com o professor pelo e-mail [daniel.borin@unesp.br](mailto:daniel.borin@unesp.br)."
   ],
   "metadata": {}
  }
 ],
 "metadata": {
  "celltoolbar": "Edit Metadata",
  "kernelspec": {
   "display_name": "Python 3",
   "language": "python",
   "name": "python3"
  },
  "language_info": {
   "codemirror_mode": {
    "name": "ipython",
    "version": 3
   },
   "file_extension": ".py",
   "mimetype": "text/x-python",
   "name": "python",
   "nbconvert_exporter": "python",
   "pygments_lexer": "ipython3",
   "version": "3.7.9"
  },
  "toc": {
   "base_numbering": 1,
   "nav_menu": {},
   "number_sections": true,
   "sideBar": true,
   "skip_h1_title": false,
   "title_cell": "Conteúdo",
   "title_sidebar": "Conteúdo",
   "toc_cell": true,
   "toc_position": {},
   "toc_section_display": true,
   "toc_window_display": true
  }
 },
 "nbformat": 4,
 "nbformat_minor": 4
}
