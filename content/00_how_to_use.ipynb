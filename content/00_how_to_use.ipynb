{
 "cells": [
  {
   "cell_type": "markdown",
   "source": [
    "# Introdução à Computação Científica\n\n",
    "![Logo ICC](logo_ICC.png){width=200}"
   ],
   "metadata": {}
  },
  {
   "cell_type": "markdown",
   "source": [
    "# Como usar este livro"
   ],
   "metadata": {}
  },
  {
   "cell_type": "markdown",
   "source": [
    "Este site é um livro digital construído com [Jupyter-Book](https://jupyterbook.org/intro.html), ele pode ser exibido tanto em dispositivos móveis quanto em PC. Na parte superior você encontrará alguns ícones para interatividade aprimorada, cada um dos quais é explicado abaixo."
   ],
   "metadata": {}
  },
  {
   "cell_type": "markdown",
   "source": [
    "## <i class=\"fa fa-rocket\" aria-hidden=\"true\"></i> Notebook Interativo\r\n",
    "\r\n",
    "Se este ícone estiver disponível, você tem as seguintes opções de interação:\r\n",
    "\r\n",
    "- <img src=\"https://sebasguts.github.io/GAPDaysBinderTutorial/images/logo.png\"  width=\"20\" height=\"20\"> Gera o [Binder](https://mybinder.org/) do documento atual (Disponível apenas em arquivos .ipynb)\r\n",
    "\r\n",
    "- <img src=\"https://themachinelearners.com/wp-content/uploads/2020/05/colab_favicon_256px.png\"  width=\"20\" height=\"20\"> Gera o [Google Colab](https://colab.research.google.com) do documento atual (Disponível apenas em arquivos .ipynb)\r\n",
    "\r\n",
    "- <i class=\"fas fa-play\"></i> Gera interação no documento atual com [Thebe](https://github.com/executablebooks/thebe)\r\n",
    "\r\n",
    "Tanto o Binder quanto o Colab abrirão uma nova página, enquanto o Thebe atualizará a página atual sem recarregar. Tenha em mente que pode levar alguns segundos para que tudo seja preparado.\r\n"
   ],
   "metadata": {}
  },
  {
   "cell_type": "markdown",
   "source": [
    "## <i class=\"fas fa-expand\" aria-hidden=\"true\"></i> Modo Tela Cheia\r\n",
    "\r\n",
    "Este botão mudará para o modo tela cheia, pode ser útil quando estiver utilizando dispositivos de baixa resolução."
   ],
   "metadata": {}
  },
  {
   "cell_type": "markdown",
   "source": [
    "## <i class=\"fab fa-github\" aria-hidden=\"true\"></i> GitHub \r\n",
    " \r\n",
    "GitHub é um repositório de código e é o lugar onde todo o material fonte deste site está armazenado. \r\n",
    "\r\n",
    "- <i class=\"fab fa-github\" aria-hidden=\"true\"></i> Para ver o Repositório com todos os arquivos fonte\r\n",
    "\r\n",
    "- <i class=\"fas fa-pencil-alt\"></i> Para sugerir alterações no documento atual."
   ],
   "metadata": {}
  },
  {
   "cell_type": "markdown",
   "source": [
    "## <i class=\"fa fa-download\" aria-hidden=\"true\"></i> Baixar\r\n",
    "\r\n",
    "Se este ícone estiver presente, a página pode ser baixada. Dependendo do formato, as opções podem variar.\r\n",
    "\r\n",
    "- Jupyter notebook *.ipynb (quando disponível)\r\n",
    "- Markdown *.md (quando disponível)\r\n",
    "- Documento *.pdf (quando disponível, com impressão do navegador)"
   ],
   "metadata": {}
  },
  {
   "cell_type": "markdown",
   "source": [
    "## Ocultar/Mostrar"
   ],
   "metadata": {}
  },
  {
   "cell_type": "markdown",
   "source": [
    "Algumas páginas podem ter conteúdo ainda não exibido. Quando isso ocorrer, \"Clique para Mostrar\" aparecerá no lado direito."
   ],
   "metadata": {}
  },
  {
   "cell_type": "code",
   "execution_count": 3,
   "source": [
    "print(\"Exemplo de 'Clique para Mostrar'\")"
   ],
   "outputs": [
    {
     "output_type": "stream",
     "name": "stdout",
     "text": [
      "Exemplo de 'Clique para Mostrar'\n"
     ]
    }
   ],
   "metadata": {
    "tags": [
     "hide-output"
    ]
   }
  },
  {
   "cell_type": "code",
   "execution_count": 2,
   "source": [
    "4 ** 4"
   ],
   "outputs": [
    {
     "output_type": "execute_result",
     "data": {
      "text/plain": [
       "256"
      ]
     },
     "metadata": {},
     "execution_count": 2
    }
   ],
   "metadata": {
    "tags": [
     "hide-output"
    ]
   }
  },
  {
   "cell_type": "markdown",
   "source": [
    "## Comentários Finais\r\n",
    "\r\n",
    "Se você ainda tiver alguma dúvida, fique à vontade para entrar em contato com o administrador pelo e-mail no rodapé."
   ],
   "metadata": {}
  }
 ],
 "metadata": {
  "celltoolbar": "Edit Metadata",
  "kernelspec": {
   "display_name": "Python 3",
   "language": "python",
   "name": "python3"
  },
  "language_info": {
   "codemirror_mode": {
    "name": "ipython",
    "version": 3
   },
   "file_extension": ".py",
   "mimetype": "text/x-python",
   "name": "python",
   "nbconvert_exporter": "python",
   "pygments_lexer": "ipython3",
   "version": "3.7.9"
  },
  "toc": {
   "base_numbering": 1,
   "nav_menu": {},
   "number_sections": true,
   "sideBar": true,
   "skip_h1_title": false,
   "title_cell": "Conteúdo",
   "title_sidebar": "Conteúdo",
   "toc_cell": true,
   "toc_position": {},
   "toc_section_display": true,
   "toc_window_display": true
  }
 },
 "nbformat": 4,
 "nbformat_minor": 4
}
