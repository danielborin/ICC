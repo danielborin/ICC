{
  "cells": [
    {
      "cell_type": "markdown",
      "metadata": {
        "id": "VN9rNzkfaDss"
      },
      "source": [
        "# Exercicios: Sympy"
      ]
    },
    {
      "cell_type": "code",
      "execution_count": null,
      "metadata": {
        "id": "xcuSzzRraDsy"
      },
      "outputs": [],
      "source": [
        "import sympy as sym\n",
        "from sympy import init_session\n",
        "init_session()"
      ]
    },
    {
      "cell_type": "markdown",
      "metadata": {
        "id": "TPfdCuD0aDs1"
      },
      "source": [
        "1. Crie a expressão:\n",
        "\n",
        "    $$f = x e^{-x} + x (1-x)$$\n",
        "\n",
        "    Em seguida, avalie-a para\n",
        "\n",
        "    $$x = 0, 0.1, 0.2, 0.4, 0.8$$"
      ]
    },
    {
      "cell_type": "code",
      "execution_count": 2,
      "metadata": {
        "colab": {
          "base_uri": "https://localhost:8080/"
        },
        "id": "_rP60s4KaDs2",
        "outputId": "f260bdcd-cd65-4cce-e6fa-19b71c2a1663"
      },
      "outputs": [],
      "source": [
        "pass"
      ]
    },
    {
      "cell_type": "markdown",
      "metadata": {
        "id": "k5b9zTNeaDs3"
      },
      "source": [
        "2. Fatore o seguinte polinômio\n",
        "\n",
        "    $$x^{4} - 6 x^{3} + x^{2} + 24 x + 16$$\n",
        "\n",
        "    Em seguida, encontre suas raízes."
      ]
    },
    {
      "cell_type": "code",
      "execution_count": 1,
      "metadata": {
        "colab": {
          "base_uri": "https://localhost:8080/"
        },
        "id": "39vFFeA2aDs5",
        "outputId": "394bee11-70f8-4a63-bcfd-7fe491852333"
      },
      "outputs": [],
      "source": [
        "pass"
      ]
    },
    {
      "cell_type": "markdown",
      "metadata": {
        "id": "eQs8JATtaDs6"
      },
      "source": [
        "3. Integre a função:\n",
        "\n",
        "    $$f = \\sin(x) e^{-x}$$\n",
        "\n",
        "    Em seguida, diferencie o resultado para verificar se você retorna à função original."
      ]
    },
    {
      "cell_type": "code",
      "execution_count": null,
      "metadata": {
        "id": "XJS1PjbBaDs7"
      },
      "outputs": [],
      "source": []
    },
    {
      "cell_type": "markdown",
      "metadata": {
        "id": "HTmQUjGUaDs8"
      },
      "source": [
        "4. Escreva um programa que leia uma expressão matemática como uma string (por exemplo, `\"sin(2*pi*x)\"`), converta-a para uma expressão do sympy e então avalie conforme necessário.\n",
        "\n",
        "    Faça com que seu programa gere um gráfico da função inserida.\n",
        "    \n",
        "    Dica, utilize a função `parse_expr()` converte uma string em uma expressão do SymPy e a função `sympy.lambdify()` converte uma expressão do SymPy em uma função que pode ser chamada pelo Python(Você também pode torná-la compatível com o numpy, o que significa, por exemplo, que qualquer `sin()` na sua expressão do SymPy será avaliada usando `np.sin()`)."
      ]
    },
    {
      "cell_type": "code",
      "execution_count": 4,
      "metadata": {
        "id": "zJn9WcLSaDs8"
      },
      "outputs": [],
      "source": [
        "from sympy.parsing.sympy_parser import parse_expr\n",
        "from sympy import lambdify"
      ]
    },
    {
      "cell_type": "code",
      "execution_count": 6,
      "metadata": {
        "id": "A84VbC12aDs9",
        "outputId": "e863c7b1-ab85-4dfb-fb0f-02dcf2421e20"
      },
      "outputs": [],
      "source": [
        "pass"
      ]
    },
    {
      "cell_type": "markdown",
      "metadata": {
        "id": "hu65nv7ddM0T"
      },
      "source": [
        "5. Crie os símbolos $x$ e $y$, e mostre o resultado das expressões $x + y$, $x \\cdot y$ e $(x + y)^2$."
      ]
    },
    {
      "cell_type": "code",
      "execution_count": null,
      "metadata": {
        "id": "UPFAaSGJeCEa"
      },
      "outputs": [],
      "source": [
        "pass"
      ]
    },
    {
      "cell_type": "markdown",
      "metadata": {
        "id": "i2AROEySeDDC"
      },
      "source": [
        "6. Simplifique a expressão abaixo:\n",
        "$$\\frac{x^2-1}{x-1}$$"
      ]
    },
    {
      "cell_type": "code",
      "execution_count": null,
      "metadata": {
        "id": "jGksGlpcelKj"
      },
      "outputs": [],
      "source": [
        "pass"
      ]
    },
    {
      "cell_type": "markdown",
      "metadata": {
        "id": "XGIbo-8UemZ4"
      },
      "source": [
        "7. Considere a função:\n",
        "$$f(x) = \\sin(x)\\cdot e^{-x^2}$$\n",
        "\n",
        "a) Calcule a derivada simbólica de $f(x)$;\n",
        "\n",
        "b) Avalie $f(x)$ e sua derivada em $x=1$."
      ]
    },
    {
      "cell_type": "code",
      "execution_count": null,
      "metadata": {
        "id": "nYxLSIZ5fOJL"
      },
      "outputs": [],
      "source": [
        "pass"
      ]
    },
    {
      "cell_type": "markdown",
      "metadata": {
        "id": "CPjCcm_PfPJV"
      },
      "source": [
        "8. Escreva um programa que leia uma expressão matemática como uma string (por exemplo, \"sin(2*pi*x)\"), converta-a para uma expressão do SymPy e então avalie conforme necessário.\n",
        "\n",
        "Dica: utilize parse_expr e lambdify."
      ]
    },
    {
      "cell_type": "code",
      "execution_count": null,
      "metadata": {
        "id": "RuPoRFjJf3Cd"
      },
      "outputs": [],
      "source": [
        "pass"
      ]
    },
    {
      "cell_type": "markdown",
      "metadata": {
        "id": "pCcHavrvf4LA"
      },
      "source": [
        "9. Calcule a derivada de:\n",
        "\n",
        "$$f(x) = x^3 - 2x^2 + x - 5$$"
      ]
    },
    {
      "cell_type": "code",
      "execution_count": null,
      "metadata": {
        "id": "BphqOewFgHcr"
      },
      "outputs": [],
      "source": [
        "pass"
      ]
    },
    {
      "cell_type": "markdown",
      "metadata": {
        "id": "Z2d-EZYdgIao"
      },
      "source": [
        "10. Calcule a derivada de:\n",
        "\n",
        "$$f(x) = \\cos(x)\\cdot\\sin(x)$$"
      ]
    },
    {
      "cell_type": "code",
      "execution_count": null,
      "metadata": {
        "id": "25XnIF5QgVQ7"
      },
      "outputs": [],
      "source": [
        "pass"
      ]
    },
    {
      "cell_type": "markdown",
      "metadata": {
        "id": "aMCF0K0egWTH"
      },
      "source": [
        "11. Dada a expressão:\n",
        "\n",
        "$$(x + 2)^2\\cdot (x-3)$$\n",
        "\n",
        "a) Expanda a expressão;\n",
        "\n",
        "b) Em seguida, fatore o resultando da expansão."
      ]
    },
    {
      "cell_type": "code",
      "execution_count": null,
      "metadata": {
        "id": "q5IgBHaLgxBl"
      },
      "outputs": [],
      "source": [
        "pass"
      ]
    },
    {
      "cell_type": "markdown",
      "metadata": {
        "id": "WOlNISQmgyFq"
      },
      "source": [
        "12. Resolva a equação:\n",
        "\n",
        "$$x^2 - 5x + 6= 0$$"
      ]
    },
    {
      "cell_type": "code",
      "execution_count": null,
      "metadata": {
        "id": "hRoc9zqZg-0h"
      },
      "outputs": [],
      "source": [
        "pass"
      ]
    },
    {
      "cell_type": "markdown",
      "metadata": {
        "id": "5F3i9E07hAW7"
      },
      "source": [
        "13. Dada a expressão:\n",
        "$$f(x, y) = x^2 + y^2$$\n",
        "\n",
        "Substitua $x = 3$ e $y = 4$ e avalie."
      ]
    },
    {
      "cell_type": "code",
      "execution_count": null,
      "metadata": {
        "id": "JmVfdyvWhPsD"
      },
      "outputs": [],
      "source": [
        "pass"
      ]
    },
    {
      "cell_type": "markdown",
      "metadata": {
        "id": "BbY0bhl4hQdN"
      },
      "source": [
        "14. Calcule a soma simbólica:\n",
        "\n",
        "$$\\sum_{i=1}^{n}i^2$$"
      ]
    },
    {
      "cell_type": "code",
      "execution_count": null,
      "metadata": {
        "id": "7z-QyxfPhdY6"
      },
      "outputs": [],
      "source": [
        "pass"
      ]
    },
    {
      "cell_type": "markdown",
      "metadata": {
        "id": "lWD8tLo9heso"
      },
      "source": [
        "15. Resolva o seguinte sistema:\n",
        "\n",
        "$$\n",
        "\\begin{cases}\n",
        "x + y = 5 \\\\\n",
        "x - y = 1\n",
        "\\end{cases}\n",
        "$$"
      ]
    },
    {
      "cell_type": "code",
      "execution_count": null,
      "metadata": {
        "id": "_1dhMBNthvfb"
      },
      "outputs": [],
      "source": [
        "pass"
      ]
    },
    {
      "cell_type": "markdown",
      "metadata": {
        "id": "NzsuxLs0hwwU"
      },
      "source": []
    }
  ],
  "metadata": {
    "colab": {
      "provenance": []
    },
    "kernelspec": {
      "display_name": "base",
      "language": "python",
      "name": "python3"
    },
    "language_info": {
      "codemirror_mode": {
        "name": "ipython",
        "version": 3
      },
      "file_extension": ".py",
      "mimetype": "text/x-python",
      "name": "python",
      "nbconvert_exporter": "python",
      "pygments_lexer": "ipython3",
      "version": "3.11.7"
    }
  },
  "nbformat": 4,
  "nbformat_minor": 0
}
