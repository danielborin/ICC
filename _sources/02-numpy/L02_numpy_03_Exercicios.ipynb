{
 "cells": [
  {
   "cell_type": "markdown",
   "metadata": {
    "id": "MWlZuTTLaK_r"
   },
   "source": [
    "# Exercícios: Numpy"
   ]
  },
  {
   "cell_type": "code",
   "execution_count": null,
   "metadata": {
    "id": "3KWdAALbaK_t"
   },
   "outputs": [],
   "source": [
    "import numpy as np"
   ]
  },
  {
   "cell_type": "markdown",
   "metadata": {
    "id": "jhAIQa2daK_u"
   },
   "source": [
    "1. Crie os seguintes arrays:\n",
    "\n",
    "    - Crie um array com 5 zeros.\n",
    "    - Crie um array com 10 uns.\n",
    "    - Crie um array com 5 valores 3.141.\n",
    "    - Crie um array com os inteiros de 1 a 20.\n",
    "    - Crie uma matriz 5 x 5 de uns com o tipo de dado `int`."
   ]
  },
  {
   "cell_type": "code",
   "execution_count": null,
   "metadata": {
    "colab": {
     "base_uri": "https://localhost:8080/"
    },
    "executionInfo": {
     "elapsed": 216,
     "status": "ok",
     "timestamp": 1747740489957,
     "user": {
      "displayName": "Luana Gitti Nunes",
      "userId": "09889087784338131102"
     },
     "user_tz": 180
    },
    "id": "bGWbi-L_aK_v",
    "outputId": "7a1b47e3-5354-49ce-d9c2-554b5b9ad9d3"
   },
   "outputs": [],
   "source": [
    "pass"
   ]
  },
  {
   "cell_type": "markdown",
   "metadata": {
    "id": "dYzBkRY8aK_v"
   },
   "source": [
    "2. Use o numpy para:\n",
    "\n",
    "    - Criar uma matriz 3D de 3 x 3 x 3 cheia de números aleatórios retirados de uma distribuição normal padrão (dica: np.random.randn()).\n",
    "    - Redimensionar a matriz acima para o formato (27,)."
   ]
  },
  {
   "cell_type": "code",
   "execution_count": 2,
   "metadata": {
    "colab": {
     "base_uri": "https://localhost:8080/"
    },
    "executionInfo": {
     "elapsed": 19,
     "status": "ok",
     "timestamp": 1747740755704,
     "user": {
      "displayName": "Luana Gitti Nunes",
      "userId": "09889087784338131102"
     },
     "user_tz": 180
    },
    "id": "KtJjQO78aK_w",
    "outputId": "d834960a-f824-46d5-b66d-700a184f9ffd"
   },
   "outputs": [],
   "source": [
    "pass"
   ]
  },
  {
   "cell_type": "markdown",
   "metadata": {
    "id": "m7LOMgVcaK_w"
   },
   "source": [
    "3. Crie um array com 20 números espaçados linearmente entre 1 e 10."
   ]
  },
  {
   "cell_type": "code",
   "execution_count": 3,
   "metadata": {
    "colab": {
     "base_uri": "https://localhost:8080/"
    },
    "executionInfo": {
     "elapsed": 22,
     "status": "ok",
     "timestamp": 1748348269941,
     "user": {
      "displayName": "Luana Gitti Nunes",
      "userId": "09889087784338131102"
     },
     "user_tz": 180
    },
    "id": "0PWOOynEaK_w",
    "outputId": "79790579-03f1-44bb-eb21-1caea2dc82a0"
   },
   "outputs": [],
   "source": [
    "pass"
   ]
  },
  {
   "cell_type": "markdown",
   "metadata": {
    "id": "nkNV8eS5aK_w"
   },
   "source": [
    "4. Considere a seguinte array:\n",
    "\n",
    "    ``a = np.arange(1, 26).reshape(5, 5)``\n",
    "\n",
    "    Utilize indexação para obter os seguintes resultados:\n",
    "\n",
    "    - ``20``\n",
    "    - ```\n",
    "        array([[ 9, 10],\n",
    "        [14, 15],\n",
    "        [19, 20],\n",
    "        [24, 25]])\n",
    "      ```\n",
    "    - ```array([ 6,  7,  8,  9, 10])```\n",
    "\n",
    "    - ```\n",
    "        array([[11, 12, 13, 14, 15],\n",
    "        [16, 17, 18, 19, 20]])\n",
    "      ```  \n",
    "\n",
    "    - ```\n",
    "        array([[ 8,  9],\n",
    "        [13, 14]])\n",
    "      ```     "
   ]
  },
  {
   "cell_type": "code",
   "execution_count": null,
   "metadata": {
    "colab": {
     "base_uri": "https://localhost:8080/"
    },
    "executionInfo": {
     "elapsed": 39,
     "status": "ok",
     "timestamp": 1748348921559,
     "user": {
      "displayName": "Luana Gitti Nunes",
      "userId": "09889087784338131102"
     },
     "user_tz": 180
    },
    "id": "TAqhYT9GaK_x",
    "outputId": "a8108a38-48dd-4989-bf66-26a2b86011a7"
   },
   "outputs": [
    {
     "name": "stdout",
     "output_type": "stream",
     "text": [
      "[[ 1  2  3  4  5]\n",
      " [ 6  7  8  9 10]\n",
      " [11 12 13 14 15]\n",
      " [16 17 18 19 20]\n",
      " [21 22 23 24 25]]\n"
     ]
    }
   ],
   "source": [
    "pass"
   ]
  },
  {
   "cell_type": "markdown",
   "metadata": {
    "id": "QiSJOa3iaK_x"
   },
   "source": [
    "5. Considere a seguinte array:\n",
    "\n",
    "    ``a = np.arange(1, 17).reshape(4, 4)``\n",
    "\n",
    "    a) Calcule a soma de todos os numeros de `a`\n",
    "\n",
    "    b) Calcule a soma de cada linha de ``a``\n",
    "\n",
    "    c) Extraia todos os valores de `a` que são maiores que a média de `a` (dica: use uma máscara booleana)."
   ]
  },
  {
   "cell_type": "code",
   "execution_count": null,
   "metadata": {
    "id": "NrcJ-a9MaK_x"
   },
   "outputs": [],
   "source": [
    "pass"
   ]
  },
  {
   "cell_type": "markdown",
   "metadata": {
    "id": "pk3kCxMPaK_x"
   },
   "source": [
    "6. O Numpy possui uma função padrão para calcular o desvio padrão, `np.std()`. Porém, vamos escrever nossa própria função que opera sobre um array 1D (vetor). O desvio padrão é uma medida da \"largura\" da distribuição dos números dentro do vetor.\n",
    "\n",
    "    Dado um array $a$ e sua média $\\bar{a}$, o desvio padrão é calculado pela fórmula:\n",
    "\n",
    "    $$\n",
    "    \\sigma = \\left [ \\frac{1}{N} \\sum_{i=1}^N (a_i - \\bar{a})^2 \\right ]^{1/2}\n",
    "    $$\n",
    "\n",
    "    Agora, vamos criar uma função para calcular o desvio padrão de um array de entrada, `a`:\n",
    "\n",
    "    1. Primeiro, calcule a média dos elementos de `a` para obter $\\bar{a}$.\n",
    "    2. Em seguida, calcule a soma dos quadrados de $(a - \\bar{a})$.\n",
    "    3. Depois, divida essa soma pelo número de elementos no array.\n",
    "    4. Por fim, tire a raiz quadrada (você pode usar `np.sqrt()` para isso).\n",
    "\n",
    "    Teste sua função utilizando um array aleatório e compare o resultado com o da função `np.std()` do Numpy. Não se esqueça de verificar também o tempo de execução.\n",
    "\n"
   ]
  },
  {
   "cell_type": "code",
   "execution_count": null,
   "metadata": {
    "id": "usJF5ba8aK_y"
   },
   "outputs": [],
   "source": [
    "pass"
   ]
  },
  {
   "cell_type": "markdown",
   "metadata": {
    "id": "zp8nUmUdaK_y"
   },
   "source": [
    "7. Crie uma matriz 10 x 10 inicializada com números aleatórios entre 0 e 10. Em seguida, calcule a média da matriz (existe uma função do numpy para isso, `np.mean()`).\n"
   ]
  },
  {
   "cell_type": "code",
   "execution_count": null,
   "metadata": {
    "id": "v7HbK9ypaK_y"
   },
   "outputs": [],
   "source": [
    "pass"
   ]
  },
  {
   "cell_type": "markdown",
   "metadata": {
    "id": "3fD3dVC7aK_y"
   },
   "source": [
    "8. Crie uma função que gere uma aposta válida para a Mega Sena. A função deve produzir uma lista com 6 números aleatórios, variando entre 1 e 60, sem números repetidos."
   ]
  },
  {
   "cell_type": "code",
   "execution_count": null,
   "metadata": {
    "id": "ng4XPxfvaK_y"
   },
   "outputs": [],
   "source": [
    "pass"
   ]
  },
  {
   "cell_type": "markdown",
   "metadata": {
    "id": "zG-XaF61aK_z"
   },
   "source": [
    "9. Você tem uma lista em que cada elemento representa o valor gasto em reais em uma compra feita com seu cartão:\n",
    "\n",
    "    ```\n",
    "    L = [13.5, 8.0, 5.99, 27.30, 199.99, 57.21]\n",
    "    ```\n",
    "\n",
    "    Faça um programa cujo objetivo é calcular a porcentagem de cada valor em relação ao total gasto, dividindo cada gasto pelo total da lista para obter a porcentagem correspondente a cada compra."
   ]
  },
  {
   "cell_type": "code",
   "execution_count": null,
   "metadata": {
    "id": "ySv6UsMRaK_z"
   },
   "outputs": [],
   "source": [
    "pass"
   ]
  },
  {
   "cell_type": "markdown",
   "metadata": {
    "id": "cuH2OI7saK_z"
   },
   "source": [
    "10. Crie um array com ângulos em graus: 0, 15, 30, … até 90 (ou seja, de 15 em 15 graus até 90).\n",
    "\n",
    "    Em seguida, crie 3 novos arrays contendo, respectivamente, o seno, cosseno e tangente dos elementos do primeiro array.\n",
    "\n",
    "    Por fim, calcule o arco seno, arco cosseno e arco tangente dos arrays acima e compare os resultados com os ângulos originais.\n"
   ]
  },
  {
   "cell_type": "code",
   "execution_count": null,
   "metadata": {
    "id": "Fca_sfX6aK_z"
   },
   "outputs": [],
   "source": []
  },
  {
   "cell_type": "markdown",
   "metadata": {
    "id": "EqT2U9ndaK_z"
   },
   "source": [
    "11. Desenvolva uma função que receba uma matriz quadrada de dimensão n x n e retorne a matriz triangular superior. Nesse tipo de matriz, todos os elementos abaixo da diagonal principal devem ser substituídos por zeros, mantendo os valores na diagonal e acima dela."
   ]
  },
  {
   "cell_type": "code",
   "execution_count": null,
   "metadata": {
    "id": "wY68i3aiaK_0"
   },
   "outputs": [],
   "source": [
    "pass"
   ]
  },
  {
   "cell_type": "markdown",
   "metadata": {
    "id": "SJ_Q37aYaK_0"
   },
   "source": [
    "12. Dado o array:\n",
    "\n",
    "    ```\n",
    "    x = np.array([1, -1, 2, 5, 8, 4, 10, 12, 3])\n",
    "    ```\n",
    "\n",
    "    Calcule a diferença entre cada elemento e seu vizinho."
   ]
  },
  {
   "cell_type": "code",
   "execution_count": null,
   "metadata": {
    "id": "rIJmntCgaK_0"
   },
   "outputs": [],
   "source": [
    "pass"
   ]
  },
  {
   "cell_type": "markdown",
   "metadata": {
    "id": "zo1kkuUqaK_0"
   },
   "source": [
    "13. Dada uma matriz de ordem n x n, crie funções para:\n",
    "\n",
    "    a) Calcular a soma dos elementos presentes na diagonal principal da matriz.\n",
    "\n",
    "    b) Calcular a soma dos elementos presentes na diagonal secundária.\n",
    "\n",
    "    c) Calcular a soma dos elementos em cada linha da matriz.\n",
    "\n",
    "    d) Calcular a soma dos elementos em cada coluna da matriz."
   ]
  },
  {
   "cell_type": "code",
   "execution_count": null,
   "metadata": {
    "id": "lGus4uPdaK_0"
   },
   "outputs": [],
   "source": [
    "pass"
   ]
  },
  {
   "cell_type": "markdown",
   "metadata": {
    "id": "7EsaF1xNaK_0"
   },
   "source": [
    "14. Dada uma matriz quadrada n x n, faça uma função que diga se ela é simétrica ou não. Teste para `np.random.randint(1, 99, (5, 5))`"
   ]
  },
  {
   "cell_type": "code",
   "execution_count": null,
   "metadata": {
    "id": "WbJCfZbJaK_1"
   },
   "outputs": [],
   "source": [
    "pass"
   ]
  },
  {
   "cell_type": "markdown",
   "metadata": {
    "id": "soXs6EaFaK_1"
   },
   "source": [
    "15. Desenvolva um programa para calcular a multiplicação de duas matrizes $C = AB$, onde $A$, $B$ e $C$ são matrizes de ordem $n \\times n$. Em seguida, compare o resultado obtido pela sua implementação com o resultado da função `dot` do pacote Numpy."
   ]
  },
  {
   "cell_type": "code",
   "execution_count": null,
   "metadata": {
    "id": "IzG_7hbHaK_1"
   },
   "outputs": [],
   "source": [
    "pass"
   ]
  },
  {
   "cell_type": "markdown",
   "metadata": {
    "id": "g11VnJd0k3CB"
   },
   "source": [
    "16. Crie uma matriz 4x3 com valores aleatórios inteiros entre 1 e 100. Em seguida imprima:\n",
    "\n",
    "\n",
    "*   A matriz original\n",
    "*   A matriz transposta (use .T)\n",
    "\n"
   ]
  },
  {
   "cell_type": "code",
   "execution_count": null,
   "metadata": {
    "id": "YLVRG1ttlVeb"
   },
   "outputs": [],
   "source": [
    "pass"
   ]
  },
  {
   "cell_type": "markdown",
   "metadata": {
    "id": "GEs2O317lZi7"
   },
   "source": [
    "17. Crie um array NumPy com 10 valores aleatórios entre 0 e 100.\n",
    "Normalize o array de modo que os valores fiquem entre 0 e 1, com a fórmula:\n",
    "xnormalizado = x - min(x)/max(x) - min(x)"
   ]
  },
  {
   "cell_type": "code",
   "execution_count": null,
   "metadata": {
    "id": "Kkp_HzeumXmc"
   },
   "outputs": [],
   "source": [
    "pass"
   ]
  },
  {
   "cell_type": "markdown",
   "metadata": {
    "id": "iJza85llmYwS"
   },
   "source": [
    "18. Crie um matriz 3 x 4 com valores inteiros aleatórios entre 1 e 50. Depois calcule a média dos elementos de cada linha da matriz. Dica: use np.mean(matrzi, axis = 1)"
   ]
  },
  {
   "cell_type": "code",
   "execution_count": null,
   "metadata": {
    "id": "VTHOxcvYnmqd"
   },
   "outputs": [],
   "source": [
    "pass"
   ]
  },
  {
   "cell_type": "markdown",
   "metadata": {
    "id": "pCvTJAMEnnnA"
   },
   "source": [
    "19. Crie uma matriz 3x3 com valores inteiros aleatórios entre 1 e 10. Calcule o determinante dessa matriz usando np.linalg.det()."
   ]
  },
  {
   "cell_type": "code",
   "execution_count": null,
   "metadata": {
    "id": "Wnf6BBxBoVre"
   },
   "outputs": [],
   "source": [
    "pass"
   ]
  },
  {
   "cell_type": "markdown",
   "metadata": {
    "id": "P6MqruLKoWsN"
   },
   "source": [
    "20. Crie uma matriz 5x3 com números inteiros aleatórios entre 10 e 99. Encontre o maior valor de cada coluna da matriz. Dica: use np.max(matriz, axis=0)."
   ]
  },
  {
   "cell_type": "code",
   "execution_count": null,
   "metadata": {
    "id": "5jqA-Ltdozmf"
   },
   "outputs": [],
   "source": [
    "pass"
   ]
  }
 ],
 "metadata": {
  "colab": {
   "provenance": []
  },
  "kernelspec": {
   "display_name": "base",
   "language": "python",
   "name": "python3"
  },
  "language_info": {
   "codemirror_mode": {
    "name": "ipython",
    "version": 3
   },
   "file_extension": ".py",
   "mimetype": "text/x-python",
   "name": "python",
   "nbconvert_exporter": "python",
   "pygments_lexer": "ipython3",
   "version": "3.11.7"
  }
 },
 "nbformat": 4,
 "nbformat_minor": 0
}
